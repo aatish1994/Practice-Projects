{
 "cells": [
  {
   "cell_type": "markdown",
   "id": "50ba653c",
   "metadata": {},
   "source": [
    "# Problem Statement:\n",
    "Insurance Forecast by using Linear Regression\n",
    "\n",
    "Health insurance is a type of insurance that covers medical expenses that arise due to an illness. These expenses could be related to hospitalisation costs, cost of medicines or doctor consultation fees. The main purpose of medical insurance is to receive the best medical care without any strain on your finances. Health insurance plans offer protection against high medical costs. It covers hospitalization expenses, day care procedures, domiciliary expenses, and ambulance charges, besides many others. Based on certain input features such as age , bmi,,no of dependents ,smoker ,region  medical insurance is calculated ."
   ]
  },
  {
   "cell_type": "code",
   "execution_count": 603,
   "id": "1d0c07d9",
   "metadata": {},
   "outputs": [],
   "source": [
    "#Importing required libraries\n",
    "import pandas as pd\n",
    "import numpy as np\n",
    "import seaborn as sns\n",
    "import matplotlib.pyplot as plt\n",
    "%matplotlib inline\n",
    "import warnings\n",
    "warnings.filterwarnings('ignore')"
   ]
  },
  {
   "cell_type": "code",
   "execution_count": 604,
   "id": "2c1546ed",
   "metadata": {},
   "outputs": [],
   "source": [
    "#Loading Dataset\n",
    "data=pd.read_csv('medical_cost_insurance.csv')"
   ]
  },
  {
   "cell_type": "code",
   "execution_count": 605,
   "id": "922edf94",
   "metadata": {},
   "outputs": [
    {
     "data": {
      "text/html": [
       "<div>\n",
       "<style scoped>\n",
       "    .dataframe tbody tr th:only-of-type {\n",
       "        vertical-align: middle;\n",
       "    }\n",
       "\n",
       "    .dataframe tbody tr th {\n",
       "        vertical-align: top;\n",
       "    }\n",
       "\n",
       "    .dataframe thead th {\n",
       "        text-align: right;\n",
       "    }\n",
       "</style>\n",
       "<table border=\"1\" class=\"dataframe\">\n",
       "  <thead>\n",
       "    <tr style=\"text-align: right;\">\n",
       "      <th></th>\n",
       "      <th>age</th>\n",
       "      <th>sex</th>\n",
       "      <th>bmi</th>\n",
       "      <th>children</th>\n",
       "      <th>smoker</th>\n",
       "      <th>region</th>\n",
       "      <th>charges</th>\n",
       "    </tr>\n",
       "  </thead>\n",
       "  <tbody>\n",
       "    <tr>\n",
       "      <th>0</th>\n",
       "      <td>19</td>\n",
       "      <td>female</td>\n",
       "      <td>27.900</td>\n",
       "      <td>0</td>\n",
       "      <td>yes</td>\n",
       "      <td>southwest</td>\n",
       "      <td>16884.92400</td>\n",
       "    </tr>\n",
       "    <tr>\n",
       "      <th>1</th>\n",
       "      <td>18</td>\n",
       "      <td>male</td>\n",
       "      <td>33.770</td>\n",
       "      <td>1</td>\n",
       "      <td>no</td>\n",
       "      <td>southeast</td>\n",
       "      <td>1725.55230</td>\n",
       "    </tr>\n",
       "    <tr>\n",
       "      <th>2</th>\n",
       "      <td>28</td>\n",
       "      <td>male</td>\n",
       "      <td>33.000</td>\n",
       "      <td>3</td>\n",
       "      <td>no</td>\n",
       "      <td>southeast</td>\n",
       "      <td>4449.46200</td>\n",
       "    </tr>\n",
       "    <tr>\n",
       "      <th>3</th>\n",
       "      <td>33</td>\n",
       "      <td>male</td>\n",
       "      <td>22.705</td>\n",
       "      <td>0</td>\n",
       "      <td>no</td>\n",
       "      <td>northwest</td>\n",
       "      <td>21984.47061</td>\n",
       "    </tr>\n",
       "    <tr>\n",
       "      <th>4</th>\n",
       "      <td>32</td>\n",
       "      <td>male</td>\n",
       "      <td>28.880</td>\n",
       "      <td>0</td>\n",
       "      <td>no</td>\n",
       "      <td>northwest</td>\n",
       "      <td>3866.85520</td>\n",
       "    </tr>\n",
       "  </tbody>\n",
       "</table>\n",
       "</div>"
      ],
      "text/plain": [
       "   age     sex     bmi  children smoker     region      charges\n",
       "0   19  female  27.900         0    yes  southwest  16884.92400\n",
       "1   18    male  33.770         1     no  southeast   1725.55230\n",
       "2   28    male  33.000         3     no  southeast   4449.46200\n",
       "3   33    male  22.705         0     no  northwest  21984.47061\n",
       "4   32    male  28.880         0     no  northwest   3866.85520"
      ]
     },
     "execution_count": 605,
     "metadata": {},
     "output_type": "execute_result"
    }
   ],
   "source": [
    "data.head()"
   ]
  },
  {
   "cell_type": "code",
   "execution_count": 606,
   "id": "28830553",
   "metadata": {},
   "outputs": [
    {
     "data": {
      "text/plain": [
       "(1338, 7)"
      ]
     },
     "execution_count": 606,
     "metadata": {},
     "output_type": "execute_result"
    }
   ],
   "source": [
    "#Checking Shape\n",
    "data.shape"
   ]
  },
  {
   "cell_type": "markdown",
   "id": "98119905",
   "metadata": {},
   "source": [
    "In the dataset there are 1338 rows and 7 columns"
   ]
  },
  {
   "cell_type": "code",
   "execution_count": 607,
   "id": "33acb187",
   "metadata": {},
   "outputs": [
    {
     "data": {
      "text/plain": [
       "age         0\n",
       "sex         0\n",
       "bmi         0\n",
       "children    0\n",
       "smoker      0\n",
       "region      0\n",
       "charges     0\n",
       "dtype: int64"
      ]
     },
     "execution_count": 607,
     "metadata": {},
     "output_type": "execute_result"
    }
   ],
   "source": [
    "#Checking Null Values\n",
    "data.isna().sum()"
   ]
  },
  {
   "cell_type": "markdown",
   "id": "11158d86",
   "metadata": {},
   "source": [
    "There are no null values present in the dataset"
   ]
  },
  {
   "cell_type": "code",
   "execution_count": 608,
   "id": "5f7aeac0",
   "metadata": {},
   "outputs": [
    {
     "name": "stdout",
     "output_type": "stream",
     "text": [
      "<class 'pandas.core.frame.DataFrame'>\n",
      "RangeIndex: 1338 entries, 0 to 1337\n",
      "Data columns (total 7 columns):\n",
      " #   Column    Non-Null Count  Dtype  \n",
      "---  ------    --------------  -----  \n",
      " 0   age       1338 non-null   int64  \n",
      " 1   sex       1338 non-null   object \n",
      " 2   bmi       1338 non-null   float64\n",
      " 3   children  1338 non-null   int64  \n",
      " 4   smoker    1338 non-null   object \n",
      " 5   region    1338 non-null   object \n",
      " 6   charges   1338 non-null   float64\n",
      "dtypes: float64(2), int64(2), object(3)\n",
      "memory usage: 73.3+ KB\n"
     ]
    }
   ],
   "source": [
    "#Checking for data types\n",
    "data.info()"
   ]
  },
  {
   "cell_type": "markdown",
   "id": "a3c5f3bc",
   "metadata": {},
   "source": [
    "In this we can see that column age,children are integer type.\n",
    "Column sex,smoker,region are string type and\n",
    "Column bmi and charhes are of float type"
   ]
  },
  {
   "cell_type": "code",
   "execution_count": 609,
   "id": "b53dbd05",
   "metadata": {},
   "outputs": [
    {
     "data": {
      "text/html": [
       "<div>\n",
       "<style scoped>\n",
       "    .dataframe tbody tr th:only-of-type {\n",
       "        vertical-align: middle;\n",
       "    }\n",
       "\n",
       "    .dataframe tbody tr th {\n",
       "        vertical-align: top;\n",
       "    }\n",
       "\n",
       "    .dataframe thead th {\n",
       "        text-align: right;\n",
       "    }\n",
       "</style>\n",
       "<table border=\"1\" class=\"dataframe\">\n",
       "  <thead>\n",
       "    <tr style=\"text-align: right;\">\n",
       "      <th></th>\n",
       "      <th>age</th>\n",
       "      <th>bmi</th>\n",
       "      <th>children</th>\n",
       "      <th>charges</th>\n",
       "    </tr>\n",
       "  </thead>\n",
       "  <tbody>\n",
       "    <tr>\n",
       "      <th>count</th>\n",
       "      <td>1338.000000</td>\n",
       "      <td>1338.000000</td>\n",
       "      <td>1338.000000</td>\n",
       "      <td>1338.000000</td>\n",
       "    </tr>\n",
       "    <tr>\n",
       "      <th>mean</th>\n",
       "      <td>39.207025</td>\n",
       "      <td>30.663397</td>\n",
       "      <td>1.094918</td>\n",
       "      <td>13270.422265</td>\n",
       "    </tr>\n",
       "    <tr>\n",
       "      <th>std</th>\n",
       "      <td>14.049960</td>\n",
       "      <td>6.098187</td>\n",
       "      <td>1.205493</td>\n",
       "      <td>12110.011237</td>\n",
       "    </tr>\n",
       "    <tr>\n",
       "      <th>min</th>\n",
       "      <td>18.000000</td>\n",
       "      <td>15.960000</td>\n",
       "      <td>0.000000</td>\n",
       "      <td>1121.873900</td>\n",
       "    </tr>\n",
       "    <tr>\n",
       "      <th>25%</th>\n",
       "      <td>27.000000</td>\n",
       "      <td>26.296250</td>\n",
       "      <td>0.000000</td>\n",
       "      <td>4740.287150</td>\n",
       "    </tr>\n",
       "    <tr>\n",
       "      <th>50%</th>\n",
       "      <td>39.000000</td>\n",
       "      <td>30.400000</td>\n",
       "      <td>1.000000</td>\n",
       "      <td>9382.033000</td>\n",
       "    </tr>\n",
       "    <tr>\n",
       "      <th>75%</th>\n",
       "      <td>51.000000</td>\n",
       "      <td>34.693750</td>\n",
       "      <td>2.000000</td>\n",
       "      <td>16639.912515</td>\n",
       "    </tr>\n",
       "    <tr>\n",
       "      <th>max</th>\n",
       "      <td>64.000000</td>\n",
       "      <td>53.130000</td>\n",
       "      <td>5.000000</td>\n",
       "      <td>63770.428010</td>\n",
       "    </tr>\n",
       "  </tbody>\n",
       "</table>\n",
       "</div>"
      ],
      "text/plain": [
       "               age          bmi     children       charges\n",
       "count  1338.000000  1338.000000  1338.000000   1338.000000\n",
       "mean     39.207025    30.663397     1.094918  13270.422265\n",
       "std      14.049960     6.098187     1.205493  12110.011237\n",
       "min      18.000000    15.960000     0.000000   1121.873900\n",
       "25%      27.000000    26.296250     0.000000   4740.287150\n",
       "50%      39.000000    30.400000     1.000000   9382.033000\n",
       "75%      51.000000    34.693750     2.000000  16639.912515\n",
       "max      64.000000    53.130000     5.000000  63770.428010"
      ]
     },
     "execution_count": 609,
     "metadata": {},
     "output_type": "execute_result"
    }
   ],
   "source": [
    "#Description of dataset\n",
    "data.describe()"
   ]
  },
  {
   "cell_type": "code",
   "execution_count": 610,
   "id": "a39048e8",
   "metadata": {},
   "outputs": [
    {
     "data": {
      "text/plain": [
       "(1337, 7)"
      ]
     },
     "execution_count": 610,
     "metadata": {},
     "output_type": "execute_result"
    }
   ],
   "source": [
    "#Checking for duplicates\n",
    "data.drop_duplicates(inplace=True)\n",
    "data.shape"
   ]
  },
  {
   "cell_type": "markdown",
   "id": "4ef98d31",
   "metadata": {},
   "source": [
    "we can see that previously 1338 rows were there, after removing duplicates it came down to 1337, that means there was one duplicate present"
   ]
  },
  {
   "cell_type": "code",
   "execution_count": 611,
   "id": "4ec54107",
   "metadata": {},
   "outputs": [
    {
     "data": {
      "text/plain": [
       "array([19, 18, 28, 33, 32, 31, 46, 37, 60, 25, 62, 23, 56, 27, 52, 30, 34,\n",
       "       59, 63, 55, 22, 26, 35, 24, 41, 38, 36, 21, 48, 40, 58, 53, 43, 64,\n",
       "       20, 61, 44, 57, 29, 45, 54, 49, 47, 51, 42, 50, 39], dtype=int64)"
      ]
     },
     "execution_count": 611,
     "metadata": {},
     "output_type": "execute_result"
    }
   ],
   "source": [
    "#Checking unique values of\n",
    "data['age'].unique()"
   ]
  },
  {
   "cell_type": "markdown",
   "id": "0f666fd2",
   "metadata": {},
   "source": [
    "There are people of different age group. Younger one is one wuth age 18years and elder one is one with age 64."
   ]
  },
  {
   "cell_type": "code",
   "execution_count": 612,
   "id": "1e3351ea",
   "metadata": {},
   "outputs": [
    {
     "data": {
      "text/plain": [
       "47"
      ]
     },
     "execution_count": 612,
     "metadata": {},
     "output_type": "execute_result"
    }
   ],
   "source": [
    "#Checking number of unique values present in age\n",
    "data['age'].nunique()"
   ]
  },
  {
   "cell_type": "markdown",
   "id": "192d2d86",
   "metadata": {},
   "source": [
    "So there are total of 47 diffrent age group people"
   ]
  },
  {
   "cell_type": "code",
   "execution_count": 613,
   "id": "8a6b2a95",
   "metadata": {},
   "outputs": [
    {
     "data": {
      "text/plain": [
       "39.222139117427076"
      ]
     },
     "execution_count": 613,
     "metadata": {},
     "output_type": "execute_result"
    }
   ],
   "source": [
    "data['age'].mean()"
   ]
  },
  {
   "cell_type": "markdown",
   "id": "4eb08b74",
   "metadata": {},
   "source": [
    "So 39.22 is the mean of the age"
   ]
  },
  {
   "cell_type": "code",
   "execution_count": 614,
   "id": "da3e042a",
   "metadata": {},
   "outputs": [
    {
     "data": {
      "text/plain": [
       "array(['female', 'male'], dtype=object)"
      ]
     },
     "execution_count": 614,
     "metadata": {},
     "output_type": "execute_result"
    }
   ],
   "source": [
    "#Checking unique values for sex\n",
    "data['sex'].unique()"
   ]
  },
  {
   "cell_type": "code",
   "execution_count": 615,
   "id": "1ad3f897",
   "metadata": {},
   "outputs": [
    {
     "data": {
      "text/plain": [
       "array([27.9  , 33.77 , 33.   , 22.705, 28.88 , 25.74 , 33.44 , 27.74 ,\n",
       "       29.83 , 25.84 , 26.22 , 26.29 , 34.4  , 39.82 , 42.13 , 24.6  ,\n",
       "       30.78 , 23.845, 40.3  , 35.3  , 36.005, 32.4  , 34.1  , 31.92 ,\n",
       "       28.025, 27.72 , 23.085, 32.775, 17.385, 36.3  , 35.6  , 26.315,\n",
       "       28.6  , 28.31 , 36.4  , 20.425, 32.965, 20.8  , 36.67 , 39.9  ,\n",
       "       26.6  , 36.63 , 21.78 , 30.8  , 37.05 , 37.3  , 38.665, 34.77 ,\n",
       "       24.53 , 35.2  , 35.625, 33.63 , 28.   , 34.43 , 28.69 , 36.955,\n",
       "       31.825, 31.68 , 22.88 , 37.335, 27.36 , 33.66 , 24.7  , 25.935,\n",
       "       22.42 , 28.9  , 39.1  , 36.19 , 23.98 , 24.75 , 28.5  , 28.1  ,\n",
       "       32.01 , 27.4  , 34.01 , 29.59 , 35.53 , 39.805, 26.885, 38.285,\n",
       "       37.62 , 41.23 , 34.8  , 22.895, 31.16 , 27.2  , 26.98 , 39.49 ,\n",
       "       24.795, 31.3  , 38.28 , 19.95 , 19.3  , 31.6  , 25.46 , 30.115,\n",
       "       29.92 , 27.5  , 28.4  , 30.875, 27.94 , 35.09 , 29.7  , 35.72 ,\n",
       "       32.205, 28.595, 49.06 , 27.17 , 23.37 , 37.1  , 23.75 , 28.975,\n",
       "       31.35 , 33.915, 28.785, 28.3  , 37.4  , 17.765, 34.7  , 26.505,\n",
       "       22.04 , 35.9  , 25.555, 28.05 , 25.175, 31.9  , 36.   , 32.49 ,\n",
       "       25.3  , 29.735, 38.83 , 30.495, 37.73 , 37.43 , 24.13 , 37.145,\n",
       "       39.52 , 24.42 , 27.83 , 36.85 , 39.6  , 29.8  , 29.64 , 28.215,\n",
       "       37.   , 33.155, 18.905, 41.47 , 30.3  , 15.96 , 33.345, 37.7  ,\n",
       "       27.835, 29.2  , 26.41 , 30.69 , 41.895, 30.9  , 32.2  , 32.11 ,\n",
       "       31.57 , 26.2  , 30.59 , 32.8  , 18.05 , 39.33 , 32.23 , 24.035,\n",
       "       36.08 , 22.3  , 26.4  , 31.8  , 26.73 , 23.1  , 23.21 , 33.7  ,\n",
       "       33.25 , 24.64 , 33.88 , 38.06 , 41.91 , 31.635, 36.195, 17.8  ,\n",
       "       24.51 , 22.22 , 38.39 , 29.07 , 22.135, 26.8  , 30.02 , 35.86 ,\n",
       "       20.9  , 17.29 , 34.21 , 25.365, 40.15 , 24.415, 25.2  , 26.84 ,\n",
       "       24.32 , 42.35 , 19.8  , 32.395, 30.2  , 29.37 , 34.2  , 27.455,\n",
       "       27.55 , 20.615, 24.3  , 31.79 , 21.56 , 28.12 , 40.565, 27.645,\n",
       "       31.2  , 26.62 , 48.07 , 36.765, 33.4  , 45.54 , 28.82 , 22.99 ,\n",
       "       27.7  , 25.41 , 34.39 , 22.61 , 37.51 , 38.   , 33.33 , 34.865,\n",
       "       33.06 , 35.97 , 31.4  , 25.27 , 40.945, 34.105, 36.48 , 33.8  ,\n",
       "       36.7  , 36.385, 34.5  , 32.3  , 27.6  , 29.26 , 35.75 , 23.18 ,\n",
       "       25.6  , 35.245, 43.89 , 20.79 , 30.5  , 21.7  , 21.89 , 24.985,\n",
       "       32.015, 30.4  , 21.09 , 22.23 , 32.9  , 24.89 , 31.46 , 17.955,\n",
       "       30.685, 43.34 , 39.05 , 30.21 , 31.445, 19.855, 31.02 , 38.17 ,\n",
       "       20.6  , 47.52 , 20.4  , 38.38 , 24.31 , 23.6  , 21.12 , 30.03 ,\n",
       "       17.48 , 20.235, 17.195, 23.9  , 35.15 , 35.64 , 22.6  , 39.16 ,\n",
       "       27.265, 29.165, 16.815, 33.1  , 26.9  , 33.11 , 31.73 , 46.75 ,\n",
       "       29.45 , 32.68 , 33.5  , 43.01 , 36.52 , 26.695, 25.65 , 29.6  ,\n",
       "       38.6  , 23.4  , 46.53 , 30.14 , 30.   , 38.095, 28.38 , 28.7  ,\n",
       "       33.82 , 24.09 , 32.67 , 25.1  , 32.56 , 41.325, 39.5  , 34.3  ,\n",
       "       31.065, 21.47 , 25.08 , 43.4  , 25.7  , 27.93 , 39.2  , 26.03 ,\n",
       "       30.25 , 28.93 , 35.7  , 35.31 , 31.   , 44.22 , 26.07 , 25.8  ,\n",
       "       39.425, 40.48 , 38.9  , 47.41 , 35.435, 46.7  , 46.2  , 21.4  ,\n",
       "       23.8  , 44.77 , 32.12 , 29.1  , 37.29 , 43.12 , 36.86 , 34.295,\n",
       "       23.465, 45.43 , 23.65 , 20.7  , 28.27 , 35.91 , 29.   , 19.57 ,\n",
       "       31.13 , 21.85 , 40.26 , 33.725, 29.48 , 32.6  , 37.525, 23.655,\n",
       "       37.8  , 19.   , 21.3  , 33.535, 42.46 , 38.95 , 36.1  , 29.3  ,\n",
       "       39.7  , 38.19 , 42.4  , 34.96 , 42.68 , 31.54 , 29.81 , 21.375,\n",
       "       40.81 , 17.4  , 20.3  , 18.5  , 26.125, 41.69 , 24.1  , 36.2  ,\n",
       "       40.185, 39.27 , 34.87 , 44.745, 29.545, 23.54 , 40.47 , 40.66 ,\n",
       "       36.6  , 35.4  , 27.075, 28.405, 21.755, 40.28 , 30.1  , 32.1  ,\n",
       "       23.7  , 35.5  , 29.15 , 27.   , 37.905, 22.77 , 22.8  , 34.58 ,\n",
       "       27.1  , 19.475, 26.7  , 34.32 , 24.4  , 41.14 , 22.515, 41.8  ,\n",
       "       26.18 , 42.24 , 26.51 , 35.815, 41.42 , 36.575, 42.94 , 21.01 ,\n",
       "       24.225, 17.67 , 31.5  , 31.1  , 32.78 , 32.45 , 50.38 , 47.6  ,\n",
       "       25.4  , 29.9  , 43.7  , 24.86 , 28.8  , 29.5  , 29.04 , 38.94 ,\n",
       "       44.   , 20.045, 40.92 , 35.1  , 29.355, 32.585, 32.34 , 39.8  ,\n",
       "       24.605, 33.99 , 28.2  , 25.   , 33.2  , 23.2  , 20.1  , 32.5  ,\n",
       "       37.18 , 46.09 , 39.93 , 35.8  , 31.255, 18.335, 42.9  , 26.79 ,\n",
       "       39.615, 25.9  , 25.745, 28.16 , 23.56 , 40.5  , 35.42 , 39.995,\n",
       "       34.675, 20.52 , 23.275, 36.29 , 32.7  , 19.19 , 20.13 , 23.32 ,\n",
       "       45.32 , 34.6  , 18.715, 21.565, 23.   , 37.07 , 52.58 , 42.655,\n",
       "       21.66 , 32.   , 18.3  , 47.74 , 22.1  , 19.095, 31.24 , 29.925,\n",
       "       20.35 , 25.85 , 42.75 , 18.6  , 23.87 , 45.9  , 21.5  , 30.305,\n",
       "       44.88 , 41.1  , 40.37 , 28.49 , 33.55 , 40.375, 27.28 , 17.86 ,\n",
       "       33.3  , 39.14 , 21.945, 24.97 , 23.94 , 34.485, 21.8  , 23.3  ,\n",
       "       36.96 , 21.28 , 29.4  , 27.3  , 37.9  , 37.715, 23.76 , 25.52 ,\n",
       "       27.61 , 27.06 , 39.4  , 34.9  , 22.   , 30.36 , 27.8  , 53.13 ,\n",
       "       39.71 , 32.87 , 44.7  , 30.97 ])"
      ]
     },
     "execution_count": 615,
     "metadata": {},
     "output_type": "execute_result"
    }
   ],
   "source": [
    "#Checking unique values for bmi\n",
    "data['bmi'].unique()"
   ]
  },
  {
   "cell_type": "code",
   "execution_count": 616,
   "id": "d7776de8",
   "metadata": {},
   "outputs": [
    {
     "data": {
      "text/plain": [
       "548"
      ]
     },
     "execution_count": 616,
     "metadata": {},
     "output_type": "execute_result"
    }
   ],
   "source": [
    "#checking number of unique values present in bmi\n",
    "data['bmi'].nunique()"
   ]
  },
  {
   "cell_type": "code",
   "execution_count": 617,
   "id": "189990d2",
   "metadata": {},
   "outputs": [
    {
     "data": {
      "text/plain": [
       "array([0, 1, 3, 2, 5, 4], dtype=int64)"
      ]
     },
     "execution_count": 617,
     "metadata": {},
     "output_type": "execute_result"
    }
   ],
   "source": [
    "#Checking unique values of children\n",
    "data['children'].unique()"
   ]
  },
  {
   "cell_type": "code",
   "execution_count": 618,
   "id": "ce1743f6",
   "metadata": {},
   "outputs": [
    {
     "data": {
      "text/plain": [
       "array(['yes', 'no'], dtype=object)"
      ]
     },
     "execution_count": 618,
     "metadata": {},
     "output_type": "execute_result"
    }
   ],
   "source": [
    "#Checking unique values for smoker\n",
    "data['smoker'].unique()"
   ]
  },
  {
   "cell_type": "code",
   "execution_count": 619,
   "id": "40fa74ac",
   "metadata": {},
   "outputs": [
    {
     "data": {
      "text/plain": [
       "array(['southwest', 'southeast', 'northwest', 'northeast'], dtype=object)"
      ]
     },
     "execution_count": 619,
     "metadata": {},
     "output_type": "execute_result"
    }
   ],
   "source": [
    "#checking unique values for region\n",
    "data['region'].unique()"
   ]
  },
  {
   "cell_type": "code",
   "execution_count": 620,
   "id": "6275295b",
   "metadata": {},
   "outputs": [
    {
     "data": {
      "text/plain": [
       "18    69\n",
       "19    67\n",
       "50    29\n",
       "51    29\n",
       "47    29\n",
       "46    29\n",
       "45    29\n",
       "20    29\n",
       "48    29\n",
       "52    29\n",
       "22    28\n",
       "49    28\n",
       "54    28\n",
       "53    28\n",
       "21    28\n",
       "26    28\n",
       "24    28\n",
       "25    28\n",
       "28    28\n",
       "27    28\n",
       "23    28\n",
       "43    27\n",
       "29    27\n",
       "30    27\n",
       "41    27\n",
       "42    27\n",
       "44    27\n",
       "31    27\n",
       "40    27\n",
       "32    26\n",
       "33    26\n",
       "56    26\n",
       "34    26\n",
       "55    26\n",
       "57    26\n",
       "37    25\n",
       "59    25\n",
       "58    25\n",
       "36    25\n",
       "38    25\n",
       "35    25\n",
       "39    25\n",
       "61    23\n",
       "60    23\n",
       "63    23\n",
       "62    23\n",
       "64    22\n",
       "Name: age, dtype: int64"
      ]
     },
     "execution_count": 620,
     "metadata": {},
     "output_type": "execute_result"
    }
   ],
   "source": [
    "#checking the number of people present in different age group\n",
    "data.age.value_counts()"
   ]
  },
  {
   "cell_type": "markdown",
   "id": "553c7a56",
   "metadata": {},
   "source": [
    "Maximum people are of age group 18 years and minimum are of age group 22"
   ]
  },
  {
   "cell_type": "code",
   "execution_count": 621,
   "id": "9aceeb88",
   "metadata": {},
   "outputs": [
    {
     "data": {
      "text/plain": [
       "male      675\n",
       "female    662\n",
       "Name: sex, dtype: int64"
      ]
     },
     "execution_count": 621,
     "metadata": {},
     "output_type": "execute_result"
    }
   ],
   "source": [
    "#checking how many male and female are there\n",
    "data.sex.value_counts()"
   ]
  },
  {
   "cell_type": "markdown",
   "id": "861634d1",
   "metadata": {},
   "source": [
    " Total number of male=675 female=662"
   ]
  },
  {
   "cell_type": "code",
   "execution_count": 622,
   "id": "45b308f0",
   "metadata": {},
   "outputs": [
    {
     "data": {
      "text/plain": [
       "0    573\n",
       "1    324\n",
       "2    240\n",
       "3    157\n",
       "4     25\n",
       "5     18\n",
       "Name: children, dtype: int64"
      ]
     },
     "execution_count": 622,
     "metadata": {},
     "output_type": "execute_result"
    }
   ],
   "source": [
    "#checking how the number of chuldrens or dependent\n",
    "data.children.value_counts()"
   ]
  },
  {
   "cell_type": "markdown",
   "id": "31175604",
   "metadata": {},
   "source": [
    "In this we can see that most of the people that is 573 people does'nt have any children or dependent included in his or her insurance.\n",
    "About 324 people have 1 children or dependent included in his or insurance.\n",
    "About 240 people have 2 children or dependent included in his or insurance.\n",
    "About 157 people have 3 children or dependent included in his or insurance.\n",
    "About 25 people have 4 children or dependent included in his or insurance.\n",
    "About 18 people have 5 children or dependent included in his or insurance."
   ]
  },
  {
   "cell_type": "code",
   "execution_count": 623,
   "id": "8fa9f897",
   "metadata": {},
   "outputs": [
    {
     "data": {
      "text/plain": [
       "no     1063\n",
       "yes     274\n",
       "Name: smoker, dtype: int64"
      ]
     },
     "execution_count": 623,
     "metadata": {},
     "output_type": "execute_result"
    }
   ],
   "source": [
    "#Chucking the number of people who are smokes and who does'nt smoke\n",
    "data.smoker.value_counts()"
   ]
  },
  {
   "cell_type": "markdown",
   "id": "46b10365",
   "metadata": {},
   "source": [
    "About 1063 people does not smoke.\n",
    "And about 274 people smoke."
   ]
  },
  {
   "cell_type": "code",
   "execution_count": 624,
   "id": "a3735d92",
   "metadata": {},
   "outputs": [
    {
     "data": {
      "text/plain": [
       "southeast    364\n",
       "southwest    325\n",
       "northwest    324\n",
       "northeast    324\n",
       "Name: region, dtype: int64"
      ]
     },
     "execution_count": 624,
     "metadata": {},
     "output_type": "execute_result"
    }
   ],
   "source": [
    "#Checking how many people are from particular regions\n",
    "data.region.value_counts()"
   ]
  },
  {
   "cell_type": "markdown",
   "id": "8133893c",
   "metadata": {},
   "source": [
    "So about 364 people are from southeast region.\n",
    "325 people are from southwest region.\n",
    "and about 324 people are from northwest and northeast region."
   ]
  },
  {
   "cell_type": "code",
   "execution_count": 625,
   "id": "a89ceabb",
   "metadata": {},
   "outputs": [
    {
     "data": {
      "image/png": "[encoded data removed]",
      "text/plain": [
       "<Figure size 432x288 with 1 Axes>"
      ]
     },
     "metadata": {
      "needs_background": "light"
     },
     "output_type": "display_data"
    }
   ],
   "source": [
    "#Plotting distplot for age\n",
    "sns.distplot(data['age'],kde=True)\n",
    "plt.show()"
   ]
  },
  {
   "cell_type": "markdown",
   "id": "6a07334d",
   "metadata": {},
   "source": [
    "In this we can see that the data isnormally distributed like.Further will check the skeewness."
   ]
  },
  {
   "cell_type": "code",
   "execution_count": 626,
   "id": "3ad6d8b9",
   "metadata": {},
   "outputs": [
    {
     "data": {
      "image/png": "[encoded data removed]",
      "text/plain": [
       "<Figure size 432x288 with 1 Axes>"
      ]
     },
     "metadata": {
      "needs_background": "light"
     },
     "output_type": "display_data"
    }
   ],
   "source": [
    "#plotting countplot for sex\n",
    "sns.countplot(x='sex',data=data)\n",
    "plt.show()"
   ]
  },
  {
   "cell_type": "markdown",
   "id": "583c407f",
   "metadata": {},
   "source": [
    "So we can see that males are little bit more than female."
   ]
  },
  {
   "cell_type": "code",
   "execution_count": 627,
   "id": "e1bfbb22",
   "metadata": {},
   "outputs": [
    {
     "data": {
      "image/png": "[encoded data removed]",
      "text/plain": [
       "<Figure size 432x288 with 1 Axes>"
      ]
     },
     "metadata": {
      "needs_background": "light"
     },
     "output_type": "display_data"
    }
   ],
   "source": [
    "#plotting distplot for bmi\n",
    "sns.distplot(data['bmi'],kde=True)\n",
    "plt.show()"
   ]
  },
  {
   "cell_type": "markdown",
   "id": "e957d563",
   "metadata": {},
   "source": [
    "Data can be seen normally distributed.Further will check the skewness"
   ]
  },
  {
   "cell_type": "code",
   "execution_count": 628,
   "id": "4c76ab83",
   "metadata": {},
   "outputs": [
    {
     "data": {
      "image/png": "[encoded data removed]",
      "text/plain": [
       "<Figure size 432x288 with 1 Axes>"
      ]
     },
     "metadata": {
      "needs_background": "light"
     },
     "output_type": "display_data"
    }
   ],
   "source": [
    "#Plotting countplot for region\n",
    "sns.countplot(x='children',data=data)\n",
    "plt.show()"
   ]
  },
  {
   "cell_type": "markdown",
   "id": "b1662135",
   "metadata": {},
   "source": [
    "As explained above we can see that most of the peopl does'nt have any children or dependent included in his her insurance."
   ]
  },
  {
   "cell_type": "code",
   "execution_count": 629,
   "id": "6a14a55c",
   "metadata": {},
   "outputs": [
    {
     "data": {
      "image/png": "[encoded data removed]",
      "text/plain": [
       "<Figure size 432x288 with 1 Axes>"
      ]
     },
     "metadata": {
      "needs_background": "light"
     },
     "output_type": "display_data"
    }
   ],
   "source": [
    "#Plotting countplot for smoker\n",
    "sns.countplot(x='smoker',data=data)\n",
    "plt.show()"
   ]
  },
  {
   "cell_type": "markdown",
   "id": "fe3e77fe",
   "metadata": {},
   "source": [
    "So we can see that most of the people does not smoke "
   ]
  },
  {
   "cell_type": "code",
   "execution_count": 630,
   "id": "e655305d",
   "metadata": {},
   "outputs": [
    {
     "data": {
      "image/png": "[encoded data removed]",
      "text/plain": [
       "<Figure size 432x288 with 1 Axes>"
      ]
     },
     "metadata": {
      "needs_background": "light"
     },
     "output_type": "display_data"
    }
   ],
   "source": [
    "#Plotting countplot for region\n",
    "sns.countplot(x='region',data=data)\n",
    "plt.show()"
   ]
  },
  {
   "cell_type": "markdown",
   "id": "0768e5d0",
   "metadata": {},
   "source": [
    "So we can see that the most of the people are from southeast region"
   ]
  },
  {
   "cell_type": "code",
   "execution_count": 631,
   "id": "d6ad314d",
   "metadata": {},
   "outputs": [
    {
     "data": {
      "image/png": "[encoded data removed]",
      "text/plain": [
       "<Figure size 1440x720 with 1 Axes>"
      ]
     },
     "metadata": {
      "needs_background": "light"
     },
     "output_type": "display_data"
    }
   ],
   "source": [
    "#Plotting Barplot for age and charges\n",
    "plt.figure(figsize=(20,10))\n",
    "sns.barplot(x='age',y='charges',data=data)\n",
    "plt.title('Age vs Charges')\n",
    "plt.show()"
   ]
  },
  {
   "cell_type": "markdown",
   "id": "c2ea02a8",
   "metadata": {},
   "source": [
    "In this we can see that as the person is getting older the charges starts increasing"
   ]
  },
  {
   "cell_type": "code",
   "execution_count": 632,
   "id": "b06b1b41",
   "metadata": {},
   "outputs": [
    {
     "data": {
      "image/png": "[encoded data removed]",
      "text/plain": [
       "<Figure size 720x360 with 1 Axes>"
      ]
     },
     "metadata": {
      "needs_background": "light"
     },
     "output_type": "display_data"
    }
   ],
   "source": [
    "#plotting scatter plot for bmi and charges\n",
    "plt.figure(figsize=(10,5))\n",
    "plt.scatter(x='age',y='charges',data=data)\n",
    "plt.xlabel('Age')\n",
    "plt.ylabel('Charges')\n",
    "plt.title('Age vs Charges')\n",
    "plt.show()"
   ]
  },
  {
   "cell_type": "markdown",
   "id": "126e7791",
   "metadata": {},
   "source": [
    "So we can say like there is a relationship between age and charges"
   ]
  },
  {
   "cell_type": "code",
   "execution_count": 633,
   "id": "2859defe",
   "metadata": {},
   "outputs": [
    {
     "data": {
      "image/png": "[encoded data removed]",
      "text/plain": [
       "<Figure size 1440x720 with 1 Axes>"
      ]
     },
     "metadata": {
      "needs_background": "light"
     },
     "output_type": "display_data"
    }
   ],
   "source": [
    "#Plotting Bar plot for Age and charges with hue as sex\n",
    "plt.figure(figsize=(20,10))\n",
    "sns.barplot(x='age',y='charges',hue='sex',data=data)\n",
    "plt.title('Age vs Charges')\n",
    "plt.show()"
   ]
  },
  {
   "cell_type": "markdown",
   "id": "2a769d5d",
   "metadata": {},
   "source": [
    "This plot shows us about the charges of the males anf females accoridng to age"
   ]
  },
  {
   "cell_type": "code",
   "execution_count": 634,
   "id": "e7748e47",
   "metadata": {},
   "outputs": [
    {
     "data": {
      "image/png": "[encoded data removed]",
      "text/plain": [
       "<Figure size 1440x720 with 1 Axes>"
      ]
     },
     "metadata": {
      "needs_background": "light"
     },
     "output_type": "display_data"
    }
   ],
   "source": [
    "#Plottign Bar plot for Age and charges with hue as smoker\n",
    "plt.figure(figsize=(20,10))\n",
    "sns.barplot(x='age',y='charges',hue='smoker',data=data)\n",
    "plt.title('Age vs Charges')\n",
    "plt.show()"
   ]
  },
  {
   "cell_type": "markdown",
   "id": "b434f87f",
   "metadata": {},
   "source": [
    "In this we can see the diffrence of charges between the people who smokes and who does not smoke.So we can see like there is a rapid increase in the charges when the person smokes."
   ]
  },
  {
   "cell_type": "code",
   "execution_count": 635,
   "id": "7f9f03d1",
   "metadata": {},
   "outputs": [
    {
     "data": {
      "image/png": "[encoded data removed]",
      "text/plain": [
       "<Figure size 720x360 with 1 Axes>"
      ]
     },
     "metadata": {
      "needs_background": "light"
     },
     "output_type": "display_data"
    }
   ],
   "source": [
    "#Plotting Bar plot for smoker and cahrges\n",
    "plt.figure(figsize=(10,5))\n",
    "sns.barplot(x='smoker',y='charges',data=data)\n",
    "plt.title('Smoker vs Charges')\n",
    "plt.show()"
   ]
  },
  {
   "cell_type": "code",
   "execution_count": 636,
   "id": "7a6769c8",
   "metadata": {},
   "outputs": [
    {
     "data": {
      "image/png": "[encoded data removed]",
      "text/plain": [
       "<Figure size 1440x720 with 1 Axes>"
      ]
     },
     "metadata": {
      "needs_background": "light"
     },
     "output_type": "display_data"
    }
   ],
   "source": [
    "#plotting bar plot fro smoker and charges and hue as age\n",
    "plt.figure(figsize=(20,10))\n",
    "sns.barplot(x='smoker',y='charges',hue='age',data=data)\n",
    "plt.title('Smoker vs Charges')\n",
    "plt.show()"
   ]
  },
  {
   "cell_type": "markdown",
   "id": "d881b39d",
   "metadata": {},
   "source": [
    "we can see that inspite of the people who are old and who does not smoke there charges are pretty less than the people who smoke"
   ]
  },
  {
   "cell_type": "code",
   "execution_count": 637,
   "id": "fb907642",
   "metadata": {},
   "outputs": [
    {
     "data": {
      "image/png": "[encoded data removed]",
      "text/plain": [
       "<Figure size 720x360 with 1 Axes>"
      ]
     },
     "metadata": {
      "needs_background": "light"
     },
     "output_type": "display_data"
    }
   ],
   "source": [
    "#plotting scatter plot for bmi and charges\n",
    "plt.figure(figsize=(10,5))\n",
    "plt.scatter(x='smoker',y='charges',data=data)\n",
    "plt.xlabel('Smoker')\n",
    "plt.ylabel('Charges')\n",
    "plt.title('Smoker vs Charges')\n",
    "plt.show()"
   ]
  },
  {
   "cell_type": "markdown",
   "id": "2b777efe",
   "metadata": {},
   "source": [
    "We can see that there is a relationship between smoker and charges as the charges increases if the person smokes, and the charges decreases with person does not smoke."
   ]
  },
  {
   "cell_type": "code",
   "execution_count": 638,
   "id": "5440150c",
   "metadata": {},
   "outputs": [
    {
     "data": {
      "image/png": "[encoded data removed]",
      "text/plain": [
       "<Figure size 720x360 with 1 Axes>"
      ]
     },
     "metadata": {
      "needs_background": "light"
     },
     "output_type": "display_data"
    }
   ],
   "source": [
    "#plotting scatter plot for bmi and charges\n",
    "plt.figure(figsize=(10,5))\n",
    "sns.scatterplot(x='bmi',y='charges',hue='smoker',data=data)\n",
    "plt.xlabel('BMI')\n",
    "plt.ylabel('Charges')\n",
    "plt.title('BMI vs Charges')\n",
    "plt.show()"
   ]
  },
  {
   "cell_type": "markdown",
   "id": "d55c3cd5",
   "metadata": {},
   "source": [
    "In this we can see the scatter plot for bmi and charges.so in this we can say that there is a relationship between bmi and charges.And people who smokes with high bmi have more charges compared to the one who does not smoke"
   ]
  },
  {
   "cell_type": "code",
   "execution_count": 639,
   "id": "20ee9646",
   "metadata": {},
   "outputs": [
    {
     "data": {
      "image/png": "[encoded data removed]",
      "text/plain": [
       "<Figure size 720x360 with 1 Axes>"
      ]
     },
     "metadata": {
      "needs_background": "light"
     },
     "output_type": "display_data"
    }
   ],
   "source": [
    "#Plotting bar plot for sex and charges\n",
    "plt.figure(figsize=(10,5))\n",
    "sns.barplot(x='sex',y='charges',data=data)\n",
    "plt.title('Sex vs Charges')\n",
    "plt.show()"
   ]
  },
  {
   "cell_type": "markdown",
   "id": "e0a5e649",
   "metadata": {},
   "source": [
    "In this we can see that the charges for male and female are more over same"
   ]
  },
  {
   "cell_type": "code",
   "execution_count": 640,
   "id": "e7ce265d",
   "metadata": {},
   "outputs": [
    {
     "data": {
      "text/plain": [
       "sex     age\n",
       "female  18     33\n",
       "        19     33\n",
       "        47     15\n",
       "        48     15\n",
       "        51     15\n",
       "               ..\n",
       "male    60     12\n",
       "        61     11\n",
       "        62     11\n",
       "        63     11\n",
       "        64     11\n",
       "Name: age, Length: 94, dtype: int64"
      ]
     },
     "execution_count": 640,
     "metadata": {},
     "output_type": "execute_result"
    }
   ],
   "source": [
    "#checking how many males and females are of particular age group\n",
    "data.groupby('sex')['age'].value_counts()"
   ]
  },
  {
   "cell_type": "code",
   "execution_count": 641,
   "id": "0fab5c23",
   "metadata": {},
   "outputs": [
    {
     "data": {
      "text/plain": [
       "sex     smoker\n",
       "female  no        547\n",
       "        yes       115\n",
       "male    no        516\n",
       "        yes       159\n",
       "Name: smoker, dtype: int64"
      ]
     },
     "execution_count": 641,
     "metadata": {},
     "output_type": "execute_result"
    }
   ],
   "source": [
    "#Checking how many males and females smokes\n",
    "data.groupby('sex')['smoker'].value_counts()"
   ]
  },
  {
   "cell_type": "markdown",
   "id": "977d64e5",
   "metadata": {},
   "source": [
    "About 547 females and 516 males does not smoke and about 115 females and 159 males smokes"
   ]
  },
  {
   "cell_type": "code",
   "execution_count": 642,
   "id": "9ff60561",
   "metadata": {},
   "outputs": [
    {
     "data": {
      "image/png": "[encoded data removed]",
      "text/plain": [
       "<Figure size 432x288 with 1 Axes>"
      ]
     },
     "metadata": {
      "needs_background": "light"
     },
     "output_type": "display_data"
    }
   ],
   "source": [
    "#Ploting barplot for sex and smoker\n",
    "data.groupby('sex')['smoker'].value_counts().plot.barh()\n",
    "plt.show()"
   ]
  },
  {
   "cell_type": "markdown",
   "id": "026fd07b",
   "metadata": {},
   "source": [
    "Here we can clearly see that most of the male and females does not smoke."
   ]
  },
  {
   "cell_type": "code",
   "execution_count": 643,
   "id": "fa0c84fe",
   "metadata": {},
   "outputs": [
    {
     "data": {
      "image/png": "[encoded data removed]",
      "text/plain": [
       "<Figure size 720x360 with 1 Axes>"
      ]
     },
     "metadata": {
      "needs_background": "light"
     },
     "output_type": "display_data"
    }
   ],
   "source": [
    "#Plotting bar plot for sex and charges with hue as smoker\n",
    "plt.figure(figsize=(10,5))\n",
    "sns.barplot(x='sex',y='charges',hue='smoker',data=data)\n",
    "plt.title('Sex vs Charges')\n",
    "plt.show()"
   ]
  },
  {
   "cell_type": "markdown",
   "id": "5477e0a0",
   "metadata": {},
   "source": [
    "In this we can see that whether it is male or female if the person is smoking irrespective of the gender the charges are always high in comparison to the people who does not smoke."
   ]
  },
  {
   "cell_type": "code",
   "execution_count": 644,
   "id": "509f897d",
   "metadata": {},
   "outputs": [
    {
     "data": {
      "text/plain": [
       "sex     region   \n",
       "female  southeast    175\n",
       "        northwest    164\n",
       "        southwest    162\n",
       "        northeast    161\n",
       "male    southeast    189\n",
       "        northeast    163\n",
       "        southwest    163\n",
       "        northwest    160\n",
       "Name: region, dtype: int64"
      ]
     },
     "execution_count": 644,
     "metadata": {},
     "output_type": "execute_result"
    }
   ],
   "source": [
    "#checking how many males and females are from particular regions\n",
    "data.groupby('sex')['region'].value_counts()"
   ]
  },
  {
   "cell_type": "markdown",
   "id": "0433e725",
   "metadata": {},
   "source": [
    "So most of the females are from southeast region and most of the males are also from southeast region.\n",
    "Least number of females and males are from northeast and northwest respectively."
   ]
  },
  {
   "cell_type": "code",
   "execution_count": 645,
   "id": "2d3f579a",
   "metadata": {},
   "outputs": [
    {
     "data": {
      "image/png": "[encoded data removed]",
      "text/plain": [
       "<Figure size 432x288 with 1 Axes>"
      ]
     },
     "metadata": {
      "needs_background": "light"
     },
     "output_type": "display_data"
    }
   ],
   "source": [
    "#plotting barplot for sex and region\n",
    "data.groupby('sex')['region'].value_counts().plot.barh()\n",
    "plt.show()"
   ]
  },
  {
   "cell_type": "markdown",
   "id": "38adaf1e",
   "metadata": {},
   "source": [
    "so we can see that most of the males and females are from southeast"
   ]
  },
  {
   "cell_type": "code",
   "execution_count": 646,
   "id": "7c6633f2",
   "metadata": {},
   "outputs": [
    {
     "data": {
      "text/plain": [
       "sex     smoker  region   \n",
       "female  no      southwest    141\n",
       "                southeast    139\n",
       "                northwest    135\n",
       "                northeast    132\n",
       "        yes     southeast     36\n",
       "                northeast     29\n",
       "                northwest     29\n",
       "                southwest     21\n",
       "male    no      southeast    134\n",
       "                northwest    131\n",
       "                southwest    126\n",
       "                northeast    125\n",
       "        yes     southeast     55\n",
       "                northeast     38\n",
       "                southwest     37\n",
       "                northwest     29\n",
       "dtype: int64"
      ]
     },
     "execution_count": 646,
     "metadata": {},
     "output_type": "execute_result"
    }
   ],
   "source": [
    "#Checking the number of males and females who smokes more are from which region\n",
    "data.groupby('sex')['smoker','region'].value_counts()"
   ]
  },
  {
   "cell_type": "markdown",
   "id": "68e2aed7",
   "metadata": {},
   "source": [
    "Most of the females and males who does not smoke are from southwest and southeast respectively.\n",
    "Least of the females and males who does not smoke are northeast.\n",
    "Most of the females and males who smoke are from southeast.\n",
    "Least of the females and males who smoke are from southwest and northwest respectively."
   ]
  },
  {
   "cell_type": "code",
   "execution_count": 647,
   "id": "47a595ff",
   "metadata": {},
   "outputs": [
    {
     "data": {
      "image/png": "[encoded data removed]",
      "text/plain": [
       "<Figure size 432x288 with 1 Axes>"
      ]
     },
     "metadata": {
      "needs_background": "light"
     },
     "output_type": "display_data"
    }
   ],
   "source": [
    "#Plotting barplot for sex,smoker and region\n",
    "data.groupby('sex')['smoker','region'].value_counts().plot.barh()\n",
    "plt.show()"
   ]
  },
  {
   "cell_type": "markdown",
   "id": "6b6a1e8e",
   "metadata": {},
   "source": [
    "so we can clearly see that most of the  males and females who does not smoke are from southeast and southwest respectively.\n",
    "and the most of the males and females who smoke are from southeast."
   ]
  },
  {
   "cell_type": "code",
   "execution_count": 648,
   "id": "78635bda",
   "metadata": {},
   "outputs": [
    {
     "data": {
      "image/png": "[encoded data removed]",
      "text/plain": [
       "<Figure size 432x288 with 1 Axes>"
      ]
     },
     "metadata": {
      "needs_background": "light"
     },
     "output_type": "display_data"
    }
   ],
   "source": [
    "#Plotting bar plot for sex and charges with hue as smoker\n",
    "sns.countplot(x='sex',hue='region',data=data)\n",
    "plt.show()"
   ]
  },
  {
   "cell_type": "markdown",
   "id": "268cb449",
   "metadata": {},
   "source": [
    "so we can see that most of the males and females are from southeast"
   ]
  },
  {
   "cell_type": "code",
   "execution_count": 649,
   "id": "84c40239",
   "metadata": {},
   "outputs": [
    {
     "data": {
      "image/png": "[encoded data removed]",
      "text/plain": [
       "<Figure size 720x360 with 1 Axes>"
      ]
     },
     "metadata": {
      "needs_background": "light"
     },
     "output_type": "display_data"
    }
   ],
   "source": [
    "#plotting scatter plot for bmi and charges\n",
    "plt.figure(figsize=(10,5))\n",
    "plt.scatter(x='sex',y='charges',data=data)\n",
    "plt.xlabel('Sex')\n",
    "plt.ylabel('Charges')\n",
    "plt.title('Sex vs Charges')\n",
    "plt.show()"
   ]
  },
  {
   "cell_type": "markdown",
   "id": "8e81815e",
   "metadata": {},
   "source": [
    "It does not look like any relationship is there between sex and the charges. we will confirm it while checking correlation."
   ]
  },
  {
   "cell_type": "code",
   "execution_count": 650,
   "id": "b0670938",
   "metadata": {},
   "outputs": [
    {
     "data": {
      "image/png": "[encoded data removed]",
      "text/plain": [
       "<Figure size 720x360 with 1 Axes>"
      ]
     },
     "metadata": {
      "needs_background": "light"
     },
     "output_type": "display_data"
    }
   ],
   "source": [
    "#Plotting bar plot for sex and charges with hue as smoker\n",
    "plt.figure(figsize=(10,5))\n",
    "sns.barplot(x='children',y='charges',data=data)\n",
    "plt.title('Children vs Charges')\n",
    "plt.show()"
   ]
  },
  {
   "cell_type": "markdown",
   "id": "47b63019",
   "metadata": {},
   "source": [
    "This shows the charges of people who has children or dependent included in his/her insurance"
   ]
  },
  {
   "cell_type": "code",
   "execution_count": 651,
   "id": "cd215a06",
   "metadata": {},
   "outputs": [
    {
     "data": {
      "image/png": "[encoded data removed]",
      "text/plain": [
       "<Figure size 720x360 with 1 Axes>"
      ]
     },
     "metadata": {
      "needs_background": "light"
     },
     "output_type": "display_data"
    }
   ],
   "source": [
    "#Plotting bar plot for sex and charges with hue as smoker\n",
    "plt.figure(figsize=(10,5))\n",
    "sns.barplot(x='children',y='charges',hue='smoker',data=data)\n",
    "plt.title('Children vs Charges')\n",
    "plt.show()"
   ]
  },
  {
   "cell_type": "code",
   "execution_count": 652,
   "id": "8803a0a0",
   "metadata": {},
   "outputs": [
    {
     "data": {
      "image/png": "[encoded data removed]",
      "text/plain": [
       "<Figure size 720x360 with 1 Axes>"
      ]
     },
     "metadata": {
      "needs_background": "light"
     },
     "output_type": "display_data"
    }
   ],
   "source": [
    "#plotting scatter plot for bmi and charges\n",
    "plt.figure(figsize=(10,5))\n",
    "plt.scatter(x='children',y='charges',data=data)\n",
    "plt.xlabel('Children')\n",
    "plt.ylabel('Charges')\n",
    "plt.title('children vs Charges')\n",
    "plt.show()"
   ]
  },
  {
   "cell_type": "markdown",
   "id": "eb2f2bd7",
   "metadata": {},
   "source": [
    "It looks like there is a little bit relationship of children with charges."
   ]
  },
  {
   "cell_type": "code",
   "execution_count": 653,
   "id": "d75335fe",
   "metadata": {},
   "outputs": [
    {
     "data": {
      "image/png": "[encoded data removed]",
      "text/plain": [
       "<Figure size 720x360 with 1 Axes>"
      ]
     },
     "metadata": {
      "needs_background": "light"
     },
     "output_type": "display_data"
    }
   ],
   "source": [
    "#plotting scatter plot for bmi and charges\n",
    "plt.figure(figsize=(10,5))\n",
    "plt.scatter(x='region',y='charges',data=data)\n",
    "plt.xlabel('Region')\n",
    "plt.ylabel('Charges')\n",
    "plt.title('Region vs Charges')\n",
    "plt.show()"
   ]
  },
  {
   "cell_type": "markdown",
   "id": "4f88f44e",
   "metadata": {},
   "source": [
    "It does not look like thre is any relationship of region with charges."
   ]
  },
  {
   "cell_type": "code",
   "execution_count": 654,
   "id": "5e668519",
   "metadata": {},
   "outputs": [
    {
     "data": {
      "text/html": [
       "<div>\n",
       "<style scoped>\n",
       "    .dataframe tbody tr th:only-of-type {\n",
       "        vertical-align: middle;\n",
       "    }\n",
       "\n",
       "    .dataframe tbody tr th {\n",
       "        vertical-align: top;\n",
       "    }\n",
       "\n",
       "    .dataframe thead th {\n",
       "        text-align: right;\n",
       "    }\n",
       "</style>\n",
       "<table border=\"1\" class=\"dataframe\">\n",
       "  <thead>\n",
       "    <tr style=\"text-align: right;\">\n",
       "      <th></th>\n",
       "      <th>charges</th>\n",
       "    </tr>\n",
       "    <tr>\n",
       "      <th>smoker</th>\n",
       "      <th></th>\n",
       "    </tr>\n",
       "  </thead>\n",
       "  <tbody>\n",
       "    <tr>\n",
       "      <th>no</th>\n",
       "      <td>8440.660307</td>\n",
       "    </tr>\n",
       "    <tr>\n",
       "      <th>yes</th>\n",
       "      <td>32050.231832</td>\n",
       "    </tr>\n",
       "  </tbody>\n",
       "</table>\n",
       "</div>"
      ],
      "text/plain": [
       "             charges\n",
       "smoker              \n",
       "no       8440.660307\n",
       "yes     32050.231832"
      ]
     },
     "execution_count": 654,
     "metadata": {},
     "output_type": "execute_result"
    }
   ],
   "source": [
    "#Checking the mean of the charges who smoke and who does not smoke\n",
    "data.groupby('smoker')[['charges']].mean()"
   ]
  },
  {
   "cell_type": "markdown",
   "id": "bad375ff",
   "metadata": {},
   "source": [
    "In this we can see that mean of the charges who smoke 32050 and who does not smoke is 8440."
   ]
  },
  {
   "cell_type": "code",
   "execution_count": 655,
   "id": "92434c64",
   "metadata": {},
   "outputs": [
    {
     "data": {
      "image/png": "[encoded data removed]",
      "text/plain": [
       "<Figure size 432x288 with 1 Axes>"
      ]
     },
     "metadata": {},
     "output_type": "display_data"
    }
   ],
   "source": [
    "#Plotting pie chart to visualize the mean percentage of charges who smoke and who does not smoke\n",
    "smoker=['yes','no']\n",
    "x=[32050.231832,8440.660307]\n",
    "plt.pie(x,labels=smoker,autopct='%.2f',explode=[0.1,0])\n",
    "plt.show()"
   ]
  },
  {
   "cell_type": "markdown",
   "id": "86148152",
   "metadata": {},
   "source": [
    "In this we can see that the people who smoke have to appox 3-4 times more than the people who does not smoke."
   ]
  },
  {
   "cell_type": "code",
   "execution_count": 656,
   "id": "d5204d97",
   "metadata": {},
   "outputs": [
    {
     "data": {
      "text/html": [
       "<div>\n",
       "<style scoped>\n",
       "    .dataframe tbody tr th:only-of-type {\n",
       "        vertical-align: middle;\n",
       "    }\n",
       "\n",
       "    .dataframe tbody tr th {\n",
       "        vertical-align: top;\n",
       "    }\n",
       "\n",
       "    .dataframe thead th {\n",
       "        text-align: right;\n",
       "    }\n",
       "</style>\n",
       "<table border=\"1\" class=\"dataframe\">\n",
       "  <thead>\n",
       "    <tr style=\"text-align: right;\">\n",
       "      <th></th>\n",
       "      <th>charges</th>\n",
       "    </tr>\n",
       "    <tr>\n",
       "      <th>region</th>\n",
       "      <th></th>\n",
       "    </tr>\n",
       "  </thead>\n",
       "  <tbody>\n",
       "    <tr>\n",
       "      <th>northeast</th>\n",
       "      <td>13406.384516</td>\n",
       "    </tr>\n",
       "    <tr>\n",
       "      <th>northwest</th>\n",
       "      <td>12450.840844</td>\n",
       "    </tr>\n",
       "    <tr>\n",
       "      <th>southeast</th>\n",
       "      <td>14735.411438</td>\n",
       "    </tr>\n",
       "    <tr>\n",
       "      <th>southwest</th>\n",
       "      <td>12346.937377</td>\n",
       "    </tr>\n",
       "  </tbody>\n",
       "</table>\n",
       "</div>"
      ],
      "text/plain": [
       "                charges\n",
       "region                 \n",
       "northeast  13406.384516\n",
       "northwest  12450.840844\n",
       "southeast  14735.411438\n",
       "southwest  12346.937377"
      ]
     },
     "execution_count": 656,
     "metadata": {},
     "output_type": "execute_result"
    }
   ],
   "source": [
    "#Checking the mean of the charges as per to region wise\n",
    "data.groupby('region')[['charges']].mean()"
   ]
  },
  {
   "cell_type": "code",
   "execution_count": 657,
   "id": "8583b363",
   "metadata": {},
   "outputs": [
    {
     "data": {
      "image/png": "[encoded data removed]",
      "text/plain": [
       "<Figure size 432x288 with 1 Axes>"
      ]
     },
     "metadata": {},
     "output_type": "display_data"
    }
   ],
   "source": [
    "#Plotting pie chart to visualize the mean percentage of charges as per to regions\n",
    "regions=['northeast','northwest','southeast','southwest']\n",
    "x=[13406.384516,12450.840844,14735.411438,12346.937377]\n",
    "plt.pie(x,labels=regions,autopct='%.2f',explode=[0,0,0.1,0])\n",
    "plt.show()"
   ]
  },
  {
   "cell_type": "code",
   "execution_count": 658,
   "id": "1d2f9d9b",
   "metadata": {},
   "outputs": [],
   "source": [
    "#Since column Sex and Embarked have categorical values so using label encoder to encode\n",
    "#Importing required libraries\n",
    "from sklearn.preprocessing import LabelEncoder"
   ]
  },
  {
   "cell_type": "code",
   "execution_count": 659,
   "id": "7d1b45a2",
   "metadata": {},
   "outputs": [],
   "source": [
    "#Encoding column Sex, smoker and region\n",
    "lab_enc=LabelEncoder()\n",
    "df=lab_enc.fit_transform(data['sex'])\n",
    "df1=lab_enc.fit_transform(data['smoker'])\n",
    "df2=lab_enc.fit_transform(data['region'])"
   ]
  },
  {
   "cell_type": "code",
   "execution_count": 660,
   "id": "ae78fc56",
   "metadata": {},
   "outputs": [],
   "source": [
    "#Transfering data to column Sex, column smoker and column region\n",
    "data['sex']=df\n",
    "data['smoker']=df1\n",
    "data['region']=df2"
   ]
  },
  {
   "cell_type": "code",
   "execution_count": 661,
   "id": "2c2595f8",
   "metadata": {},
   "outputs": [
    {
     "data": {
      "text/html": [
       "<div>\n",
       "<style scoped>\n",
       "    .dataframe tbody tr th:only-of-type {\n",
       "        vertical-align: middle;\n",
       "    }\n",
       "\n",
       "    .dataframe tbody tr th {\n",
       "        vertical-align: top;\n",
       "    }\n",
       "\n",
       "    .dataframe thead th {\n",
       "        text-align: right;\n",
       "    }\n",
       "</style>\n",
       "<table border=\"1\" class=\"dataframe\">\n",
       "  <thead>\n",
       "    <tr style=\"text-align: right;\">\n",
       "      <th></th>\n",
       "      <th>age</th>\n",
       "      <th>sex</th>\n",
       "      <th>bmi</th>\n",
       "      <th>children</th>\n",
       "      <th>smoker</th>\n",
       "      <th>region</th>\n",
       "      <th>charges</th>\n",
       "    </tr>\n",
       "  </thead>\n",
       "  <tbody>\n",
       "    <tr>\n",
       "      <th>0</th>\n",
       "      <td>19</td>\n",
       "      <td>0</td>\n",
       "      <td>27.900</td>\n",
       "      <td>0</td>\n",
       "      <td>1</td>\n",
       "      <td>3</td>\n",
       "      <td>16884.92400</td>\n",
       "    </tr>\n",
       "    <tr>\n",
       "      <th>1</th>\n",
       "      <td>18</td>\n",
       "      <td>1</td>\n",
       "      <td>33.770</td>\n",
       "      <td>1</td>\n",
       "      <td>0</td>\n",
       "      <td>2</td>\n",
       "      <td>1725.55230</td>\n",
       "    </tr>\n",
       "    <tr>\n",
       "      <th>2</th>\n",
       "      <td>28</td>\n",
       "      <td>1</td>\n",
       "      <td>33.000</td>\n",
       "      <td>3</td>\n",
       "      <td>0</td>\n",
       "      <td>2</td>\n",
       "      <td>4449.46200</td>\n",
       "    </tr>\n",
       "    <tr>\n",
       "      <th>3</th>\n",
       "      <td>33</td>\n",
       "      <td>1</td>\n",
       "      <td>22.705</td>\n",
       "      <td>0</td>\n",
       "      <td>0</td>\n",
       "      <td>1</td>\n",
       "      <td>21984.47061</td>\n",
       "    </tr>\n",
       "    <tr>\n",
       "      <th>4</th>\n",
       "      <td>32</td>\n",
       "      <td>1</td>\n",
       "      <td>28.880</td>\n",
       "      <td>0</td>\n",
       "      <td>0</td>\n",
       "      <td>1</td>\n",
       "      <td>3866.85520</td>\n",
       "    </tr>\n",
       "  </tbody>\n",
       "</table>\n",
       "</div>"
      ],
      "text/plain": [
       "   age  sex     bmi  children  smoker  region      charges\n",
       "0   19    0  27.900         0       1       3  16884.92400\n",
       "1   18    1  33.770         1       0       2   1725.55230\n",
       "2   28    1  33.000         3       0       2   4449.46200\n",
       "3   33    1  22.705         0       0       1  21984.47061\n",
       "4   32    1  28.880         0       0       1   3866.85520"
      ]
     },
     "execution_count": 661,
     "metadata": {},
     "output_type": "execute_result"
    }
   ],
   "source": [
    "#Checking whether the data is encoded or not\n",
    "data.head()"
   ]
  },
  {
   "cell_type": "markdown",
   "id": "4de2a3bb",
   "metadata": {},
   "source": [
    "As we can see that the data has been encoded"
   ]
  },
  {
   "cell_type": "code",
   "execution_count": 662,
   "id": "04ed4693",
   "metadata": {},
   "outputs": [
    {
     "data": {
      "text/html": [
       "<div>\n",
       "<style scoped>\n",
       "    .dataframe tbody tr th:only-of-type {\n",
       "        vertical-align: middle;\n",
       "    }\n",
       "\n",
       "    .dataframe tbody tr th {\n",
       "        vertical-align: top;\n",
       "    }\n",
       "\n",
       "    .dataframe thead th {\n",
       "        text-align: right;\n",
       "    }\n",
       "</style>\n",
       "<table border=\"1\" class=\"dataframe\">\n",
       "  <thead>\n",
       "    <tr style=\"text-align: right;\">\n",
       "      <th></th>\n",
       "      <th>age</th>\n",
       "      <th>sex</th>\n",
       "      <th>bmi</th>\n",
       "      <th>children</th>\n",
       "      <th>smoker</th>\n",
       "      <th>region</th>\n",
       "      <th>charges</th>\n",
       "    </tr>\n",
       "  </thead>\n",
       "  <tbody>\n",
       "    <tr>\n",
       "      <th>age</th>\n",
       "      <td>1.000000</td>\n",
       "      <td>-0.019814</td>\n",
       "      <td>0.109344</td>\n",
       "      <td>0.041536</td>\n",
       "      <td>-0.025587</td>\n",
       "      <td>0.001626</td>\n",
       "      <td>0.298308</td>\n",
       "    </tr>\n",
       "    <tr>\n",
       "      <th>sex</th>\n",
       "      <td>-0.019814</td>\n",
       "      <td>1.000000</td>\n",
       "      <td>0.046397</td>\n",
       "      <td>0.017848</td>\n",
       "      <td>0.076596</td>\n",
       "      <td>0.004936</td>\n",
       "      <td>0.058044</td>\n",
       "    </tr>\n",
       "    <tr>\n",
       "      <th>bmi</th>\n",
       "      <td>0.109344</td>\n",
       "      <td>0.046397</td>\n",
       "      <td>1.000000</td>\n",
       "      <td>0.012755</td>\n",
       "      <td>0.003746</td>\n",
       "      <td>0.157574</td>\n",
       "      <td>0.198401</td>\n",
       "    </tr>\n",
       "    <tr>\n",
       "      <th>children</th>\n",
       "      <td>0.041536</td>\n",
       "      <td>0.017848</td>\n",
       "      <td>0.012755</td>\n",
       "      <td>1.000000</td>\n",
       "      <td>0.007331</td>\n",
       "      <td>0.016258</td>\n",
       "      <td>0.067389</td>\n",
       "    </tr>\n",
       "    <tr>\n",
       "      <th>smoker</th>\n",
       "      <td>-0.025587</td>\n",
       "      <td>0.076596</td>\n",
       "      <td>0.003746</td>\n",
       "      <td>0.007331</td>\n",
       "      <td>1.000000</td>\n",
       "      <td>-0.002358</td>\n",
       "      <td>0.787234</td>\n",
       "    </tr>\n",
       "    <tr>\n",
       "      <th>region</th>\n",
       "      <td>0.001626</td>\n",
       "      <td>0.004936</td>\n",
       "      <td>0.157574</td>\n",
       "      <td>0.016258</td>\n",
       "      <td>-0.002358</td>\n",
       "      <td>1.000000</td>\n",
       "      <td>-0.006547</td>\n",
       "    </tr>\n",
       "    <tr>\n",
       "      <th>charges</th>\n",
       "      <td>0.298308</td>\n",
       "      <td>0.058044</td>\n",
       "      <td>0.198401</td>\n",
       "      <td>0.067389</td>\n",
       "      <td>0.787234</td>\n",
       "      <td>-0.006547</td>\n",
       "      <td>1.000000</td>\n",
       "    </tr>\n",
       "  </tbody>\n",
       "</table>\n",
       "</div>"
      ],
      "text/plain": [
       "               age       sex       bmi  children    smoker    region   charges\n",
       "age       1.000000 -0.019814  0.109344  0.041536 -0.025587  0.001626  0.298308\n",
       "sex      -0.019814  1.000000  0.046397  0.017848  0.076596  0.004936  0.058044\n",
       "bmi       0.109344  0.046397  1.000000  0.012755  0.003746  0.157574  0.198401\n",
       "children  0.041536  0.017848  0.012755  1.000000  0.007331  0.016258  0.067389\n",
       "smoker   -0.025587  0.076596  0.003746  0.007331  1.000000 -0.002358  0.787234\n",
       "region    0.001626  0.004936  0.157574  0.016258 -0.002358  1.000000 -0.006547\n",
       "charges   0.298308  0.058044  0.198401  0.067389  0.787234 -0.006547  1.000000"
      ]
     },
     "execution_count": 662,
     "metadata": {},
     "output_type": "execute_result"
    }
   ],
   "source": [
    "#Checking correlation\n",
    "data.corr()"
   ]
  },
  {
   "cell_type": "code",
   "execution_count": 663,
   "id": "9ceb9690",
   "metadata": {},
   "outputs": [
    {
     "data": {
      "image/png": "[encoded data removed]",
      "text/plain": [
       "<Figure size 720x360 with 1 Axes>"
      ]
     },
     "metadata": {
      "needs_background": "light"
     },
     "output_type": "display_data"
    }
   ],
   "source": [
    "#Plotting correlation\n",
    "data.drop(['charges'],axis=1).corrwith(data['charges']).plot(kind='bar',grid=True,figsize=(10,5),title='Correlation with charges')\n",
    "plt.show()\n"
   ]
  },
  {
   "cell_type": "markdown",
   "id": "75210e81",
   "metadata": {},
   "source": [
    "As we can see that region and sex are very less correlated with the charges.\n",
    "And smoker is highly correlated with the charges."
   ]
  },
  {
   "cell_type": "code",
   "execution_count": 664,
   "id": "803f4069",
   "metadata": {},
   "outputs": [
    {
     "data": {
      "image/png": "[encoded data removed]",
      "text/plain": [
       "<Figure size 720x360 with 2 Axes>"
      ]
     },
     "metadata": {
      "needs_background": "light"
     },
     "output_type": "display_data"
    }
   ],
   "source": [
    "#Plotting Heatmap\n",
    "corr=data.corr().abs()\n",
    "plt.figure(figsize=(10,5))\n",
    "sns.heatmap(corr,annot=True)\n",
    "plt.show()"
   ]
  },
  {
   "cell_type": "code",
   "execution_count": 665,
   "id": "f0b2cbde",
   "metadata": {},
   "outputs": [
    {
     "data": {
      "text/plain": [
       "age         0.054781\n",
       "sex        -0.019469\n",
       "bmi         0.283914\n",
       "children    0.937421\n",
       "smoker      1.463601\n",
       "region     -0.039068\n",
       "charges     1.515391\n",
       "dtype: float64"
      ]
     },
     "execution_count": 665,
     "metadata": {},
     "output_type": "execute_result"
    }
   ],
   "source": [
    "#Checking skewness\n",
    "data.skew()"
   ]
  },
  {
   "cell_type": "markdown",
   "id": "88a74a15",
   "metadata": {},
   "source": [
    "For skewness we will check for the column who has continuous data.There are two columns i.e Age and BMI.\n",
    "so as we can see that in both the column that is age and bmi we did not find any skewness meaning there values are between 0.5 to -0.5."
   ]
  },
  {
   "cell_type": "code",
   "execution_count": 666,
   "id": "66187d88",
   "metadata": {},
   "outputs": [
    {
     "data": {
      "image/png": "[encoded data removed]",
      "text/plain": [
       "<Figure size 432x288 with 1 Axes>"
      ]
     },
     "metadata": {
      "needs_background": "light"
     },
     "output_type": "display_data"
    }
   ],
   "source": [
    "#Checking for outliers in age\n",
    "data['age'].plot.box()\n",
    "plt.show()"
   ]
  },
  {
   "cell_type": "markdown",
   "id": "b10ed99d",
   "metadata": {},
   "source": [
    "There are no outliers present in age"
   ]
  },
  {
   "cell_type": "code",
   "execution_count": 667,
   "id": "19aa8a1c",
   "metadata": {},
   "outputs": [
    {
     "data": {
      "image/png": "[encoded data removed]",
      "text/plain": [
       "<Figure size 432x288 with 1 Axes>"
      ]
     },
     "metadata": {
      "needs_background": "light"
     },
     "output_type": "display_data"
    }
   ],
   "source": [
    "#Checking for outliers in bmi\n",
    "data['bmi'].plot.box()\n",
    "plt.show()"
   ]
  },
  {
   "cell_type": "markdown",
   "id": "9a2221d4",
   "metadata": {},
   "source": [
    "We can see some outliers present in the bmi."
   ]
  },
  {
   "cell_type": "code",
   "execution_count": 668,
   "id": "9c85eb65",
   "metadata": {},
   "outputs": [],
   "source": [
    "#Removing outliers\n",
    "q1=data.quantile(0.25)\n",
    "q3=data.quantile(0.75)\n",
    "iqr=q3-q1"
   ]
  },
  {
   "cell_type": "code",
   "execution_count": 669,
   "id": "eff23009",
   "metadata": {},
   "outputs": [
    {
     "data": {
      "text/plain": [
       "47.31500000000001"
      ]
     },
     "execution_count": 669,
     "metadata": {},
     "output_type": "execute_result"
    }
   ],
   "source": [
    "#Finding the value of bmi from where outliers starts\n",
    "bmi_high=q3.bmi+(1.5*iqr.bmi)\n",
    "bmi_high"
   ]
  },
  {
   "cell_type": "code",
   "execution_count": 670,
   "id": "6f16a850",
   "metadata": {},
   "outputs": [
    {
     "data": {
      "text/plain": [
       "(array([ 116,  286,  401,  543,  846,  859, 1046, 1087, 1316], dtype=int64),)"
      ]
     },
     "execution_count": 670,
     "metadata": {},
     "output_type": "execute_result"
    }
   ],
   "source": [
    "#Checking and location how many of the outliers are present\n",
    "bmi=np.where(data['bmi']>bmi_high)\n",
    "bmi"
   ]
  },
  {
   "cell_type": "code",
   "execution_count": 671,
   "id": "51049322",
   "metadata": {},
   "outputs": [
    {
     "data": {
      "text/plain": [
       "(1328, 7)"
      ]
     },
     "execution_count": 671,
     "metadata": {},
     "output_type": "execute_result"
    }
   ],
   "source": [
    "#Dropping the index which we found as outliers\n",
    "data=data.drop(data.index[bmi])\n",
    "data.shape"
   ]
  },
  {
   "cell_type": "markdown",
   "id": "95e4b36d",
   "metadata": {},
   "source": [
    "previously 1337 rows were there now it came down to 1328, that means we have successfully removed outliers."
   ]
  },
  {
   "cell_type": "code",
   "execution_count": 672,
   "id": "fed329fb",
   "metadata": {},
   "outputs": [
    {
     "data": {
      "text/html": [
       "<div>\n",
       "<style scoped>\n",
       "    .dataframe tbody tr th:only-of-type {\n",
       "        vertical-align: middle;\n",
       "    }\n",
       "\n",
       "    .dataframe tbody tr th {\n",
       "        vertical-align: top;\n",
       "    }\n",
       "\n",
       "    .dataframe thead th {\n",
       "        text-align: right;\n",
       "    }\n",
       "</style>\n",
       "<table border=\"1\" class=\"dataframe\">\n",
       "  <thead>\n",
       "    <tr style=\"text-align: right;\">\n",
       "      <th></th>\n",
       "      <th>index</th>\n",
       "      <th>age</th>\n",
       "      <th>sex</th>\n",
       "      <th>bmi</th>\n",
       "      <th>children</th>\n",
       "      <th>smoker</th>\n",
       "      <th>region</th>\n",
       "      <th>charges</th>\n",
       "    </tr>\n",
       "  </thead>\n",
       "  <tbody>\n",
       "    <tr>\n",
       "      <th>0</th>\n",
       "      <td>0</td>\n",
       "      <td>19</td>\n",
       "      <td>0</td>\n",
       "      <td>27.900</td>\n",
       "      <td>0</td>\n",
       "      <td>1</td>\n",
       "      <td>3</td>\n",
       "      <td>16884.92400</td>\n",
       "    </tr>\n",
       "    <tr>\n",
       "      <th>1</th>\n",
       "      <td>1</td>\n",
       "      <td>18</td>\n",
       "      <td>1</td>\n",
       "      <td>33.770</td>\n",
       "      <td>1</td>\n",
       "      <td>0</td>\n",
       "      <td>2</td>\n",
       "      <td>1725.55230</td>\n",
       "    </tr>\n",
       "    <tr>\n",
       "      <th>2</th>\n",
       "      <td>2</td>\n",
       "      <td>28</td>\n",
       "      <td>1</td>\n",
       "      <td>33.000</td>\n",
       "      <td>3</td>\n",
       "      <td>0</td>\n",
       "      <td>2</td>\n",
       "      <td>4449.46200</td>\n",
       "    </tr>\n",
       "    <tr>\n",
       "      <th>3</th>\n",
       "      <td>3</td>\n",
       "      <td>33</td>\n",
       "      <td>1</td>\n",
       "      <td>22.705</td>\n",
       "      <td>0</td>\n",
       "      <td>0</td>\n",
       "      <td>1</td>\n",
       "      <td>21984.47061</td>\n",
       "    </tr>\n",
       "    <tr>\n",
       "      <th>4</th>\n",
       "      <td>4</td>\n",
       "      <td>32</td>\n",
       "      <td>1</td>\n",
       "      <td>28.880</td>\n",
       "      <td>0</td>\n",
       "      <td>0</td>\n",
       "      <td>1</td>\n",
       "      <td>3866.85520</td>\n",
       "    </tr>\n",
       "    <tr>\n",
       "      <th>...</th>\n",
       "      <td>...</td>\n",
       "      <td>...</td>\n",
       "      <td>...</td>\n",
       "      <td>...</td>\n",
       "      <td>...</td>\n",
       "      <td>...</td>\n",
       "      <td>...</td>\n",
       "      <td>...</td>\n",
       "    </tr>\n",
       "    <tr>\n",
       "      <th>1323</th>\n",
       "      <td>1333</td>\n",
       "      <td>50</td>\n",
       "      <td>1</td>\n",
       "      <td>30.970</td>\n",
       "      <td>3</td>\n",
       "      <td>0</td>\n",
       "      <td>1</td>\n",
       "      <td>10600.54830</td>\n",
       "    </tr>\n",
       "    <tr>\n",
       "      <th>1324</th>\n",
       "      <td>1334</td>\n",
       "      <td>18</td>\n",
       "      <td>0</td>\n",
       "      <td>31.920</td>\n",
       "      <td>0</td>\n",
       "      <td>0</td>\n",
       "      <td>0</td>\n",
       "      <td>2205.98080</td>\n",
       "    </tr>\n",
       "    <tr>\n",
       "      <th>1325</th>\n",
       "      <td>1335</td>\n",
       "      <td>18</td>\n",
       "      <td>0</td>\n",
       "      <td>36.850</td>\n",
       "      <td>0</td>\n",
       "      <td>0</td>\n",
       "      <td>2</td>\n",
       "      <td>1629.83350</td>\n",
       "    </tr>\n",
       "    <tr>\n",
       "      <th>1326</th>\n",
       "      <td>1336</td>\n",
       "      <td>21</td>\n",
       "      <td>0</td>\n",
       "      <td>25.800</td>\n",
       "      <td>0</td>\n",
       "      <td>0</td>\n",
       "      <td>3</td>\n",
       "      <td>2007.94500</td>\n",
       "    </tr>\n",
       "    <tr>\n",
       "      <th>1327</th>\n",
       "      <td>1337</td>\n",
       "      <td>61</td>\n",
       "      <td>0</td>\n",
       "      <td>29.070</td>\n",
       "      <td>0</td>\n",
       "      <td>1</td>\n",
       "      <td>1</td>\n",
       "      <td>29141.36030</td>\n",
       "    </tr>\n",
       "  </tbody>\n",
       "</table>\n",
       "<p>1328 rows × 8 columns</p>\n",
       "</div>"
      ],
      "text/plain": [
       "      index  age  sex     bmi  children  smoker  region      charges\n",
       "0         0   19    0  27.900         0       1       3  16884.92400\n",
       "1         1   18    1  33.770         1       0       2   1725.55230\n",
       "2         2   28    1  33.000         3       0       2   4449.46200\n",
       "3         3   33    1  22.705         0       0       1  21984.47061\n",
       "4         4   32    1  28.880         0       0       1   3866.85520\n",
       "...     ...  ...  ...     ...       ...     ...     ...          ...\n",
       "1323   1333   50    1  30.970         3       0       1  10600.54830\n",
       "1324   1334   18    0  31.920         0       0       0   2205.98080\n",
       "1325   1335   18    0  36.850         0       0       2   1629.83350\n",
       "1326   1336   21    0  25.800         0       0       3   2007.94500\n",
       "1327   1337   61    0  29.070         0       1       1  29141.36030\n",
       "\n",
       "[1328 rows x 8 columns]"
      ]
     },
     "execution_count": 672,
     "metadata": {},
     "output_type": "execute_result"
    }
   ],
   "source": [
    "#Reseting the index\n",
    "data.reset_index()"
   ]
  },
  {
   "cell_type": "code",
   "execution_count": 673,
   "id": "fecdeee8",
   "metadata": {},
   "outputs": [
    {
     "data": {
      "image/png": "[encoded data removed]",
      "text/plain": [
       "<Figure size 432x288 with 1 Axes>"
      ]
     },
     "metadata": {
      "needs_background": "light"
     },
     "output_type": "display_data"
    }
   ],
   "source": [
    "#Checking for outliers in bmi\n",
    "data['bmi'].plot.box()\n",
    "plt.show()"
   ]
  },
  {
   "cell_type": "markdown",
   "id": "92e1339e",
   "metadata": {},
   "source": [
    "Now we can see that there are no outliers in bmi"
   ]
  },
  {
   "cell_type": "code",
   "execution_count": 674,
   "id": "8e1b6125",
   "metadata": {},
   "outputs": [],
   "source": [
    "#Dividing dataset into features and label\n",
    "#Features\n",
    "x=data.drop(['charges'],axis=1)\n",
    "#Label\n",
    "y=data['charges']"
   ]
  },
  {
   "cell_type": "code",
   "execution_count": 675,
   "id": "8153d9cb",
   "metadata": {},
   "outputs": [],
   "source": [
    "#Importing required libraries\n",
    "from sklearn.preprocessing import StandardScaler"
   ]
  },
  {
   "cell_type": "code",
   "execution_count": 676,
   "id": "f8e031be",
   "metadata": {},
   "outputs": [
    {
     "data": {
      "text/plain": [
       "array([[-1.4404286 , -1.00755869, -0.44549526, -0.90856337,  1.97493519,\n",
       "         1.34344665],\n",
       "       [-1.51166949,  0.99249802,  0.5460678 , -0.08044247, -0.50634573,\n",
       "         0.4396487 ],\n",
       "       [-0.79926057,  0.99249802,  0.41599905,  1.57579935, -0.50634573,\n",
       "         0.4396487 ],\n",
       "       ...,\n",
       "       [-1.51166949, -1.00755869,  1.06634279, -0.90856337, -0.50634573,\n",
       "         0.4396487 ],\n",
       "       [-1.29794681, -1.00755869, -0.80022821, -0.90856337, -0.50634573,\n",
       "         1.34344665],\n",
       "       [ 1.55168884, -1.00755869, -0.24785833, -0.90856337,  1.97493519,\n",
       "        -0.46414925]])"
      ]
     },
     "execution_count": 676,
     "metadata": {},
     "output_type": "execute_result"
    }
   ],
   "source": [
    "#using standardization method to standardize the data\n",
    "scaler=StandardScaler()\n",
    "x_scaler=scaler.fit_transform(x)\n",
    "x_scaler"
   ]
  },
  {
   "cell_type": "code",
   "execution_count": 677,
   "id": "49b56b3c",
   "metadata": {},
   "outputs": [],
   "source": [
    "#Importing required libraries\n",
    "from sklearn.model_selection import train_test_split\n",
    "from sklearn.linear_model import LinearRegression\n",
    "from sklearn.ensemble import RandomForestRegressor\n",
    "from sklearn.ensemble import AdaBoostRegressor\n",
    "from sklearn.ensemble import GradientBoostingRegressor\n",
    "from sklearn import metrics\n",
    "from sklearn.metrics import r2_score\n",
    "from sklearn.model_selection import cross_val_score"
   ]
  },
  {
   "cell_type": "markdown",
   "id": "bb4dda44",
   "metadata": {},
   "source": [
    "# LINEAR REGRESSION"
   ]
  },
  {
   "cell_type": "code",
   "execution_count": 678,
   "id": "2c6b1700",
   "metadata": {},
   "outputs": [],
   "source": [
    "#Initiating Logistic Regression\n",
    "lr=LinearRegression()"
   ]
  },
  {
   "cell_type": "code",
   "execution_count": 679,
   "id": "f0390492",
   "metadata": {},
   "outputs": [
    {
     "name": "stdout",
     "output_type": "stream",
     "text": [
      "at random state 0, training accuracy is 75.47483554965604\n",
      "at random state 0, testing accuracy is 73.4473886578041\n",
      "\n",
      "\n",
      "at random state 1, training accuracy is 73.9440998830866\n",
      "at random state 1, testing accuracy is 77.09780366396869\n",
      "\n",
      "\n",
      "at random state 2, training accuracy is 74.26165246212118\n",
      "at random state 2, testing accuracy is 76.74255169779069\n",
      "\n",
      "\n",
      "at random state 3, training accuracy is 73.51304005114244\n",
      "at random state 3, testing accuracy is 78.63429784788498\n",
      "\n",
      "\n",
      "at random state 4, training accuracy is 74.75169723449429\n",
      "at random state 4, testing accuracy is 75.01055458383436\n",
      "\n",
      "\n",
      "at random state 5, training accuracy is 75.32643689290384\n",
      "at random state 5, testing accuracy is 73.69605913276192\n",
      "\n",
      "\n",
      "at random state 6, training accuracy is 74.6044227555254\n",
      "at random state 6, testing accuracy is 75.83600635311728\n",
      "\n",
      "\n",
      "at random state 7, training accuracy is 75.72191608044314\n",
      "at random state 7, testing accuracy is 72.77435404878976\n",
      "\n",
      "\n",
      "at random state 8, training accuracy is 74.9530254626662\n",
      "at random state 8, testing accuracy is 74.91503657043476\n",
      "\n",
      "\n",
      "at random state 9, training accuracy is 74.73127666787379\n",
      "at random state 9, testing accuracy is 75.54470664530774\n",
      "\n",
      "\n",
      "at random state 10, training accuracy is 75.3669520582478\n",
      "at random state 10, testing accuracy is 73.65694359798766\n",
      "\n",
      "\n",
      "at random state 11, training accuracy is 74.88392411978\n",
      "at random state 11, testing accuracy is 75.1357355324383\n",
      "\n",
      "\n",
      "at random state 12, training accuracy is 76.05506128422232\n",
      "at random state 12, testing accuracy is 71.28911400640794\n",
      "\n",
      "\n",
      "at random state 13, training accuracy is 74.4110253857076\n",
      "at random state 13, testing accuracy is 76.59403042444424\n",
      "\n",
      "\n",
      "at random state 14, training accuracy is 74.9933746620502\n",
      "at random state 14, testing accuracy is 74.76478912985338\n",
      "\n",
      "\n",
      "at random state 15, training accuracy is 74.80853970052264\n",
      "at random state 15, testing accuracy is 75.38317055589675\n",
      "\n",
      "\n",
      "at random state 16, training accuracy is 75.80504829072777\n",
      "at random state 16, testing accuracy is 71.79798243707667\n",
      "\n",
      "\n",
      "at random state 17, training accuracy is 76.93863705160587\n",
      "at random state 17, testing accuracy is 68.9598821903197\n",
      "\n",
      "\n",
      "at random state 18, training accuracy is 74.37737824057267\n",
      "at random state 18, testing accuracy is 76.10368116381572\n",
      "\n",
      "\n",
      "at random state 19, training accuracy is 72.87593904820415\n",
      "at random state 19, testing accuracy is 80.18941448162502\n",
      "\n",
      "\n",
      "at random state 20, training accuracy is 75.7912977646939\n",
      "at random state 20, testing accuracy is 72.39298680725845\n",
      "\n",
      "\n",
      "at random state 21, training accuracy is 74.76955064059632\n",
      "at random state 21, testing accuracy is 75.23503212961629\n",
      "\n",
      "\n",
      "at random state 22, training accuracy is 73.02866199353493\n",
      "at random state 22, testing accuracy is 79.65812636052824\n",
      "\n",
      "\n",
      "at random state 23, training accuracy is 75.69299643127361\n",
      "at random state 23, testing accuracy is 72.03171477449375\n",
      "\n",
      "\n",
      "at random state 24, training accuracy is 74.63522754003043\n",
      "at random state 24, testing accuracy is 75.67101284838293\n",
      "\n",
      "\n",
      "at random state 25, training accuracy is 75.19130703275741\n",
      "at random state 25, testing accuracy is 74.18275302668337\n",
      "\n",
      "\n",
      "at random state 26, training accuracy is 74.27754419693808\n",
      "at random state 26, testing accuracy is 76.66864039323933\n",
      "\n",
      "\n",
      "at random state 27, training accuracy is 75.03367587854738\n",
      "at random state 27, testing accuracy is 74.57651050127765\n",
      "\n",
      "\n",
      "at random state 28, training accuracy is 74.59549968010793\n",
      "at random state 28, testing accuracy is 75.19277635883248\n",
      "\n",
      "\n",
      "at random state 29, training accuracy is 73.56468088004165\n",
      "at random state 29, testing accuracy is 77.66521249067458\n",
      "\n",
      "\n",
      "at random state 30, training accuracy is 75.86851409987925\n",
      "at random state 30, testing accuracy is 71.97074011433952\n",
      "\n",
      "\n",
      "at random state 31, training accuracy is 74.94644224674319\n",
      "at random state 31, testing accuracy is 74.5866191079975\n",
      "\n",
      "\n",
      "at random state 32, training accuracy is 74.89039023787396\n",
      "at random state 32, testing accuracy is 75.06816885914314\n",
      "\n",
      "\n",
      "at random state 33, training accuracy is 75.89661181836743\n",
      "at random state 33, testing accuracy is 71.99601879410822\n",
      "\n",
      "\n",
      "at random state 34, training accuracy is 77.03725154634252\n",
      "at random state 34, testing accuracy is 68.1454067144867\n",
      "\n",
      "\n",
      "at random state 35, training accuracy is 74.47408676880352\n",
      "at random state 35, testing accuracy is 76.35122950861901\n",
      "\n",
      "\n",
      "at random state 36, training accuracy is 75.28535848982196\n",
      "at random state 36, testing accuracy is 73.79915596355944\n",
      "\n",
      "\n",
      "at random state 37, training accuracy is 74.74176255056832\n",
      "at random state 37, testing accuracy is 75.34385242796043\n",
      "\n",
      "\n",
      "at random state 38, training accuracy is 75.4357703517313\n",
      "at random state 38, testing accuracy is 73.35380466173766\n",
      "\n",
      "\n",
      "at random state 39, training accuracy is 74.557714726481\n",
      "at random state 39, testing accuracy is 76.0368777248636\n",
      "\n",
      "\n",
      "at random state 40, training accuracy is 75.33760355701008\n",
      "at random state 40, testing accuracy is 73.69650495692991\n",
      "\n",
      "\n",
      "at random state 41, training accuracy is 75.82429412427012\n",
      "at random state 41, testing accuracy is 70.78666663933019\n",
      "\n",
      "\n",
      "at random state 42, training accuracy is 74.53051334770716\n",
      "at random state 42, testing accuracy is 75.89646221793946\n",
      "\n",
      "\n",
      "at random state 43, training accuracy is 74.57594201289636\n",
      "at random state 43, testing accuracy is 75.89440154997715\n",
      "\n",
      "\n",
      "at random state 44, training accuracy is 74.217543111214\n",
      "at random state 44, testing accuracy is 77.11294648158584\n",
      "\n",
      "\n",
      "at random state 45, training accuracy is 74.89254623611107\n",
      "at random state 45, testing accuracy is 75.01026762500712\n",
      "\n",
      "\n",
      "at random state 46, training accuracy is 75.54176370685302\n",
      "at random state 46, testing accuracy is 72.80896914389055\n",
      "\n",
      "\n",
      "at random state 47, training accuracy is 75.52851012323104\n",
      "at random state 47, testing accuracy is 73.20789466171287\n",
      "\n",
      "\n",
      "at random state 48, training accuracy is 75.38648401656747\n",
      "at random state 48, testing accuracy is 73.60973543803601\n",
      "\n",
      "\n",
      "at random state 49, training accuracy is 74.85363817414957\n",
      "at random state 49, testing accuracy is 75.21935444590638\n",
      "\n",
      "\n",
      "at random state 50, training accuracy is 76.4442160235859\n",
      "at random state 50, testing accuracy is 70.26066522158447\n",
      "\n",
      "\n",
      "at random state 51, training accuracy is 73.50215432921695\n",
      "at random state 51, testing accuracy is 78.23746091336615\n",
      "\n",
      "\n",
      "at random state 52, training accuracy is 75.32994989765211\n",
      "at random state 52, testing accuracy is 73.69682296113807\n",
      "\n",
      "\n",
      "at random state 53, training accuracy is 75.08704878967283\n",
      "at random state 53, testing accuracy is 74.12454889610936\n",
      "\n",
      "\n",
      "at random state 54, training accuracy is 75.1811581021924\n",
      "at random state 54, testing accuracy is 73.79947991697794\n",
      "\n",
      "\n",
      "at random state 55, training accuracy is 75.63394770912628\n",
      "at random state 55, testing accuracy is 72.926266703679\n",
      "\n",
      "\n",
      "at random state 56, training accuracy is 75.05164262477035\n",
      "at random state 56, testing accuracy is 74.5377581347434\n",
      "\n",
      "\n",
      "at random state 57, training accuracy is 76.10278319029331\n",
      "at random state 57, testing accuracy is 70.211764693579\n",
      "\n",
      "\n",
      "at random state 58, training accuracy is 75.67612765341832\n",
      "at random state 58, testing accuracy is 72.65146670864469\n",
      "\n",
      "\n",
      "at random state 59, training accuracy is 75.01642001494324\n",
      "at random state 59, testing accuracy is 74.45747125125479\n",
      "\n",
      "\n",
      "at random state 60, training accuracy is 74.09820884652567\n",
      "at random state 60, testing accuracy is 76.91518860842321\n",
      "\n",
      "\n",
      "at random state 61, training accuracy is 75.26762179253367\n",
      "at random state 61, testing accuracy is 73.7163708600166\n",
      "\n",
      "\n",
      "at random state 62, training accuracy is 74.86234202377892\n",
      "at random state 62, testing accuracy is 75.14057870939286\n",
      "\n",
      "\n",
      "at random state 63, training accuracy is 74.53275154651833\n",
      "at random state 63, testing accuracy is 76.0563268692776\n",
      "\n",
      "\n",
      "at random state 64, training accuracy is 74.232152856106\n",
      "at random state 64, testing accuracy is 76.645923037252\n",
      "\n",
      "\n",
      "at random state 65, training accuracy is 74.65298810045498\n",
      "at random state 65, testing accuracy is 75.82139156611241\n",
      "\n",
      "\n",
      "at random state 66, training accuracy is 76.56231088968009\n",
      "at random state 66, testing accuracy is 69.98905454863782\n",
      "\n",
      "\n",
      "at random state 67, training accuracy is 74.60384381782423\n",
      "at random state 67, testing accuracy is 75.09668982843422\n",
      "\n",
      "\n",
      "at random state 68, training accuracy is 74.99875452405642\n",
      "at random state 68, testing accuracy is 74.70560027325052\n",
      "\n",
      "\n",
      "at random state 69, training accuracy is 74.37325630920117\n",
      "at random state 69, testing accuracy is 76.49445022503565\n",
      "\n",
      "\n",
      "at random state 70, training accuracy is 76.37921978646955\n",
      "at random state 70, testing accuracy is 70.39403032786299\n",
      "\n",
      "\n",
      "at random state 71, training accuracy is 76.19226022421812\n",
      "at random state 71, testing accuracy is 70.88744807029066\n",
      "\n",
      "\n",
      "at random state 72, training accuracy is 75.91494515517225\n",
      "at random state 72, testing accuracy is 71.67589875712932\n",
      "\n",
      "\n",
      "at random state 73, training accuracy is 75.80407697355736\n",
      "at random state 73, testing accuracy is 71.87046173116047\n",
      "\n",
      "\n",
      "at random state 74, training accuracy is 75.31817723349154\n",
      "at random state 74, testing accuracy is 73.84739936290157\n",
      "\n",
      "\n",
      "at random state 75, training accuracy is 73.67631603459282\n",
      "at random state 75, testing accuracy is 78.10864809618862\n",
      "\n",
      "\n",
      "at random state 76, training accuracy is 74.37995334248406\n",
      "at random state 76, testing accuracy is 76.5933767797866\n",
      "\n",
      "\n",
      "at random state 77, training accuracy is 75.96583756617467\n",
      "at random state 77, testing accuracy is 71.53392996399577\n",
      "\n",
      "\n",
      "at random state 78, training accuracy is 76.02942586055293\n",
      "at random state 78, testing accuracy is 71.63136680577382\n",
      "\n",
      "\n",
      "at random state 79, training accuracy is 75.5023261930712\n",
      "at random state 79, testing accuracy is 73.17052136305728\n",
      "\n",
      "\n",
      "at random state 80, training accuracy is 75.2369526345463\n",
      "at random state 80, testing accuracy is 73.78403275544923\n",
      "\n",
      "\n",
      "at random state 81, training accuracy is 76.1518794347821\n",
      "at random state 81, testing accuracy is 71.10992209338916\n",
      "\n",
      "\n",
      "at random state 82, training accuracy is 73.3972540193403\n",
      "at random state 82, testing accuracy is 79.2602158860286\n",
      "\n",
      "\n",
      "at random state 83, training accuracy is 74.69345340270911\n",
      "at random state 83, testing accuracy is 75.37161324020929\n",
      "\n",
      "\n",
      "at random state 84, training accuracy is 74.25138003611609\n",
      "at random state 84, testing accuracy is 76.59582468791571\n",
      "\n",
      "\n",
      "at random state 85, training accuracy is 75.77751255402687\n",
      "at random state 85, testing accuracy is 72.39469281905508\n",
      "\n",
      "\n",
      "at random state 86, training accuracy is 73.96061967018099\n",
      "at random state 86, testing accuracy is 77.42283136348014\n",
      "\n",
      "\n",
      "at random state 87, training accuracy is 76.45946683557256\n",
      "at random state 87, testing accuracy is 70.19954024686372\n",
      "\n",
      "\n",
      "at random state 88, training accuracy is 74.11847403608755\n",
      "at random state 88, testing accuracy is 76.47169739368414\n",
      "\n",
      "\n",
      "at random state 89, training accuracy is 74.51540608520855\n",
      "at random state 89, testing accuracy is 75.36747431357689\n",
      "\n",
      "\n",
      "at random state 90, training accuracy is 76.54558538416896\n",
      "at random state 90, testing accuracy is 68.67952817581335\n",
      "\n",
      "\n",
      "at random state 91, training accuracy is 75.26966937235427\n",
      "at random state 91, testing accuracy is 73.53631816200233\n",
      "\n",
      "\n",
      "at random state 92, training accuracy is 75.25314804248563\n",
      "at random state 92, testing accuracy is 73.8029749909246\n",
      "\n",
      "\n",
      "at random state 93, training accuracy is 74.90552500587414\n",
      "at random state 93, testing accuracy is 75.06800309639794\n",
      "\n",
      "\n",
      "at random state 94, training accuracy is 74.4282122724209\n",
      "at random state 94, testing accuracy is 76.45211832193833\n",
      "\n",
      "\n",
      "at random state 95, training accuracy is 74.54751715674116\n",
      "at random state 95, testing accuracy is 75.97663160140597\n",
      "\n",
      "\n",
      "at random state 96, training accuracy is 75.78356814774884\n",
      "at random state 96, testing accuracy is 72.46478778337175\n",
      "\n",
      "\n",
      "at random state 97, training accuracy is 74.98218399113007\n",
      "at random state 97, testing accuracy is 74.772951667701\n",
      "\n",
      "\n",
      "at random state 98, training accuracy is 74.20426381220537\n",
      "at random state 98, testing accuracy is 76.97316037735737\n",
      "\n",
      "\n",
      "at random state 99, training accuracy is 75.13648741898756\n",
      "at random state 99, testing accuracy is 74.07288279021813\n",
      "\n",
      "\n",
      "at random state 100, training accuracy is 74.88082294015139\n",
      "at random state 100, testing accuracy is 75.04614394059527\n",
      "\n",
      "\n",
      "at random state 101, training accuracy is 75.7177470623529\n",
      "at random state 101, testing accuracy is 72.0842062627294\n",
      "\n",
      "\n",
      "at random state 102, training accuracy is 75.7597040468945\n",
      "at random state 102, testing accuracy is 71.90473629000749\n",
      "\n",
      "\n",
      "at random state 103, training accuracy is 74.89836827619169\n",
      "at random state 103, testing accuracy is 75.04269427731064\n",
      "\n",
      "\n",
      "at random state 104, training accuracy is 74.82690007246495\n",
      "at random state 104, testing accuracy is 75.23997100116723\n",
      "\n",
      "\n",
      "at random state 105, training accuracy is 76.2268055825381\n",
      "at random state 105, testing accuracy is 70.64831000540002\n",
      "\n",
      "\n",
      "at random state 106, training accuracy is 74.65574668664681\n",
      "at random state 106, testing accuracy is 75.58020937900112\n",
      "\n",
      "\n",
      "at random state 107, training accuracy is 76.97240759719064\n",
      "at random state 107, testing accuracy is 67.93406382999821\n",
      "\n",
      "\n",
      "at random state 108, training accuracy is 75.41106652321733\n",
      "at random state 108, testing accuracy is 73.53694383020206\n",
      "\n",
      "\n",
      "at random state 109, training accuracy is 73.85602585482172\n",
      "at random state 109, testing accuracy is 77.81050405460996\n",
      "\n",
      "\n",
      "at random state 110, training accuracy is 75.22811356878924\n",
      "at random state 110, testing accuracy is 74.01860649792809\n",
      "\n",
      "\n",
      "at random state 111, training accuracy is 74.77556367169115\n",
      "at random state 111, testing accuracy is 75.39844184630947\n",
      "\n",
      "\n",
      "at random state 112, training accuracy is 72.53741270148623\n",
      "at random state 112, testing accuracy is 81.34475288911138\n",
      "\n",
      "\n",
      "at random state 113, training accuracy is 72.9906571945912\n",
      "at random state 113, testing accuracy is 79.59882414930746\n",
      "\n",
      "\n",
      "at random state 114, training accuracy is 74.59229159732787\n",
      "at random state 114, testing accuracy is 76.12150105288418\n",
      "\n",
      "\n",
      "at random state 115, training accuracy is 75.55021092008131\n",
      "at random state 115, testing accuracy is 73.00079703701392\n",
      "\n",
      "\n",
      "at random state 116, training accuracy is 76.06974531648123\n",
      "at random state 116, testing accuracy is 70.93409813506806\n",
      "\n",
      "\n",
      "at random state 117, training accuracy is 74.15059905896474\n",
      "at random state 117, testing accuracy is 77.02311899016763\n",
      "\n",
      "\n",
      "at random state 118, training accuracy is 74.24965200817282\n",
      "at random state 118, testing accuracy is 76.69113825421269\n",
      "\n",
      "\n",
      "at random state 119, training accuracy is 72.8019998565538\n",
      "at random state 119, testing accuracy is 80.1277980595643\n",
      "\n",
      "\n",
      "at random state 120, training accuracy is 73.96524499964838\n",
      "at random state 120, testing accuracy is 77.5779118051862\n",
      "\n",
      "\n",
      "at random state 121, training accuracy is 74.91127020086385\n",
      "at random state 121, testing accuracy is 74.93347769528086\n",
      "\n",
      "\n",
      "at random state 122, training accuracy is 74.37858900268589\n",
      "at random state 122, testing accuracy is 76.4021486167254\n",
      "\n",
      "\n",
      "at random state 123, training accuracy is 75.08727515461229\n",
      "at random state 123, testing accuracy is 74.53660012944037\n",
      "\n",
      "\n",
      "at random state 124, training accuracy is 75.11488582988034\n",
      "at random state 124, testing accuracy is 74.08624162390494\n",
      "\n",
      "\n",
      "at random state 125, training accuracy is 75.3828617035364\n",
      "at random state 125, testing accuracy is 73.19831039099381\n",
      "\n",
      "\n",
      "at random state 126, training accuracy is 75.2894209333172\n",
      "at random state 126, testing accuracy is 73.6708286971685\n",
      "\n",
      "\n",
      "at random state 127, training accuracy is 73.99101649080075\n",
      "at random state 127, testing accuracy is 77.30681307955997\n",
      "\n",
      "\n",
      "at random state 128, training accuracy is 74.20280729862321\n",
      "at random state 128, testing accuracy is 77.03956749841399\n",
      "\n",
      "\n",
      "at random state 129, training accuracy is 76.09854586303324\n",
      "at random state 129, testing accuracy is 70.45888542106765\n",
      "\n",
      "\n",
      "at random state 130, training accuracy is 75.67308681226905\n",
      "at random state 130, testing accuracy is 72.20938669772204\n",
      "\n",
      "\n",
      "at random state 131, training accuracy is 75.37093467244576\n",
      "at random state 131, testing accuracy is 73.39701703036494\n",
      "\n",
      "\n",
      "at random state 132, training accuracy is 74.8280832153917\n",
      "at random state 132, testing accuracy is 75.2617542537785\n",
      "\n",
      "\n",
      "at random state 133, training accuracy is 75.80421765426064\n",
      "at random state 133, testing accuracy is 72.36914156203972\n",
      "\n",
      "\n",
      "at random state 134, training accuracy is 75.9666978197655\n",
      "at random state 134, testing accuracy is 71.64190776465647\n",
      "\n",
      "\n",
      "at random state 135, training accuracy is 74.89852095659184\n",
      "at random state 135, testing accuracy is 75.11057359889881\n",
      "\n",
      "\n",
      "at random state 136, training accuracy is 75.86399255544238\n",
      "at random state 136, testing accuracy is 72.43189445025693\n",
      "\n",
      "\n",
      "at random state 137, training accuracy is 73.62971757698759\n",
      "at random state 137, testing accuracy is 78.68820606239188\n",
      "\n",
      "\n",
      "at random state 138, training accuracy is 74.02905300739204\n",
      "at random state 138, testing accuracy is 77.44056206548593\n",
      "\n",
      "\n",
      "at random state 139, training accuracy is 74.97151084168169\n",
      "at random state 139, testing accuracy is 74.65790517808779\n",
      "\n",
      "\n",
      "at random state 140, training accuracy is 74.48630348925964\n",
      "at random state 140, testing accuracy is 76.27583283523475\n",
      "\n",
      "\n",
      "at random state 141, training accuracy is 74.63646042790567\n",
      "at random state 141, testing accuracy is 75.89701214087363\n",
      "\n",
      "\n",
      "at random state 142, training accuracy is 74.23073249082404\n",
      "at random state 142, testing accuracy is 77.25704245974508\n",
      "\n",
      "\n",
      "at random state 143, training accuracy is 74.95887756184494\n",
      "at random state 143, testing accuracy is 74.65847004481313\n",
      "\n",
      "\n",
      "at random state 144, training accuracy is 73.787041335041\n",
      "at random state 144, testing accuracy is 78.08354463906979\n",
      "\n",
      "\n",
      "at random state 145, training accuracy is 73.47310220676914\n",
      "at random state 145, testing accuracy is 77.95639397719961\n",
      "\n",
      "\n",
      "at random state 146, training accuracy is 74.87974819547607\n",
      "at random state 146, testing accuracy is 75.06079740265046\n",
      "\n",
      "\n",
      "at random state 147, training accuracy is 74.45059413923956\n",
      "at random state 147, testing accuracy is 76.0398947948927\n",
      "\n",
      "\n",
      "at random state 148, training accuracy is 76.86666628891649\n",
      "at random state 148, testing accuracy is 68.79363395757773\n",
      "\n",
      "\n",
      "at random state 149, training accuracy is 74.0611929798327\n",
      "at random state 149, testing accuracy is 77.6820654206713\n",
      "\n",
      "\n",
      "at random state 150, training accuracy is 74.42300732339346\n",
      "at random state 150, testing accuracy is 76.45245061566747\n",
      "\n",
      "\n",
      "at random state 151, training accuracy is 74.79653466268013\n",
      "at random state 151, testing accuracy is 75.33018210908698\n",
      "\n",
      "\n",
      "at random state 152, training accuracy is 73.44246205113278\n",
      "at random state 152, testing accuracy is 79.05876897380459\n",
      "\n",
      "\n",
      "at random state 153, training accuracy is 77.42199540220689\n",
      "at random state 153, testing accuracy is 66.55884678987319\n",
      "\n",
      "\n",
      "at random state 154, training accuracy is 74.88523226597256\n",
      "at random state 154, testing accuracy is 75.16323259897221\n",
      "\n",
      "\n",
      "at random state 155, training accuracy is 73.99932562086184\n",
      "at random state 155, testing accuracy is 77.58122256810526\n",
      "\n",
      "\n",
      "at random state 156, training accuracy is 74.82619761719553\n",
      "at random state 156, testing accuracy is 75.29026054492073\n",
      "\n",
      "\n",
      "at random state 157, training accuracy is 75.3544202679491\n",
      "at random state 157, testing accuracy is 73.07012448614024\n",
      "\n",
      "\n",
      "at random state 158, training accuracy is 75.17902243107036\n",
      "at random state 158, testing accuracy is 74.14555900447243\n",
      "\n",
      "\n",
      "at random state 159, training accuracy is 73.41801059430655\n",
      "at random state 159, testing accuracy is 78.43983784283046\n",
      "\n",
      "\n",
      "at random state 160, training accuracy is 75.68955175254665\n",
      "at random state 160, testing accuracy is 72.39485813000654\n",
      "\n",
      "\n",
      "at random state 161, training accuracy is 74.92698296987285\n",
      "at random state 161, testing accuracy is 74.78145807567796\n",
      "\n",
      "\n",
      "at random state 162, training accuracy is 74.95017574075263\n",
      "at random state 162, testing accuracy is 74.90401900817854\n",
      "\n",
      "\n",
      "at random state 163, training accuracy is 74.12261548645147\n",
      "at random state 163, testing accuracy is 77.35539024215457\n",
      "\n",
      "\n",
      "at random state 164, training accuracy is 74.74194192879766\n",
      "at random state 164, testing accuracy is 75.55356737299635\n",
      "\n",
      "\n",
      "at random state 165, training accuracy is 76.9284313823645\n",
      "at random state 165, testing accuracy is 67.68685641993486\n",
      "\n",
      "\n",
      "at random state 166, training accuracy is 75.89043553082273\n",
      "at random state 166, testing accuracy is 71.95781430586025\n",
      "\n",
      "\n",
      "at random state 167, training accuracy is 75.59962738967576\n",
      "at random state 167, testing accuracy is 71.85775855978262\n",
      "\n",
      "\n",
      "at random state 168, training accuracy is 74.63632586482356\n",
      "at random state 168, testing accuracy is 75.67447004809681\n",
      "\n",
      "\n",
      "at random state 169, training accuracy is 74.62173771640394\n",
      "at random state 169, testing accuracy is 75.72832057579933\n",
      "\n",
      "\n",
      "at random state 170, training accuracy is 75.34056636167482\n",
      "at random state 170, testing accuracy is 72.88473988602686\n",
      "\n",
      "\n",
      "at random state 171, training accuracy is 74.38150056210388\n",
      "at random state 171, testing accuracy is 76.39586073207538\n",
      "\n",
      "\n",
      "at random state 172, training accuracy is 74.84049244302159\n",
      "at random state 172, testing accuracy is 75.17924269171628\n",
      "\n",
      "\n",
      "at random state 173, training accuracy is 74.75315231225605\n",
      "at random state 173, testing accuracy is 75.44816388685906\n",
      "\n",
      "\n",
      "at random state 174, training accuracy is 74.84648784703376\n",
      "at random state 174, testing accuracy is 75.14730269609383\n",
      "\n",
      "\n",
      "at random state 175, training accuracy is 75.24620060527226\n",
      "at random state 175, testing accuracy is 73.92843291732783\n",
      "\n",
      "\n",
      "at random state 176, training accuracy is 76.33386886553068\n",
      "at random state 176, testing accuracy is 70.85763983079516\n",
      "\n",
      "\n",
      "at random state 177, training accuracy is 75.61042814125967\n",
      "at random state 177, testing accuracy is 72.09955183955987\n",
      "\n",
      "\n",
      "at random state 178, training accuracy is 74.59877318374062\n",
      "at random state 178, testing accuracy is 75.82318781201181\n",
      "\n",
      "\n",
      "at random state 179, training accuracy is 74.91673922992126\n",
      "at random state 179, testing accuracy is 74.88413020977099\n",
      "\n",
      "\n",
      "at random state 180, training accuracy is 74.7175117491261\n",
      "at random state 180, testing accuracy is 75.29821172494916\n",
      "\n",
      "\n",
      "at random state 181, training accuracy is 75.45939610163587\n",
      "at random state 181, testing accuracy is 73.21051676289389\n",
      "\n",
      "\n",
      "at random state 182, training accuracy is 74.86466970606548\n",
      "at random state 182, testing accuracy is 75.22110119869959\n",
      "\n",
      "\n",
      "at random state 183, training accuracy is 73.77389019253229\n",
      "at random state 183, testing accuracy is 78.25718709867657\n",
      "\n",
      "\n",
      "at random state 184, training accuracy is 75.8364384615278\n",
      "at random state 184, testing accuracy is 71.86670124397381\n",
      "\n",
      "\n",
      "at random state 185, training accuracy is 74.80844042904673\n",
      "at random state 185, testing accuracy is 75.11505932227702\n",
      "\n",
      "\n",
      "at random state 186, training accuracy is 73.55619385068837\n",
      "at random state 186, testing accuracy is 78.27224424673767\n",
      "\n",
      "\n",
      "at random state 187, training accuracy is 76.1919809613438\n",
      "at random state 187, testing accuracy is 70.86899347418426\n",
      "\n",
      "\n",
      "at random state 188, training accuracy is 75.62050899465645\n",
      "at random state 188, testing accuracy is 72.71438782910333\n",
      "\n",
      "\n",
      "at random state 189, training accuracy is 76.55810168478766\n",
      "at random state 189, testing accuracy is 69.63470390152773\n",
      "\n",
      "\n",
      "at random state 190, training accuracy is 76.02853068555345\n",
      "at random state 190, testing accuracy is 71.19444414137347\n",
      "\n",
      "\n",
      "at random state 191, training accuracy is 75.54342802020085\n",
      "at random state 191, testing accuracy is 72.42014833631735\n",
      "\n",
      "\n",
      "at random state 192, training accuracy is 75.95089247031633\n",
      "at random state 192, testing accuracy is 71.77332298336214\n",
      "\n",
      "\n",
      "at random state 193, training accuracy is 73.87725310766812\n",
      "at random state 193, testing accuracy is 77.55702391482231\n",
      "\n",
      "\n",
      "at random state 194, training accuracy is 73.72358796468906\n",
      "at random state 194, testing accuracy is 78.30464353779624\n",
      "\n",
      "\n",
      "at random state 195, training accuracy is 75.56703393664112\n",
      "at random state 195, testing accuracy is 72.86051996001805\n",
      "\n",
      "\n",
      "at random state 196, training accuracy is 75.51277907401911\n",
      "at random state 196, testing accuracy is 73.2471293000034\n",
      "\n",
      "\n",
      "at random state 197, training accuracy is 75.21082252054505\n",
      "at random state 197, testing accuracy is 73.77876857881863\n",
      "\n",
      "\n",
      "at random state 198, training accuracy is 74.7726453115164\n",
      "at random state 198, testing accuracy is 75.19636733638015\n",
      "\n",
      "\n",
      "at random state 199, training accuracy is 76.5801382535942\n",
      "at random state 199, testing accuracy is 69.59140433851469\n",
      "\n",
      "\n"
     ]
    }
   ],
   "source": [
    "#using range fucntion to find the best random state using Logestic regression\n",
    "for i in range(0,200):\n",
    "    x_train,x_test,y_train,y_test=train_test_split(x_scaler,y,test_size=0.25,random_state=i)\n",
    "    lr.fit(x_train,y_train)\n",
    "    pred=lr.predict(x_train)\n",
    "    y_pred=lr.predict(x_test)\n",
    "    print(f'at random state {i}, training accuracy is {metrics.r2_score(y_train,pred)*100}')\n",
    "    print(f'at random state {i}, testing accuracy is {metrics.r2_score(y_test,y_pred)*100}')\n",
    "    print('\\n')"
   ]
  },
  {
   "cell_type": "markdown",
   "id": "613ad94a",
   "metadata": {},
   "source": [
    "Taking the random state=5"
   ]
  },
  {
   "cell_type": "code",
   "execution_count": 680,
   "id": "bd39deb3",
   "metadata": {},
   "outputs": [],
   "source": [
    "#since random state  has highest testing score,so taking random state as \n",
    "x_train,x_test,y_train,y_test=train_test_split(x_scaler,y,test_size=0.25,random_state=14)\n"
   ]
  },
  {
   "cell_type": "code",
   "execution_count": 681,
   "id": "2b5835fb",
   "metadata": {},
   "outputs": [
    {
     "data": {
      "text/html": [
       "<style>#sk-container-id-16 {color: black;background-color: white;}#sk-container-id-16 pre{padding: 0;}#sk-container-id-16 div.sk-toggleable {background-color: white;}#sk-container-id-16 label.sk-toggleable__label {cursor: pointer;display: block;width: 100%;margin-bottom: 0;padding: 0.3em;box-sizing: border-box;text-align: center;}#sk-container-id-16 label.sk-toggleable__label-arrow:before {content: \"▸\";float: left;margin-right: 0.25em;color: #696969;}#sk-container-id-16 label.sk-toggleable__label-arrow:hover:before {color: black;}#sk-container-id-16 div.sk-estimator:hover label.sk-toggleable__label-arrow:before {color: black;}#sk-container-id-16 div.sk-toggleable__content {max-height: 0;max-width: 0;overflow: hidden;text-align: left;background-color: #f0f8ff;}#sk-container-id-16 div.sk-toggleable__content pre {margin: 0.2em;color: black;border-radius: 0.25em;background-color: #f0f8ff;}#sk-container-id-16 input.sk-toggleable__control:checked~div.sk-toggleable__content {max-height: 200px;max-width: 100%;overflow: auto;}#sk-container-id-16 input.sk-toggleable__control:checked~label.sk-toggleable__label-arrow:before {content: \"▾\";}#sk-container-id-16 div.sk-estimator input.sk-toggleable__control:checked~label.sk-toggleable__label {background-color: #d4ebff;}#sk-container-id-16 div.sk-label input.sk-toggleable__control:checked~label.sk-toggleable__label {background-color: #d4ebff;}#sk-container-id-16 input.sk-hidden--visually {border: 0;clip: rect(1px 1px 1px 1px);clip: rect(1px, 1px, 1px, 1px);height: 1px;margin: -1px;overflow: hidden;padding: 0;position: absolute;width: 1px;}#sk-container-id-16 div.sk-estimator {font-family: monospace;background-color: #f0f8ff;border: 1px dotted black;border-radius: 0.25em;box-sizing: border-box;margin-bottom: 0.5em;}#sk-container-id-16 div.sk-estimator:hover {background-color: #d4ebff;}#sk-container-id-16 div.sk-parallel-item::after {content: \"\";width: 100%;border-bottom: 1px solid gray;flex-grow: 1;}#sk-container-id-16 div.sk-label:hover label.sk-toggleable__label {background-color: #d4ebff;}#sk-container-id-16 div.sk-serial::before {content: \"\";position: absolute;border-left: 1px solid gray;box-sizing: border-box;top: 0;bottom: 0;left: 50%;z-index: 0;}#sk-container-id-16 div.sk-serial {display: flex;flex-direction: column;align-items: center;background-color: white;padding-right: 0.2em;padding-left: 0.2em;position: relative;}#sk-container-id-16 div.sk-item {position: relative;z-index: 1;}#sk-container-id-16 div.sk-parallel {display: flex;align-items: stretch;justify-content: center;background-color: white;position: relative;}#sk-container-id-16 div.sk-item::before, #sk-container-id-16 div.sk-parallel-item::before {content: \"\";position: absolute;border-left: 1px solid gray;box-sizing: border-box;top: 0;bottom: 0;left: 50%;z-index: -1;}#sk-container-id-16 div.sk-parallel-item {display: flex;flex-direction: column;z-index: 1;position: relative;background-color: white;}#sk-container-id-16 div.sk-parallel-item:first-child::after {align-self: flex-end;width: 50%;}#sk-container-id-16 div.sk-parallel-item:last-child::after {align-self: flex-start;width: 50%;}#sk-container-id-16 div.sk-parallel-item:only-child::after {width: 0;}#sk-container-id-16 div.sk-dashed-wrapped {border: 1px dashed gray;margin: 0 0.4em 0.5em 0.4em;box-sizing: border-box;padding-bottom: 0.4em;background-color: white;}#sk-container-id-16 div.sk-label label {font-family: monospace;font-weight: bold;display: inline-block;line-height: 1.2em;}#sk-container-id-16 div.sk-label-container {text-align: center;}#sk-container-id-16 div.sk-container {/* jupyter's `normalize.less` sets `[hidden] { display: none; }` but bootstrap.min.css set `[hidden] { display: none !important; }` so we also need the `!important` here to be able to override the default hidden behavior on the sphinx rendered scikit-learn.org. See: https://github.com/scikit-learn/scikit-learn/issues/21755 */display: inline-block !important;position: relative;}#sk-container-id-16 div.sk-text-repr-fallback {display: none;}</style><div id=\"sk-container-id-16\" class=\"sk-top-container\"><div class=\"sk-text-repr-fallback\"><pre>LinearRegression()</pre><b>In a Jupyter environment, please rerun this cell to show the HTML representation or trust the notebook. <br />On GitHub, the HTML representation is unable to render, please try loading this page with nbviewer.org.</b></div><div class=\"sk-container\" hidden><div class=\"sk-item\"><div class=\"sk-estimator sk-toggleable\"><input class=\"sk-toggleable__control sk-hidden--visually\" id=\"sk-estimator-id-18\" type=\"checkbox\" checked><label for=\"sk-estimator-id-18\" class=\"sk-toggleable__label sk-toggleable__label-arrow\">LinearRegression</label><div class=\"sk-toggleable__content\"><pre>LinearRegression()</pre></div></div></div></div></div>"
      ],
      "text/plain": [
       "LinearRegression()"
      ]
     },
     "execution_count": 681,
     "metadata": {},
     "output_type": "execute_result"
    }
   ],
   "source": [
    "#Training the data\n",
    "lr.fit(x_train,y_train)"
   ]
  },
  {
   "cell_type": "code",
   "execution_count": 682,
   "id": "901303b0",
   "metadata": {},
   "outputs": [],
   "source": [
    "pred=lr.predict(x_train)\n",
    "y_pred=lr.predict(x_test)"
   ]
  },
  {
   "cell_type": "code",
   "execution_count": 683,
   "id": "e0dc1c57",
   "metadata": {},
   "outputs": [
    {
     "name": "stdout",
     "output_type": "stream",
     "text": [
      "\n",
      " Training Score: 74.9933746620502\n",
      "\n",
      " Testing Score: 74.76478912985338\n"
     ]
    }
   ],
   "source": [
    "#Printing the training and testing score\n",
    "print('\\n Training Score:',metrics.r2_score(y_train,pred)*100)\n",
    "print('\\n Testing Score:',metrics.r2_score(y_test,y_pred)*100)"
   ]
  },
  {
   "cell_type": "code",
   "execution_count": 684,
   "id": "ff95f098",
   "metadata": {},
   "outputs": [],
   "source": [
    "train_accuracy=metrics.r2_score(y_train,pred)\n",
    "test_accuracy=metrics.r2_score(y_test,y_pred)"
   ]
  },
  {
   "cell_type": "code",
   "execution_count": 685,
   "id": "ea0468b6",
   "metadata": {},
   "outputs": [
    {
     "name": "stdout",
     "output_type": "stream",
     "text": [
      "at cross fold 2 the cv score is0.7478164228441967and accuracy for the testing is 0.7476478912985338\n",
      "\n",
      "\n",
      "at cross fold 3 the cv score is0.7438853344439967and accuracy for the testing is 0.7476478912985338\n",
      "\n",
      "\n",
      "at cross fold 4 the cv score is0.7445349120202628and accuracy for the testing is 0.7476478912985338\n",
      "\n",
      "\n",
      "at cross fold 5 the cv score is0.7464099135301828and accuracy for the testing is 0.7476478912985338\n",
      "\n",
      "\n"
     ]
    }
   ],
   "source": [
    "#Checking cross validation score for linear Regression\n",
    "for j in range(2,6):\n",
    "    cv_score=cross_val_score(lr,x_scaler,y,cv=j)\n",
    "    cv_mean=cv_score.mean()\n",
    "    print(f'at cross fold {j} the cv score is{cv_mean}and accuracy for the testing is {test_accuracy}')\n",
    "    print('\\n')"
   ]
  },
  {
   "cell_type": "markdown",
   "id": "ca96830e",
   "metadata": {},
   "source": [
    "By looking at the output i will be talking cv=5."
   ]
  },
  {
   "cell_type": "code",
   "execution_count": 686,
   "id": "78e47b64",
   "metadata": {},
   "outputs": [],
   "source": [
    "#imporing libraries\n",
    "from sklearn.metrics import mean_absolute_error,mean_squared_error"
   ]
  },
  {
   "cell_type": "code",
   "execution_count": 687,
   "id": "c4f8373c",
   "metadata": {},
   "outputs": [
    {
     "data": {
      "text/plain": [
       "4138.379511886612"
      ]
     },
     "execution_count": 687,
     "metadata": {},
     "output_type": "execute_result"
    }
   ],
   "source": [
    "#mean absolute error\n",
    "mean_absolute_error(y_test,y_pred)"
   ]
  },
  {
   "cell_type": "code",
   "execution_count": 688,
   "id": "5cfebaf9",
   "metadata": {},
   "outputs": [
    {
     "data": {
      "text/plain": [
       "35744205.46160799"
      ]
     },
     "execution_count": 688,
     "metadata": {},
     "output_type": "execute_result"
    }
   ],
   "source": [
    "#mean squared error\n",
    "mean_squared_error(y_test,y_pred)"
   ]
  },
  {
   "cell_type": "code",
   "execution_count": 689,
   "id": "40c9df82",
   "metadata": {},
   "outputs": [
    {
     "data": {
      "text/plain": [
       "5978.645788270785"
      ]
     },
     "execution_count": 689,
     "metadata": {},
     "output_type": "execute_result"
    }
   ],
   "source": [
    "#Root mean squared error\n",
    "np.sqrt(mean_squared_error(y_test,y_pred))"
   ]
  },
  {
   "cell_type": "code",
   "execution_count": 691,
   "id": "e7031a5e",
   "metadata": {},
   "outputs": [
    {
     "data": {
      "image/png": "[encoded data removed]",
      "text/plain": [
       "<Figure size 576x432 with 1 Axes>"
      ]
     },
     "metadata": {
      "needs_background": "light"
     },
     "output_type": "display_data"
    }
   ],
   "source": [
    "#Plotting the best fit line\n",
    "plt.figure(figsize=(8,6))\n",
    "plt.scatter(x=y_test,y=y_pred,color='red')\n",
    "plt.plot(y_test,y_test,color='blue')\n",
    "plt.xlabel('Actual Charges',fontsize=10)\n",
    "plt.ylabel('Predicted Charges',fontsize=10)\n",
    "plt.show()"
   ]
  },
  {
   "cell_type": "markdown",
   "id": "6aad948d",
   "metadata": {},
   "source": [
    "# RANDOM FOREST"
   ]
  },
  {
   "cell_type": "code",
   "execution_count": 761,
   "id": "92256b8a",
   "metadata": {},
   "outputs": [],
   "source": [
    "#Instantiating model\n",
    "rf=RandomForestRegressor()"
   ]
  },
  {
   "cell_type": "code",
   "execution_count": 762,
   "id": "10c4acea",
   "metadata": {},
   "outputs": [
    {
     "name": "stdout",
     "output_type": "stream",
     "text": [
      "At Random state 0, Training score is 97.58864626092485\n",
      "At Random state 0, Testing score is 83.3774022143072\n",
      "\n",
      "\n",
      "At Random state 1, Training score is 97.46265164377434\n",
      "At Random state 1, Testing score is 85.39959355259069\n",
      "\n",
      "\n",
      "At Random state 2, Training score is 97.64566872469783\n",
      "At Random state 2, Testing score is 84.53116037107553\n",
      "\n",
      "\n",
      "At Random state 3, Training score is 97.53591693070442\n",
      "At Random state 3, Testing score is 86.05411105363918\n",
      "\n",
      "\n",
      "At Random state 4, Training score is 97.66258653123843\n",
      "At Random state 4, Testing score is 83.58172792903724\n",
      "\n",
      "\n",
      "At Random state 5, Training score is 97.75852832288302\n",
      "At Random state 5, Testing score is 82.16026928297437\n",
      "\n",
      "\n",
      "At Random state 6, Training score is 97.47989784565759\n",
      "At Random state 6, Testing score is 87.2021579901422\n",
      "\n",
      "\n",
      "At Random state 7, Training score is 97.55621314053656\n",
      "At Random state 7, Testing score is 83.67118408440645\n",
      "\n",
      "\n",
      "At Random state 8, Training score is 97.4765786185813\n",
      "At Random state 8, Testing score is 85.5360248550021\n",
      "\n",
      "\n",
      "At Random state 9, Training score is 97.6993730577433\n",
      "At Random state 9, Testing score is 84.29704504108038\n",
      "\n",
      "\n",
      "At Random state 10, Training score is 97.57226294851036\n",
      "At Random state 10, Testing score is 83.66238161311699\n",
      "\n",
      "\n",
      "At Random state 11, Training score is 97.6621964852645\n",
      "At Random state 11, Testing score is 83.18649952422334\n",
      "\n",
      "\n",
      "At Random state 12, Training score is 97.66992635914347\n",
      "At Random state 12, Testing score is 80.8035804244323\n",
      "\n",
      "\n",
      "At Random state 13, Training score is 97.41527183646654\n",
      "At Random state 13, Testing score is 85.83203160066935\n",
      "\n",
      "\n",
      "At Random state 14, Training score is 97.76540998175514\n",
      "At Random state 14, Testing score is 83.61735634129586\n",
      "\n",
      "\n",
      "At Random state 15, Training score is 97.59801307747001\n",
      "At Random state 15, Testing score is 83.16296439035627\n",
      "\n",
      "\n",
      "At Random state 16, Training score is 97.80790932018795\n",
      "At Random state 16, Testing score is 80.63866276187198\n",
      "\n",
      "\n",
      "At Random state 17, Training score is 97.73924777644663\n",
      "At Random state 17, Testing score is 79.72598831479151\n",
      "\n",
      "\n",
      "At Random state 18, Training score is 97.91304868119717\n",
      "At Random state 18, Testing score is 81.94929607743043\n",
      "\n",
      "\n",
      "At Random state 19, Training score is 97.1422081916396\n",
      "At Random state 19, Testing score is 89.04789610591928\n",
      "\n",
      "\n",
      "At Random state 20, Training score is 97.67110628177016\n",
      "At Random state 20, Testing score is 81.43876467323658\n",
      "\n",
      "\n",
      "At Random state 21, Training score is 97.74781477785602\n",
      "At Random state 21, Testing score is 81.88498520196838\n",
      "\n",
      "\n",
      "At Random state 22, Training score is 97.43426131686736\n",
      "At Random state 22, Testing score is 86.72710496676723\n",
      "\n",
      "\n",
      "At Random state 23, Training score is 97.6399670695885\n",
      "At Random state 23, Testing score is 83.20524934724602\n",
      "\n",
      "\n",
      "At Random state 24, Training score is 97.56100022736409\n",
      "At Random state 24, Testing score is 84.61627363548874\n",
      "\n",
      "\n",
      "At Random state 25, Training score is 97.6070650868994\n",
      "At Random state 25, Testing score is 84.39872583821945\n",
      "\n",
      "\n",
      "At Random state 26, Training score is 97.53745585526687\n",
      "At Random state 26, Testing score is 85.35938476297329\n",
      "\n",
      "\n",
      "At Random state 27, Training score is 97.84309047391862\n",
      "At Random state 27, Testing score is 82.30810360872321\n",
      "\n",
      "\n",
      "At Random state 28, Training score is 97.64367748533897\n",
      "At Random state 28, Testing score is 83.65401386639873\n",
      "\n",
      "\n",
      "At Random state 29, Training score is 97.34013569985468\n",
      "At Random state 29, Testing score is 88.01445509398785\n",
      "\n",
      "\n",
      "At Random state 30, Training score is 97.73933104834558\n",
      "At Random state 30, Testing score is 80.29534885714278\n",
      "\n",
      "\n",
      "At Random state 31, Training score is 97.71996478069372\n",
      "At Random state 31, Testing score is 81.54064638848246\n",
      "\n",
      "\n",
      "At Random state 32, Training score is 97.52561533078132\n",
      "At Random state 32, Testing score is 83.85457151872858\n",
      "\n",
      "\n",
      "At Random state 33, Training score is 97.76236097487526\n",
      "At Random state 33, Testing score is 82.15767664581954\n",
      "\n",
      "\n",
      "At Random state 34, Training score is 97.68423470225014\n",
      "At Random state 34, Testing score is 79.08518214383973\n",
      "\n",
      "\n",
      "At Random state 35, Training score is 97.57233705504564\n",
      "At Random state 35, Testing score is 83.86304502563826\n",
      "\n",
      "\n",
      "At Random state 36, Training score is 97.42965737664152\n",
      "At Random state 36, Testing score is 84.35773107217142\n",
      "\n",
      "\n",
      "At Random state 37, Training score is 97.56763224543647\n",
      "At Random state 37, Testing score is 83.33159347224907\n",
      "\n",
      "\n",
      "At Random state 38, Training score is 97.60128960755745\n",
      "At Random state 38, Testing score is 82.6208470070836\n",
      "\n",
      "\n",
      "At Random state 39, Training score is 97.66919365435602\n",
      "At Random state 39, Testing score is 82.09473180885702\n",
      "\n",
      "\n",
      "At Random state 40, Training score is 97.7325171617594\n",
      "At Random state 40, Testing score is 82.94907224863839\n",
      "\n",
      "\n",
      "At Random state 41, Training score is 97.79500394402322\n",
      "At Random state 41, Testing score is 80.12354095421892\n",
      "\n",
      "\n",
      "At Random state 42, Training score is 97.6342594395429\n",
      "At Random state 42, Testing score is 82.54747128316536\n",
      "\n",
      "\n",
      "At Random state 43, Training score is 97.72779243298734\n",
      "At Random state 43, Testing score is 83.91118927061454\n",
      "\n",
      "\n",
      "At Random state 44, Training score is 97.28568152799953\n",
      "At Random state 44, Testing score is 85.22555610907744\n",
      "\n",
      "\n",
      "At Random state 45, Training score is 97.59824884173143\n",
      "At Random state 45, Testing score is 84.02228537659191\n",
      "\n",
      "\n",
      "At Random state 46, Training score is 97.80219602082465\n",
      "At Random state 46, Testing score is 80.73395050879425\n",
      "\n",
      "\n",
      "At Random state 47, Training score is 97.69546141202655\n",
      "At Random state 47, Testing score is 82.94255267654893\n",
      "\n",
      "\n",
      "At Random state 48, Training score is 98.00685280216622\n",
      "At Random state 48, Testing score is 80.56159562215296\n",
      "\n",
      "\n",
      "At Random state 49, Training score is 97.51941165218115\n",
      "At Random state 49, Testing score is 83.02014657098341\n",
      "\n",
      "\n",
      "At Random state 50, Training score is 97.91285664115732\n",
      "At Random state 50, Testing score is 78.92369075626607\n",
      "\n",
      "\n",
      "At Random state 51, Training score is 97.50082457392483\n",
      "At Random state 51, Testing score is 85.2826359388333\n",
      "\n",
      "\n",
      "At Random state 52, Training score is 97.5369934397\n",
      "At Random state 52, Testing score is 83.53830462325799\n",
      "\n",
      "\n",
      "At Random state 53, Training score is 97.58039171837967\n",
      "At Random state 53, Testing score is 85.08669140158376\n",
      "\n",
      "\n",
      "At Random state 54, Training score is 97.60368126343472\n",
      "At Random state 54, Testing score is 82.19263551438098\n",
      "\n",
      "\n",
      "At Random state 55, Training score is 97.54752150100485\n",
      "At Random state 55, Testing score is 83.11090564599291\n",
      "\n",
      "\n",
      "At Random state 56, Training score is 97.62482711484881\n",
      "At Random state 56, Testing score is 84.01472067610128\n",
      "\n",
      "\n",
      "At Random state 57, Training score is 97.83383075593775\n",
      "At Random state 57, Testing score is 79.31321475803009\n",
      "\n",
      "\n",
      "At Random state 58, Training score is 97.7180391489669\n",
      "At Random state 58, Testing score is 82.26883230208993\n",
      "\n",
      "\n",
      "At Random state 59, Training score is 97.84859470827479\n",
      "At Random state 59, Testing score is 81.71323327313176\n",
      "\n",
      "\n",
      "At Random state 60, Training score is 97.52312777044993\n",
      "At Random state 60, Testing score is 83.73487965071749\n",
      "\n",
      "\n",
      "At Random state 61, Training score is 97.78933848556515\n",
      "At Random state 61, Testing score is 80.9174372239199\n",
      "\n",
      "\n",
      "At Random state 62, Training score is 97.70864744072867\n",
      "At Random state 62, Testing score is 82.97409979189665\n",
      "\n",
      "\n",
      "At Random state 63, Training score is 97.6466196092994\n",
      "At Random state 63, Testing score is 84.14036588322072\n",
      "\n",
      "\n",
      "At Random state 64, Training score is 97.54262822395438\n",
      "At Random state 64, Testing score is 85.53110386158714\n",
      "\n",
      "\n",
      "At Random state 65, Training score is 97.53166796003629\n",
      "At Random state 65, Testing score is 83.7435096545959\n",
      "\n",
      "\n",
      "At Random state 66, Training score is 98.01586804187988\n",
      "At Random state 66, Testing score is 78.5516826476402\n",
      "\n",
      "\n",
      "At Random state 67, Training score is 97.71974100964894\n",
      "At Random state 67, Testing score is 83.38326475853037\n",
      "\n",
      "\n",
      "At Random state 68, Training score is 97.50005242901915\n",
      "At Random state 68, Testing score is 83.54481213328404\n",
      "\n",
      "\n",
      "At Random state 69, Training score is 97.62661180382372\n",
      "At Random state 69, Testing score is 83.82682021487754\n",
      "\n",
      "\n",
      "At Random state 70, Training score is 97.72185170628202\n",
      "At Random state 70, Testing score is 78.66626789834872\n",
      "\n",
      "\n",
      "At Random state 71, Training score is 97.82043016142016\n",
      "At Random state 71, Testing score is 80.48908483163285\n",
      "\n",
      "\n",
      "At Random state 72, Training score is 97.91163177384166\n",
      "At Random state 72, Testing score is 80.86415327150517\n",
      "\n",
      "\n",
      "At Random state 73, Training score is 97.79870320961652\n",
      "At Random state 73, Testing score is 80.51424163249139\n",
      "\n",
      "\n",
      "At Random state 74, Training score is 97.8680659362956\n",
      "At Random state 74, Testing score is 79.01452579657465\n",
      "\n",
      "\n",
      "At Random state 75, Training score is 97.51581363924389\n",
      "At Random state 75, Testing score is 86.76735098807131\n",
      "\n",
      "\n",
      "At Random state 76, Training score is 97.53113341550463\n",
      "At Random state 76, Testing score is 84.08536899255503\n",
      "\n",
      "\n",
      "At Random state 77, Training score is 97.87807568429871\n",
      "At Random state 77, Testing score is 80.87383654799017\n",
      "\n",
      "\n",
      "At Random state 78, Training score is 97.90518067167692\n",
      "At Random state 78, Testing score is 79.24335968593519\n",
      "\n",
      "\n",
      "At Random state 79, Training score is 97.7260813043477\n",
      "At Random state 79, Testing score is 80.98893033628079\n",
      "\n",
      "\n",
      "At Random state 80, Training score is 97.59473854157848\n",
      "At Random state 80, Testing score is 82.37332853705801\n",
      "\n",
      "\n",
      "At Random state 81, Training score is 97.59699544353776\n",
      "At Random state 81, Testing score is 83.27960961242252\n",
      "\n",
      "\n",
      "At Random state 82, Training score is 97.37283347602391\n",
      "At Random state 82, Testing score is 85.91980221722244\n",
      "\n",
      "\n",
      "At Random state 83, Training score is 97.76666921772932\n",
      "At Random state 83, Testing score is 83.38405127308778\n",
      "\n",
      "\n",
      "At Random state 84, Training score is 97.47240634516649\n",
      "At Random state 84, Testing score is 85.68739775832242\n",
      "\n",
      "\n",
      "At Random state 85, Training score is 97.91363218882591\n",
      "At Random state 85, Testing score is 79.71154633142304\n",
      "\n",
      "\n",
      "At Random state 86, Training score is 97.43384955821276\n",
      "At Random state 86, Testing score is 84.74756491941432\n",
      "\n",
      "\n",
      "At Random state 87, Training score is 98.03479991626781\n",
      "At Random state 87, Testing score is 77.73984521937456\n",
      "\n",
      "\n",
      "At Random state 88, Training score is 97.53456265725387\n",
      "At Random state 88, Testing score is 86.07563011770976\n",
      "\n",
      "\n",
      "At Random state 89, Training score is 97.54771854898462\n",
      "At Random state 89, Testing score is 83.5149149536449\n",
      "\n",
      "\n",
      "At Random state 90, Training score is 97.68501589560057\n",
      "At Random state 90, Testing score is 80.86208182997588\n",
      "\n",
      "\n",
      "At Random state 91, Training score is 97.53456873108854\n",
      "At Random state 91, Testing score is 84.60593724136531\n",
      "\n",
      "\n",
      "At Random state 92, Training score is 97.68002449217175\n",
      "At Random state 92, Testing score is 81.45739306359658\n",
      "\n",
      "\n",
      "At Random state 93, Training score is 97.43227619409456\n",
      "At Random state 93, Testing score is 86.52141831469571\n",
      "\n",
      "\n",
      "At Random state 94, Training score is 97.39506148041235\n",
      "At Random state 94, Testing score is 86.420899061898\n",
      "\n",
      "\n",
      "At Random state 95, Training score is 97.66779329908584\n",
      "At Random state 95, Testing score is 82.98946338877423\n",
      "\n",
      "\n",
      "At Random state 96, Training score is 97.76878707200638\n",
      "At Random state 96, Testing score is 81.09660890875745\n",
      "\n",
      "\n",
      "At Random state 97, Training score is 97.73509026743707\n",
      "At Random state 97, Testing score is 82.40058972107846\n",
      "\n",
      "\n",
      "At Random state 98, Training score is 97.3735177006448\n",
      "At Random state 98, Testing score is 86.58406543744688\n",
      "\n",
      "\n",
      "At Random state 99, Training score is 97.55549064310132\n",
      "At Random state 99, Testing score is 85.0214496305245\n",
      "\n",
      "\n",
      "At Random state 100, Training score is 97.48827170762878\n",
      "At Random state 100, Testing score is 83.95249779634047\n",
      "\n",
      "\n",
      "At Random state 101, Training score is 97.69507993002365\n",
      "At Random state 101, Testing score is 81.11482263163417\n",
      "\n",
      "\n",
      "At Random state 102, Training score is 97.75629579353597\n",
      "At Random state 102, Testing score is 80.84788271040945\n",
      "\n",
      "\n",
      "At Random state 103, Training score is 97.62983737091913\n",
      "At Random state 103, Testing score is 83.87769855672254\n",
      "\n",
      "\n",
      "At Random state 104, Training score is 97.65264377892913\n",
      "At Random state 104, Testing score is 82.1383150648028\n",
      "\n",
      "\n",
      "At Random state 105, Training score is 97.73079665675\n",
      "At Random state 105, Testing score is 81.09490589431746\n",
      "\n",
      "\n",
      "At Random state 106, Training score is 97.77841880512744\n",
      "At Random state 106, Testing score is 81.62373854014338\n",
      "\n",
      "\n",
      "At Random state 107, Training score is 97.98146071428\n",
      "At Random state 107, Testing score is 77.70309041072153\n",
      "\n",
      "\n",
      "At Random state 108, Training score is 97.5830215857077\n",
      "At Random state 108, Testing score is 83.31121417464367\n",
      "\n",
      "\n",
      "At Random state 109, Training score is 97.56265614046471\n",
      "At Random state 109, Testing score is 84.1342940035946\n",
      "\n",
      "\n",
      "At Random state 110, Training score is 97.7632223243253\n",
      "At Random state 110, Testing score is 82.38095504917395\n",
      "\n",
      "\n",
      "At Random state 111, Training score is 97.52829722592247\n",
      "At Random state 111, Testing score is 85.4941037042938\n",
      "\n",
      "\n",
      "At Random state 112, Training score is 97.29173890449906\n",
      "At Random state 112, Testing score is 87.68849368201911\n",
      "\n",
      "\n",
      "At Random state 113, Training score is 97.33371741918768\n",
      "At Random state 113, Testing score is 86.86946111131239\n",
      "\n",
      "\n",
      "At Random state 114, Training score is 97.54149249318966\n",
      "At Random state 114, Testing score is 83.18728924871299\n",
      "\n",
      "\n",
      "At Random state 115, Training score is 97.8105321672045\n",
      "At Random state 115, Testing score is 80.34321114950302\n",
      "\n",
      "\n",
      "At Random state 116, Training score is 97.68501946979693\n",
      "At Random state 116, Testing score is 81.56157372935942\n",
      "\n",
      "\n",
      "At Random state 117, Training score is 97.4058359345317\n",
      "At Random state 117, Testing score is 87.44961408324488\n",
      "\n",
      "\n",
      "At Random state 118, Training score is 97.4266448389222\n",
      "At Random state 118, Testing score is 86.08355366937468\n",
      "\n",
      "\n",
      "At Random state 119, Training score is 97.48504629281037\n",
      "At Random state 119, Testing score is 85.89059517976753\n",
      "\n",
      "\n",
      "At Random state 120, Training score is 97.68680873182784\n",
      "At Random state 120, Testing score is 82.73336825140619\n",
      "\n",
      "\n",
      "At Random state 121, Training score is 97.51757217153761\n",
      "At Random state 121, Testing score is 83.88130160910274\n",
      "\n",
      "\n",
      "At Random state 122, Training score is 97.3679836458467\n",
      "At Random state 122, Testing score is 86.73937579888003\n",
      "\n",
      "\n",
      "At Random state 123, Training score is 97.54654342159836\n",
      "At Random state 123, Testing score is 85.24734778213123\n",
      "\n",
      "\n",
      "At Random state 124, Training score is 97.51931834583961\n",
      "At Random state 124, Testing score is 84.48636449162923\n",
      "\n",
      "\n",
      "At Random state 125, Training score is 97.66358513775215\n",
      "At Random state 125, Testing score is 83.22664683876798\n",
      "\n",
      "\n",
      "At Random state 126, Training score is 97.53872075923135\n",
      "At Random state 126, Testing score is 83.0888080559865\n",
      "\n",
      "\n",
      "At Random state 127, Training score is 97.46341766678573\n",
      "At Random state 127, Testing score is 86.79959420359799\n",
      "\n",
      "\n",
      "At Random state 128, Training score is 97.66161734496083\n",
      "At Random state 128, Testing score is 84.92636436701505\n",
      "\n",
      "\n",
      "At Random state 129, Training score is 97.76118884029495\n",
      "At Random state 129, Testing score is 79.404757630899\n",
      "\n",
      "\n",
      "At Random state 130, Training score is 97.75603328079615\n",
      "At Random state 130, Testing score is 80.68308973438442\n",
      "\n",
      "\n",
      "At Random state 131, Training score is 97.61623923289001\n",
      "At Random state 131, Testing score is 82.5573129784291\n",
      "\n",
      "\n",
      "At Random state 132, Training score is 97.5927671683281\n",
      "At Random state 132, Testing score is 82.41721916002984\n",
      "\n",
      "\n",
      "At Random state 133, Training score is 97.99670494970921\n",
      "At Random state 133, Testing score is 78.82815387475549\n",
      "\n",
      "\n",
      "At Random state 134, Training score is 97.68904877148566\n",
      "At Random state 134, Testing score is 82.43042496399097\n",
      "\n",
      "\n",
      "At Random state 135, Training score is 97.6526090318585\n",
      "At Random state 135, Testing score is 84.72518393948056\n",
      "\n",
      "\n",
      "At Random state 136, Training score is 97.82579888532482\n",
      "At Random state 136, Testing score is 81.82338944941843\n",
      "\n",
      "\n",
      "At Random state 137, Training score is 97.47341810774749\n",
      "At Random state 137, Testing score is 84.84763405724553\n",
      "\n",
      "\n",
      "At Random state 138, Training score is 97.51584423451644\n",
      "At Random state 138, Testing score is 84.17882219135838\n",
      "\n",
      "\n",
      "At Random state 139, Training score is 97.60509185697693\n",
      "At Random state 139, Testing score is 84.44679889365095\n",
      "\n",
      "\n",
      "At Random state 140, Training score is 97.58462670808888\n",
      "At Random state 140, Testing score is 84.47861319036379\n",
      "\n",
      "\n",
      "At Random state 141, Training score is 97.46588666858041\n",
      "At Random state 141, Testing score is 85.37472750922235\n",
      "\n",
      "\n",
      "At Random state 142, Training score is 97.56197591998357\n",
      "At Random state 142, Testing score is 85.6584832365089\n",
      "\n",
      "\n",
      "At Random state 143, Training score is 97.59703632470402\n",
      "At Random state 143, Testing score is 86.06567561180864\n",
      "\n",
      "\n",
      "At Random state 144, Training score is 97.41265432093962\n",
      "At Random state 144, Testing score is 86.83016161374381\n",
      "\n",
      "\n",
      "At Random state 145, Training score is 97.47220549270845\n",
      "At Random state 145, Testing score is 86.50295173926159\n",
      "\n",
      "\n",
      "At Random state 146, Training score is 97.43503218319647\n",
      "At Random state 146, Testing score is 84.49753940228013\n",
      "\n",
      "\n",
      "At Random state 147, Training score is 97.58557841918176\n",
      "At Random state 147, Testing score is 85.28016490661831\n",
      "\n",
      "\n",
      "At Random state 148, Training score is 98.00875372497269\n",
      "At Random state 148, Testing score is 77.89582163893344\n",
      "\n",
      "\n",
      "At Random state 149, Training score is 97.56566574486907\n",
      "At Random state 149, Testing score is 85.6621354640382\n",
      "\n",
      "\n",
      "At Random state 150, Training score is 97.55248577992946\n",
      "At Random state 150, Testing score is 85.79066243196247\n",
      "\n",
      "\n",
      "At Random state 151, Training score is 97.72930078425398\n",
      "At Random state 151, Testing score is 82.55448754178876\n",
      "\n",
      "\n",
      "At Random state 152, Training score is 97.14348448421521\n",
      "At Random state 152, Testing score is 88.88227250647071\n",
      "\n",
      "\n",
      "At Random state 153, Training score is 97.92755436379048\n",
      "At Random state 153, Testing score is 77.94222045890669\n",
      "\n",
      "\n",
      "At Random state 154, Training score is 97.50848383407909\n",
      "At Random state 154, Testing score is 84.78000544976878\n",
      "\n",
      "\n",
      "At Random state 155, Training score is 97.4317702343134\n",
      "At Random state 155, Testing score is 83.78839825561451\n",
      "\n",
      "\n",
      "At Random state 156, Training score is 97.61035618138419\n",
      "At Random state 156, Testing score is 84.56172751694307\n",
      "\n",
      "\n",
      "At Random state 157, Training score is 97.71517868208926\n",
      "At Random state 157, Testing score is 81.66277326488444\n",
      "\n",
      "\n",
      "At Random state 158, Training score is 97.71119107830756\n",
      "At Random state 158, Testing score is 82.29287790864342\n",
      "\n",
      "\n",
      "At Random state 159, Training score is 97.47806443208802\n",
      "At Random state 159, Testing score is 85.28522574944415\n",
      "\n",
      "\n",
      "At Random state 160, Training score is 97.70924130951236\n",
      "At Random state 160, Testing score is 80.74178842086961\n",
      "\n",
      "\n",
      "At Random state 161, Training score is 97.36189937907729\n",
      "At Random state 161, Testing score is 85.9979607934929\n",
      "\n",
      "\n",
      "At Random state 162, Training score is 97.32825629811299\n",
      "At Random state 162, Testing score is 84.66994256659088\n",
      "\n",
      "\n",
      "At Random state 163, Training score is 97.44998862578095\n",
      "At Random state 163, Testing score is 84.34352777391118\n",
      "\n",
      "\n",
      "At Random state 164, Training score is 97.49258321708726\n",
      "At Random state 164, Testing score is 85.83041052667511\n",
      "\n",
      "\n",
      "At Random state 165, Training score is 97.86548930307742\n",
      "At Random state 165, Testing score is 79.0329807259402\n",
      "\n",
      "\n",
      "At Random state 166, Training score is 97.56856096699596\n",
      "At Random state 166, Testing score is 82.37071770595081\n",
      "\n",
      "\n",
      "At Random state 167, Training score is 97.70915380910918\n",
      "At Random state 167, Testing score is 79.80007482361687\n",
      "\n",
      "\n",
      "At Random state 168, Training score is 97.60605304671867\n",
      "At Random state 168, Testing score is 84.74856102933076\n",
      "\n",
      "\n",
      "At Random state 169, Training score is 97.41614580825222\n",
      "At Random state 169, Testing score is 84.45966895317719\n",
      "\n",
      "\n",
      "At Random state 170, Training score is 97.543014509959\n",
      "At Random state 170, Testing score is 81.65358970043225\n",
      "\n",
      "\n",
      "At Random state 171, Training score is 97.660497940232\n",
      "At Random state 171, Testing score is 81.79348202441253\n",
      "\n",
      "\n",
      "At Random state 172, Training score is 97.67687194983937\n",
      "At Random state 172, Testing score is 84.9423339744099\n",
      "\n",
      "\n",
      "At Random state 173, Training score is 97.76189166622974\n",
      "At Random state 173, Testing score is 82.8498397840174\n",
      "\n",
      "\n",
      "At Random state 174, Training score is 97.60030598380688\n",
      "At Random state 174, Testing score is 81.54329416253718\n",
      "\n",
      "\n",
      "At Random state 175, Training score is 97.69911676573584\n",
      "At Random state 175, Testing score is 81.69986620171912\n",
      "\n",
      "\n",
      "At Random state 176, Training score is 97.80627856273796\n",
      "At Random state 176, Testing score is 80.17424504261261\n",
      "\n",
      "\n",
      "At Random state 177, Training score is 97.7516146107922\n",
      "At Random state 177, Testing score is 79.6427158545174\n",
      "\n",
      "\n",
      "At Random state 178, Training score is 97.5720135986828\n",
      "At Random state 178, Testing score is 85.36290761739956\n",
      "\n",
      "\n",
      "At Random state 179, Training score is 97.59576001760286\n",
      "At Random state 179, Testing score is 83.46223873333008\n",
      "\n",
      "\n",
      "At Random state 180, Training score is 97.54680016287057\n",
      "At Random state 180, Testing score is 83.96943060489895\n",
      "\n",
      "\n",
      "At Random state 181, Training score is 97.68760574550403\n",
      "At Random state 181, Testing score is 82.5195732448848\n",
      "\n",
      "\n",
      "At Random state 182, Training score is 97.50651531916333\n",
      "At Random state 182, Testing score is 85.90289056813477\n",
      "\n",
      "\n",
      "At Random state 183, Training score is 97.44746618134364\n",
      "At Random state 183, Testing score is 86.14237161790528\n",
      "\n",
      "\n",
      "At Random state 184, Training score is 97.61554403811255\n",
      "At Random state 184, Testing score is 82.87868605688726\n",
      "\n",
      "\n",
      "At Random state 185, Training score is 97.45003914632174\n",
      "At Random state 185, Testing score is 83.46652561850284\n",
      "\n",
      "\n",
      "At Random state 186, Training score is 97.4180148645286\n",
      "At Random state 186, Testing score is 85.97419501043967\n",
      "\n",
      "\n",
      "At Random state 187, Training score is 97.73495293595306\n",
      "At Random state 187, Testing score is 80.67216975116663\n",
      "\n",
      "\n",
      "At Random state 188, Training score is 97.57854811248052\n",
      "At Random state 188, Testing score is 83.01401943429116\n",
      "\n",
      "\n",
      "At Random state 189, Training score is 97.81032942937658\n",
      "At Random state 189, Testing score is 78.59809677703943\n",
      "\n",
      "\n",
      "At Random state 190, Training score is 97.76105134476967\n",
      "At Random state 190, Testing score is 80.37223715023704\n",
      "\n",
      "\n",
      "At Random state 191, Training score is 97.53752383744202\n",
      "At Random state 191, Testing score is 83.64889209929845\n",
      "\n",
      "\n",
      "At Random state 192, Training score is 97.62737070739213\n",
      "At Random state 192, Testing score is 81.52837801091164\n",
      "\n",
      "\n",
      "At Random state 193, Training score is 97.45873393091455\n",
      "At Random state 193, Testing score is 85.3990067439118\n",
      "\n",
      "\n",
      "At Random state 194, Training score is 97.2521743465715\n",
      "At Random state 194, Testing score is 87.78218635762929\n",
      "\n",
      "\n",
      "At Random state 195, Training score is 97.65993938428082\n",
      "At Random state 195, Testing score is 82.57781541378115\n",
      "\n",
      "\n",
      "At Random state 196, Training score is 97.81613078439659\n",
      "At Random state 196, Testing score is 80.78911845865439\n",
      "\n",
      "\n",
      "At Random state 197, Training score is 97.51662284960813\n",
      "At Random state 197, Testing score is 83.81830179519011\n",
      "\n",
      "\n",
      "At Random state 198, Training score is 97.55073268142449\n",
      "At Random state 198, Testing score is 85.51500406554725\n",
      "\n",
      "\n",
      "At Random state 199, Training score is 97.6838368008327\n",
      "At Random state 199, Testing score is 82.01315770347921\n",
      "\n",
      "\n"
     ]
    }
   ],
   "source": [
    "#using range fucntion to find the best random state using Logestic regression\n",
    "for i in range(0,200):\n",
    "    x_train,x_test,y_train,y_test=train_test_split(x_scaler,y,test_size=0.25,random_state=i)\n",
    "    rf.fit(x_train,y_train)\n",
    "    pred=rf.predict(x_train)\n",
    "    y_pred=rf.predict(x_test)\n",
    "    print(f'At Random state {i}, Training score is {metrics.r2_score(y_train,pred)*100}')\n",
    "    print(f'At Random state {i}, Testing score is {metrics.r2_score(y_test,y_pred)*100}')\n",
    "    print('\\n')"
   ]
  },
  {
   "cell_type": "markdown",
   "id": "7c47715d",
   "metadata": {},
   "source": [
    "Taking the random state=6"
   ]
  },
  {
   "cell_type": "code",
   "execution_count": 763,
   "id": "8a625fd0",
   "metadata": {},
   "outputs": [],
   "source": [
    "#since random state  has highest testing score,so taking random state as \n",
    "x_train,x_test,y_train,y_test=train_test_split(x,y,test_size=0.25,random_state=6)"
   ]
  },
  {
   "cell_type": "code",
   "execution_count": 764,
   "id": "54a230e6",
   "metadata": {},
   "outputs": [
    {
     "data": {
      "text/html": [
       "<style>#sk-container-id-33 {color: black;background-color: white;}#sk-container-id-33 pre{padding: 0;}#sk-container-id-33 div.sk-toggleable {background-color: white;}#sk-container-id-33 label.sk-toggleable__label {cursor: pointer;display: block;width: 100%;margin-bottom: 0;padding: 0.3em;box-sizing: border-box;text-align: center;}#sk-container-id-33 label.sk-toggleable__label-arrow:before {content: \"▸\";float: left;margin-right: 0.25em;color: #696969;}#sk-container-id-33 label.sk-toggleable__label-arrow:hover:before {color: black;}#sk-container-id-33 div.sk-estimator:hover label.sk-toggleable__label-arrow:before {color: black;}#sk-container-id-33 div.sk-toggleable__content {max-height: 0;max-width: 0;overflow: hidden;text-align: left;background-color: #f0f8ff;}#sk-container-id-33 div.sk-toggleable__content pre {margin: 0.2em;color: black;border-radius: 0.25em;background-color: #f0f8ff;}#sk-container-id-33 input.sk-toggleable__control:checked~div.sk-toggleable__content {max-height: 200px;max-width: 100%;overflow: auto;}#sk-container-id-33 input.sk-toggleable__control:checked~label.sk-toggleable__label-arrow:before {content: \"▾\";}#sk-container-id-33 div.sk-estimator input.sk-toggleable__control:checked~label.sk-toggleable__label {background-color: #d4ebff;}#sk-container-id-33 div.sk-label input.sk-toggleable__control:checked~label.sk-toggleable__label {background-color: #d4ebff;}#sk-container-id-33 input.sk-hidden--visually {border: 0;clip: rect(1px 1px 1px 1px);clip: rect(1px, 1px, 1px, 1px);height: 1px;margin: -1px;overflow: hidden;padding: 0;position: absolute;width: 1px;}#sk-container-id-33 div.sk-estimator {font-family: monospace;background-color: #f0f8ff;border: 1px dotted black;border-radius: 0.25em;box-sizing: border-box;margin-bottom: 0.5em;}#sk-container-id-33 div.sk-estimator:hover {background-color: #d4ebff;}#sk-container-id-33 div.sk-parallel-item::after {content: \"\";width: 100%;border-bottom: 1px solid gray;flex-grow: 1;}#sk-container-id-33 div.sk-label:hover label.sk-toggleable__label {background-color: #d4ebff;}#sk-container-id-33 div.sk-serial::before {content: \"\";position: absolute;border-left: 1px solid gray;box-sizing: border-box;top: 0;bottom: 0;left: 50%;z-index: 0;}#sk-container-id-33 div.sk-serial {display: flex;flex-direction: column;align-items: center;background-color: white;padding-right: 0.2em;padding-left: 0.2em;position: relative;}#sk-container-id-33 div.sk-item {position: relative;z-index: 1;}#sk-container-id-33 div.sk-parallel {display: flex;align-items: stretch;justify-content: center;background-color: white;position: relative;}#sk-container-id-33 div.sk-item::before, #sk-container-id-33 div.sk-parallel-item::before {content: \"\";position: absolute;border-left: 1px solid gray;box-sizing: border-box;top: 0;bottom: 0;left: 50%;z-index: -1;}#sk-container-id-33 div.sk-parallel-item {display: flex;flex-direction: column;z-index: 1;position: relative;background-color: white;}#sk-container-id-33 div.sk-parallel-item:first-child::after {align-self: flex-end;width: 50%;}#sk-container-id-33 div.sk-parallel-item:last-child::after {align-self: flex-start;width: 50%;}#sk-container-id-33 div.sk-parallel-item:only-child::after {width: 0;}#sk-container-id-33 div.sk-dashed-wrapped {border: 1px dashed gray;margin: 0 0.4em 0.5em 0.4em;box-sizing: border-box;padding-bottom: 0.4em;background-color: white;}#sk-container-id-33 div.sk-label label {font-family: monospace;font-weight: bold;display: inline-block;line-height: 1.2em;}#sk-container-id-33 div.sk-label-container {text-align: center;}#sk-container-id-33 div.sk-container {/* jupyter's `normalize.less` sets `[hidden] { display: none; }` but bootstrap.min.css set `[hidden] { display: none !important; }` so we also need the `!important` here to be able to override the default hidden behavior on the sphinx rendered scikit-learn.org. See: https://github.com/scikit-learn/scikit-learn/issues/21755 */display: inline-block !important;position: relative;}#sk-container-id-33 div.sk-text-repr-fallback {display: none;}</style><div id=\"sk-container-id-33\" class=\"sk-top-container\"><div class=\"sk-text-repr-fallback\"><pre>RandomForestRegressor()</pre><b>In a Jupyter environment, please rerun this cell to show the HTML representation or trust the notebook. <br />On GitHub, the HTML representation is unable to render, please try loading this page with nbviewer.org.</b></div><div class=\"sk-container\" hidden><div class=\"sk-item\"><div class=\"sk-estimator sk-toggleable\"><input class=\"sk-toggleable__control sk-hidden--visually\" id=\"sk-estimator-id-37\" type=\"checkbox\" checked><label for=\"sk-estimator-id-37\" class=\"sk-toggleable__label sk-toggleable__label-arrow\">RandomForestRegressor</label><div class=\"sk-toggleable__content\"><pre>RandomForestRegressor()</pre></div></div></div></div></div>"
      ],
      "text/plain": [
       "RandomForestRegressor()"
      ]
     },
     "execution_count": 764,
     "metadata": {},
     "output_type": "execute_result"
    }
   ],
   "source": [
    "#Training the Model\n",
    "rf.fit(x_train,y_train)"
   ]
  },
  {
   "cell_type": "code",
   "execution_count": 765,
   "id": "1ab80657",
   "metadata": {},
   "outputs": [],
   "source": [
    "pred=rf.predict(x_train)\n",
    "y_pred=rf.predict(x_test)"
   ]
  },
  {
   "cell_type": "code",
   "execution_count": 766,
   "id": "9646b75b",
   "metadata": {},
   "outputs": [
    {
     "name": "stdout",
     "output_type": "stream",
     "text": [
      "\n",
      " Training Score: 97.36182632695099\n",
      "\n",
      " Testing Score: 86.86612255466152\n"
     ]
    }
   ],
   "source": [
    "#Printing the training and testing score\n",
    "print('\\n Training Score:',metrics.r2_score(y_train,pred)*100)\n",
    "print('\\n Testing Score:',metrics.r2_score(y_test,y_pred)*100)"
   ]
  },
  {
   "cell_type": "code",
   "execution_count": 767,
   "id": "525c8529",
   "metadata": {},
   "outputs": [],
   "source": [
    "train_accuracy=metrics.r2_score(y_train,pred)\n",
    "test_accuracy=metrics.r2_score(y_test,y_pred)"
   ]
  },
  {
   "cell_type": "code",
   "execution_count": 768,
   "id": "dcef3467",
   "metadata": {},
   "outputs": [
    {
     "name": "stdout",
     "output_type": "stream",
     "text": [
      "at cross fold 2 the cv score is0.8340508516247518and accuracy for the testing is 0.8686612255466152\n",
      "\n",
      "\n",
      "at cross fold 3 the cv score is0.8314825126746075and accuracy for the testing is 0.8686612255466152\n",
      "\n",
      "\n",
      "at cross fold 4 the cv score is0.8258479342007703and accuracy for the testing is 0.8686612255466152\n",
      "\n",
      "\n",
      "at cross fold 5 the cv score is0.8340374670477942and accuracy for the testing is 0.8686612255466152\n",
      "\n",
      "\n"
     ]
    }
   ],
   "source": [
    "#Checking cross validation score for linear Regression\n",
    "for j in range(2,6):\n",
    "    cv_score=cross_val_score(rf,x_scaler,y,cv=j)\n",
    "    cv_mean=cv_score.mean()\n",
    "    print(f'at cross fold {j} the cv score is{cv_mean}and accuracy for the testing is {test_accuracy}')\n",
    "    print('\\n')"
   ]
  },
  {
   "cell_type": "markdown",
   "id": "4745d589",
   "metadata": {},
   "source": [
    "By looking at the output i will be talking cv=5."
   ]
  },
  {
   "cell_type": "code",
   "execution_count": 769,
   "id": "5cf6ab26",
   "metadata": {},
   "outputs": [
    {
     "data": {
      "text/plain": [
       "2376.0363934970137"
      ]
     },
     "execution_count": 769,
     "metadata": {},
     "output_type": "execute_result"
    }
   ],
   "source": [
    "#mean absolute error\n",
    "mean_absolute_error(y_test,y_pred)"
   ]
  },
  {
   "cell_type": "code",
   "execution_count": 770,
   "id": "7b9fe8e0",
   "metadata": {},
   "outputs": [
    {
     "data": {
      "text/plain": [
       "18322105.00174049"
      ]
     },
     "execution_count": 770,
     "metadata": {},
     "output_type": "execute_result"
    }
   ],
   "source": [
    "#mean squared error\n",
    "mean_squared_error(y_test,y_pred)"
   ]
  },
  {
   "cell_type": "code",
   "execution_count": 771,
   "id": "64c6197b",
   "metadata": {},
   "outputs": [
    {
     "data": {
      "text/plain": [
       "4280.432805422892"
      ]
     },
     "execution_count": 771,
     "metadata": {},
     "output_type": "execute_result"
    }
   ],
   "source": [
    "#Root mean squared error\n",
    "np.sqrt(mean_squared_error(y_test,y_pred))"
   ]
  },
  {
   "cell_type": "code",
   "execution_count": 772,
   "id": "6a4a5a46",
   "metadata": {},
   "outputs": [
    {
     "data": {
      "image/png": "[encoded data removed]",
      "text/plain": [
       "<Figure size 576x432 with 1 Axes>"
      ]
     },
     "metadata": {
      "needs_background": "light"
     },
     "output_type": "display_data"
    }
   ],
   "source": [
    "#Plotting the best fit line\n",
    "plt.figure(figsize=(8,6))\n",
    "plt.scatter(x=y_test,y=y_pred,color='red')\n",
    "plt.plot(y_test,y_test,color='blue')\n",
    "plt.xlabel('Actual Charges',fontsize=10)\n",
    "plt.ylabel('Predicted Charges',fontsize=10)\n",
    "plt.show()"
   ]
  },
  {
   "cell_type": "markdown",
   "id": "817d2f17",
   "metadata": {},
   "source": [
    "# ADA BOOST"
   ]
  },
  {
   "cell_type": "code",
   "execution_count": 704,
   "id": "ffe37dcc",
   "metadata": {},
   "outputs": [],
   "source": [
    "#Instantiating Model\n",
    "ada=AdaBoostRegressor()"
   ]
  },
  {
   "cell_type": "code",
   "execution_count": 705,
   "id": "f752b666",
   "metadata": {},
   "outputs": [
    {
     "name": "stdout",
     "output_type": "stream",
     "text": [
      "At Random state 0, Training score is 83.87613420272166\n",
      "At Random state 0, Testing score is 83.66927840679038\n",
      "\n",
      "\n",
      "At Random state 1, Training score is 82.07607352264938\n",
      "At Random state 1, Testing score is 84.31865726949891\n",
      "\n",
      "\n",
      "At Random state 2, Training score is 84.0999297423199\n",
      "At Random state 2, Testing score is 85.77077450293848\n",
      "\n",
      "\n",
      "At Random state 3, Training score is 80.54168858631799\n",
      "At Random state 3, Testing score is 81.15581332906638\n",
      "\n",
      "\n",
      "At Random state 4, Training score is 81.73033931883592\n",
      "At Random state 4, Testing score is 80.00769261593271\n",
      "\n",
      "\n",
      "At Random state 5, Training score is 81.52673153950698\n",
      "At Random state 5, Testing score is 78.15641408119625\n",
      "\n",
      "\n",
      "At Random state 6, Training score is 80.64004283614904\n",
      "At Random state 6, Testing score is 80.59775360677301\n",
      "\n",
      "\n",
      "At Random state 7, Training score is 84.07588089618204\n",
      "At Random state 7, Testing score is 81.74030921392473\n",
      "\n",
      "\n",
      "At Random state 8, Training score is 83.6542452035149\n",
      "At Random state 8, Testing score is 83.58220388658182\n",
      "\n",
      "\n",
      "At Random state 9, Training score is 84.11534320519543\n",
      "At Random state 9, Testing score is 84.38541811386095\n",
      "\n",
      "\n",
      "At Random state 10, Training score is 83.30477077859555\n",
      "At Random state 10, Testing score is 82.78093483150343\n",
      "\n",
      "\n",
      "At Random state 11, Training score is 80.07511154293594\n",
      "At Random state 11, Testing score is 76.77642303281804\n",
      "\n",
      "\n",
      "At Random state 12, Training score is 84.90172619298141\n",
      "At Random state 12, Testing score is 79.1839286439427\n",
      "\n",
      "\n",
      "At Random state 13, Training score is 83.33802739304868\n",
      "At Random state 13, Testing score is 84.31923256422955\n",
      "\n",
      "\n",
      "At Random state 14, Training score is 84.82914191935204\n",
      "At Random state 14, Testing score is 82.35302573537257\n",
      "\n",
      "\n",
      "At Random state 15, Training score is 84.1923221034301\n",
      "At Random state 15, Testing score is 81.87188520431499\n",
      "\n",
      "\n",
      "At Random state 16, Training score is 85.00806599950033\n",
      "At Random state 16, Testing score is 80.2685873876844\n",
      "\n",
      "\n",
      "At Random state 17, Training score is 83.43888214147209\n",
      "At Random state 17, Testing score is 80.81532498373024\n",
      "\n",
      "\n",
      "At Random state 18, Training score is 82.91075945317851\n",
      "At Random state 18, Testing score is 81.34462142104756\n",
      "\n",
      "\n",
      "At Random state 19, Training score is 82.34064932682249\n",
      "At Random state 19, Testing score is 88.79723636199628\n",
      "\n",
      "\n",
      "At Random state 20, Training score is 83.61863057502804\n",
      "At Random state 20, Testing score is 80.54888005698632\n",
      "\n",
      "\n",
      "At Random state 21, Training score is 84.82834483835971\n",
      "At Random state 21, Testing score is 82.60226571445203\n",
      "\n",
      "\n",
      "At Random state 22, Training score is 82.66075221067639\n",
      "At Random state 22, Testing score is 85.51547383382567\n",
      "\n",
      "\n",
      "At Random state 23, Training score is 83.69701326074524\n",
      "At Random state 23, Testing score is 80.01446487154392\n",
      "\n",
      "\n",
      "At Random state 24, Training score is 81.02377739429879\n",
      "At Random state 24, Testing score is 82.33371753207015\n",
      "\n",
      "\n",
      "At Random state 25, Training score is 82.57472449820479\n",
      "At Random state 25, Testing score is 82.47632913063454\n",
      "\n",
      "\n",
      "At Random state 26, Training score is 80.63206978644054\n",
      "At Random state 26, Testing score is 83.05960181480422\n",
      "\n",
      "\n",
      "At Random state 27, Training score is 82.31875707114088\n",
      "At Random state 27, Testing score is 79.60610047316791\n",
      "\n",
      "\n",
      "At Random state 28, Training score is 83.4353305671317\n",
      "At Random state 28, Testing score is 82.9713774218892\n",
      "\n",
      "\n",
      "At Random state 29, Training score is 77.39052524860226\n",
      "At Random state 29, Testing score is 83.47568328476827\n",
      "\n",
      "\n",
      "At Random state 30, Training score is 84.87819822214351\n",
      "At Random state 30, Testing score is 77.7058470505094\n",
      "\n",
      "\n",
      "At Random state 31, Training score is 83.45025132020767\n",
      "At Random state 31, Testing score is 81.36201966157132\n",
      "\n",
      "\n",
      "At Random state 32, Training score is 84.05600318413704\n",
      "At Random state 32, Testing score is 83.69159551107981\n",
      "\n",
      "\n",
      "At Random state 33, Training score is 83.95385936223238\n",
      "At Random state 33, Testing score is 81.92920898363558\n",
      "\n",
      "\n",
      "At Random state 34, Training score is 83.62565256678528\n",
      "At Random state 34, Testing score is 76.27190786978142\n",
      "\n",
      "\n",
      "At Random state 35, Training score is 83.26083841763851\n",
      "At Random state 35, Testing score is 82.80133661949438\n",
      "\n",
      "\n",
      "At Random state 36, Training score is 83.58937881692923\n",
      "At Random state 36, Testing score is 81.69189744615362\n",
      "\n",
      "\n",
      "At Random state 37, Training score is 83.57773810146793\n",
      "At Random state 37, Testing score is 84.03101014253966\n",
      "\n",
      "\n",
      "At Random state 38, Training score is 80.74505276971252\n",
      "At Random state 38, Testing score is 78.53422055076193\n",
      "\n",
      "\n",
      "At Random state 39, Training score is 83.55023200307234\n",
      "At Random state 39, Testing score is 80.54181087742256\n",
      "\n",
      "\n",
      "At Random state 40, Training score is 84.57254792189858\n",
      "At Random state 40, Testing score is 81.54637306926688\n",
      "\n",
      "\n",
      "At Random state 41, Training score is 84.57560943489084\n",
      "At Random state 41, Testing score is 78.3738796134144\n",
      "\n",
      "\n",
      "At Random state 42, Training score is 74.5894543642917\n",
      "At Random state 42, Testing score is 72.94821324342975\n",
      "\n",
      "\n",
      "At Random state 43, Training score is 84.8206749405167\n",
      "At Random state 43, Testing score is 83.67211439681179\n",
      "\n",
      "\n",
      "At Random state 44, Training score is 83.46751912700734\n",
      "At Random state 44, Testing score is 84.53550985817596\n",
      "\n",
      "\n",
      "At Random state 45, Training score is 84.82438908496164\n",
      "At Random state 45, Testing score is 83.85919399581385\n",
      "\n",
      "\n",
      "At Random state 46, Training score is 82.91895602838423\n",
      "At Random state 46, Testing score is 77.01544216716162\n",
      "\n",
      "\n",
      "At Random state 47, Training score is 82.58114638642088\n",
      "At Random state 47, Testing score is 81.63946408909817\n",
      "\n",
      "\n",
      "At Random state 48, Training score is 83.22005932420082\n",
      "At Random state 48, Testing score is 79.19406535358048\n",
      "\n",
      "\n",
      "At Random state 49, Training score is 83.62042359196856\n",
      "At Random state 49, Testing score is 82.85478562872368\n",
      "\n",
      "\n",
      "At Random state 50, Training score is 84.56300612288634\n",
      "At Random state 50, Testing score is 78.02788361193102\n",
      "\n",
      "\n",
      "At Random state 51, Training score is 83.41462195066633\n",
      "At Random state 51, Testing score is 84.84131569477888\n",
      "\n",
      "\n",
      "At Random state 52, Training score is 81.91279090941892\n",
      "At Random state 52, Testing score is 78.91467378046183\n",
      "\n",
      "\n",
      "At Random state 53, Training score is 82.69012793352918\n",
      "At Random state 53, Testing score is 82.90080184680512\n",
      "\n",
      "\n",
      "At Random state 54, Training score is 85.05223469805742\n",
      "At Random state 54, Testing score is 81.81728412122841\n",
      "\n",
      "\n",
      "At Random state 55, Training score is 81.44730173267415\n",
      "At Random state 55, Testing score is 79.07193845711538\n",
      "\n",
      "\n",
      "At Random state 56, Training score is 82.8853445025394\n",
      "At Random state 56, Testing score is 82.50695586413264\n",
      "\n",
      "\n",
      "At Random state 57, Training score is 84.39738199567357\n",
      "At Random state 57, Testing score is 77.43306184126213\n",
      "\n",
      "\n",
      "At Random state 58, Training score is 84.09702119337135\n",
      "At Random state 58, Testing score is 80.38967194331681\n",
      "\n",
      "\n",
      "At Random state 59, Training score is 84.29140426383124\n",
      "At Random state 59, Testing score is 78.63925639172689\n",
      "\n",
      "\n",
      "At Random state 60, Training score is 82.72699594994364\n",
      "At Random state 60, Testing score is 81.61037296451745\n",
      "\n",
      "\n",
      "At Random state 61, Training score is 82.40354749656431\n",
      "At Random state 61, Testing score is 78.41752282515704\n",
      "\n",
      "\n",
      "At Random state 62, Training score is 83.58682659513835\n",
      "At Random state 62, Testing score is 82.9257660264595\n",
      "\n",
      "\n",
      "At Random state 63, Training score is 82.61204156229358\n",
      "At Random state 63, Testing score is 82.37433384529047\n",
      "\n",
      "\n",
      "At Random state 64, Training score is 82.84254590154647\n",
      "At Random state 64, Testing score is 83.95889011656986\n",
      "\n",
      "\n",
      "At Random state 65, Training score is 82.6260858843967\n",
      "At Random state 65, Testing score is 81.63375963103444\n",
      "\n",
      "\n",
      "At Random state 66, Training score is 84.19223848526461\n",
      "At Random state 66, Testing score is 78.8231808391422\n",
      "\n",
      "\n",
      "At Random state 67, Training score is 83.92036213242915\n",
      "At Random state 67, Testing score is 83.39612068595\n",
      "\n",
      "\n",
      "At Random state 68, Training score is 84.32893228440025\n",
      "At Random state 68, Testing score is 83.78083321364713\n",
      "\n",
      "\n",
      "At Random state 69, Training score is 84.49828638477976\n",
      "At Random state 69, Testing score is 83.73980880798321\n",
      "\n",
      "\n",
      "At Random state 70, Training score is 84.88622909042844\n",
      "At Random state 70, Testing score is 79.55668446097759\n",
      "\n",
      "\n",
      "At Random state 71, Training score is 84.9602987951643\n",
      "At Random state 71, Testing score is 80.61933247087674\n",
      "\n",
      "\n",
      "At Random state 72, Training score is 85.73538308559792\n",
      "At Random state 72, Testing score is 80.06693276017845\n",
      "\n",
      "\n",
      "At Random state 73, Training score is 84.65155804124088\n",
      "At Random state 73, Testing score is 79.20667770884391\n",
      "\n",
      "\n",
      "At Random state 74, Training score is 84.5203711985481\n",
      "At Random state 74, Testing score is 79.73033963998344\n",
      "\n",
      "\n",
      "At Random state 75, Training score is 82.8150916956782\n",
      "At Random state 75, Testing score is 86.54345319460373\n",
      "\n",
      "\n",
      "At Random state 76, Training score is 82.23391219550943\n",
      "At Random state 76, Testing score is 82.12079505266931\n",
      "\n",
      "\n",
      "At Random state 77, Training score is 85.40181661690214\n",
      "At Random state 77, Testing score is 80.74833336243282\n",
      "\n",
      "\n",
      "At Random state 78, Training score is 85.4804818369614\n",
      "At Random state 78, Testing score is 80.05006120578106\n",
      "\n",
      "\n",
      "At Random state 79, Training score is 81.06173513252124\n",
      "At Random state 79, Testing score is 78.43655994708708\n",
      "\n",
      "\n",
      "At Random state 80, Training score is 83.22585249728448\n",
      "At Random state 80, Testing score is 79.93716002901175\n",
      "\n",
      "\n",
      "At Random state 81, Training score is 83.65362460152288\n",
      "At Random state 81, Testing score is 81.03905464098273\n",
      "\n",
      "\n",
      "At Random state 82, Training score is 79.56568971038764\n",
      "At Random state 82, Testing score is 79.57965717655111\n",
      "\n",
      "\n",
      "At Random state 83, Training score is 84.14532824297494\n",
      "At Random state 83, Testing score is 83.80615768857655\n",
      "\n",
      "\n",
      "At Random state 84, Training score is 82.28353016489375\n",
      "At Random state 84, Testing score is 84.30002663382558\n",
      "\n",
      "\n",
      "At Random state 85, Training score is 84.71352993125365\n",
      "At Random state 85, Testing score is 79.5737504831324\n",
      "\n",
      "\n",
      "At Random state 86, Training score is 82.02100215062545\n",
      "At Random state 86, Testing score is 82.52390285312102\n",
      "\n",
      "\n",
      "At Random state 87, Training score is 85.82172889523092\n",
      "At Random state 87, Testing score is 78.51697621710603\n",
      "\n",
      "\n",
      "At Random state 88, Training score is 83.62520451566967\n",
      "At Random state 88, Testing score is 83.81922157481576\n",
      "\n",
      "\n",
      "At Random state 89, Training score is 79.9918575923695\n",
      "At Random state 89, Testing score is 81.25191125084059\n",
      "\n",
      "\n",
      "At Random state 90, Training score is 85.22561640361442\n",
      "At Random state 90, Testing score is 79.87954144688503\n",
      "\n",
      "\n",
      "At Random state 91, Training score is 82.86623926028194\n",
      "At Random state 91, Testing score is 80.91227694629369\n",
      "\n",
      "\n",
      "At Random state 92, Training score is 83.4945390253088\n",
      "At Random state 92, Testing score is 80.32274639692486\n",
      "\n",
      "\n",
      "At Random state 93, Training score is 83.43537838957589\n",
      "At Random state 93, Testing score is 86.26978862069824\n",
      "\n",
      "\n",
      "At Random state 94, Training score is 81.7311776380568\n",
      "At Random state 94, Testing score is 83.74770751104904\n",
      "\n",
      "\n",
      "At Random state 95, Training score is 80.87980124842989\n",
      "At Random state 95, Testing score is 80.08262348000613\n",
      "\n",
      "\n",
      "At Random state 96, Training score is 80.88142438482808\n",
      "At Random state 96, Testing score is 78.70599022067076\n",
      "\n",
      "\n",
      "At Random state 97, Training score is 84.94943154427494\n",
      "At Random state 97, Testing score is 82.35215665148642\n",
      "\n",
      "\n",
      "At Random state 98, Training score is 80.02400856892098\n",
      "At Random state 98, Testing score is 81.80114936616572\n",
      "\n",
      "\n",
      "At Random state 99, Training score is 83.7949320088821\n",
      "At Random state 99, Testing score is 81.35451348449824\n",
      "\n",
      "\n",
      "At Random state 100, Training score is 77.50877462523071\n",
      "At Random state 100, Testing score is 76.3074726044797\n",
      "\n",
      "\n",
      "At Random state 101, Training score is 81.76901052353315\n",
      "At Random state 101, Testing score is 76.61059219638894\n",
      "\n",
      "\n",
      "At Random state 102, Training score is 82.86649683588655\n",
      "At Random state 102, Testing score is 79.1326799990874\n",
      "\n",
      "\n",
      "At Random state 103, Training score is 83.65295093047148\n",
      "At Random state 103, Testing score is 82.47514241649272\n",
      "\n",
      "\n",
      "At Random state 104, Training score is 83.93197117862272\n",
      "At Random state 104, Testing score is 83.51889154503407\n",
      "\n",
      "\n",
      "At Random state 105, Training score is 85.25561004806615\n",
      "At Random state 105, Testing score is 81.44320553180363\n",
      "\n",
      "\n",
      "At Random state 106, Training score is 81.14596607931563\n",
      "At Random state 106, Testing score is 79.58081007761375\n",
      "\n",
      "\n",
      "At Random state 107, Training score is 86.54729241481118\n",
      "At Random state 107, Testing score is 75.87162916580652\n",
      "\n",
      "\n",
      "At Random state 108, Training score is 83.89852532508512\n",
      "At Random state 108, Testing score is 81.51270379315571\n",
      "\n",
      "\n",
      "At Random state 109, Training score is 83.67922821156428\n",
      "At Random state 109, Testing score is 85.17048803166412\n",
      "\n",
      "\n",
      "At Random state 110, Training score is 83.32825402497797\n",
      "At Random state 110, Testing score is 80.67386539929132\n",
      "\n",
      "\n",
      "At Random state 111, Training score is 79.27045370663367\n",
      "At Random state 111, Testing score is 78.23952291532503\n",
      "\n",
      "\n",
      "At Random state 112, Training score is 80.4344632539498\n",
      "At Random state 112, Testing score is 83.84296567163148\n",
      "\n",
      "\n",
      "At Random state 113, Training score is 82.56163235661644\n",
      "At Random state 113, Testing score is 85.1010614133307\n",
      "\n",
      "\n",
      "At Random state 114, Training score is 83.6821061945592\n",
      "At Random state 114, Testing score is 81.44437318839816\n",
      "\n",
      "\n",
      "At Random state 115, Training score is 84.2985097412166\n",
      "At Random state 115, Testing score is 78.91558118403603\n",
      "\n",
      "\n",
      "At Random state 116, Training score is 84.97852414949197\n",
      "At Random state 116, Testing score is 82.2768329397103\n",
      "\n",
      "\n",
      "At Random state 117, Training score is 82.65934243653402\n",
      "At Random state 117, Testing score is 85.6580501077113\n",
      "\n",
      "\n",
      "At Random state 118, Training score is 82.19977056342142\n",
      "At Random state 118, Testing score is 83.69420535940769\n",
      "\n",
      "\n",
      "At Random state 119, Training score is 78.94046173112947\n",
      "At Random state 119, Testing score is 81.0414312867126\n",
      "\n",
      "\n",
      "At Random state 120, Training score is 82.42610256521468\n",
      "At Random state 120, Testing score is 81.60882963858725\n",
      "\n",
      "\n",
      "At Random state 121, Training score is 84.07268319872124\n",
      "At Random state 121, Testing score is 82.54544958459005\n",
      "\n",
      "\n",
      "At Random state 122, Training score is 79.89696311199441\n",
      "At Random state 122, Testing score is 82.70072040146131\n",
      "\n",
      "\n",
      "At Random state 123, Training score is 84.1364991357514\n",
      "At Random state 123, Testing score is 85.6978481139601\n",
      "\n",
      "\n",
      "At Random state 124, Training score is 84.52933728023247\n",
      "At Random state 124, Testing score is 82.10599620556373\n",
      "\n",
      "\n",
      "At Random state 125, Training score is 80.9023302670822\n",
      "At Random state 125, Testing score is 77.42405539657358\n",
      "\n",
      "\n",
      "At Random state 126, Training score is 84.11005651111788\n",
      "At Random state 126, Testing score is 83.64893912139826\n",
      "\n",
      "\n",
      "At Random state 127, Training score is 83.03343919457937\n",
      "At Random state 127, Testing score is 85.98778197800254\n",
      "\n",
      "\n",
      "At Random state 128, Training score is 83.34770901811928\n",
      "At Random state 128, Testing score is 83.72768331211931\n",
      "\n",
      "\n",
      "At Random state 129, Training score is 84.31358249424652\n",
      "At Random state 129, Testing score is 77.12580449635693\n",
      "\n",
      "\n",
      "At Random state 130, Training score is 84.70538279678637\n",
      "At Random state 130, Testing score is 81.0103953940308\n",
      "\n",
      "\n",
      "At Random state 131, Training score is 82.53281941675735\n",
      "At Random state 131, Testing score is 80.79727500171458\n",
      "\n",
      "\n",
      "At Random state 132, Training score is 81.61193548134769\n",
      "At Random state 132, Testing score is 78.19305509529981\n",
      "\n",
      "\n",
      "At Random state 133, Training score is 85.47521156002395\n",
      "At Random state 133, Testing score is 80.4910551820197\n",
      "\n",
      "\n",
      "At Random state 134, Training score is 84.8926730085451\n",
      "At Random state 134, Testing score is 83.33974309421829\n",
      "\n",
      "\n",
      "At Random state 135, Training score is 80.1800801291042\n",
      "At Random state 135, Testing score is 78.28178163772905\n",
      "\n",
      "\n",
      "At Random state 136, Training score is 83.33754472916996\n",
      "At Random state 136, Testing score is 79.38537433790441\n",
      "\n",
      "\n",
      "At Random state 137, Training score is 78.18577028615027\n",
      "At Random state 137, Testing score is 78.68201437881807\n",
      "\n",
      "\n",
      "At Random state 138, Training score is 83.27728016725494\n",
      "At Random state 138, Testing score is 82.04949621433741\n",
      "\n",
      "\n",
      "At Random state 139, Training score is 83.0936443071803\n",
      "At Random state 139, Testing score is 83.29138269885276\n",
      "\n",
      "\n",
      "At Random state 140, Training score is 82.33056099022073\n",
      "At Random state 140, Testing score is 81.98961543968963\n",
      "\n",
      "\n",
      "At Random state 141, Training score is 83.27829330452289\n",
      "At Random state 141, Testing score is 82.43181692644788\n",
      "\n",
      "\n",
      "At Random state 142, Training score is 83.06809720755697\n",
      "At Random state 142, Testing score is 83.06491521262151\n",
      "\n",
      "\n",
      "At Random state 143, Training score is 82.53619068706092\n",
      "At Random state 143, Testing score is 83.57932619520373\n",
      "\n",
      "\n",
      "At Random state 144, Training score is 81.0975342536767\n",
      "At Random state 144, Testing score is 82.26157398677525\n",
      "\n",
      "\n",
      "At Random state 145, Training score is 82.15756081229794\n",
      "At Random state 145, Testing score is 84.79423543477027\n",
      "\n",
      "\n",
      "At Random state 146, Training score is 83.50627016797011\n",
      "At Random state 146, Testing score is 83.91831839691477\n",
      "\n",
      "\n",
      "At Random state 147, Training score is 83.56036756355428\n",
      "At Random state 147, Testing score is 84.89977726838487\n",
      "\n",
      "\n",
      "At Random state 148, Training score is 86.98126497521581\n",
      "At Random state 148, Testing score is 78.69186506197924\n",
      "\n",
      "\n",
      "At Random state 149, Training score is 82.85040653430536\n",
      "At Random state 149, Testing score is 85.05088447140879\n",
      "\n",
      "\n",
      "At Random state 150, Training score is 80.72544505446587\n",
      "At Random state 150, Testing score is 81.34512688241699\n",
      "\n",
      "\n",
      "At Random state 151, Training score is 82.41343728573011\n",
      "At Random state 151, Testing score is 81.03653872923421\n",
      "\n",
      "\n",
      "At Random state 152, Training score is 81.80082813732297\n",
      "At Random state 152, Testing score is 84.7921916260872\n",
      "\n",
      "\n",
      "At Random state 153, Training score is 85.40507841638126\n",
      "At Random state 153, Testing score is 79.51765364105458\n",
      "\n",
      "\n",
      "At Random state 154, Training score is 83.3560821864577\n",
      "At Random state 154, Testing score is 82.14419060569718\n",
      "\n",
      "\n",
      "At Random state 155, Training score is 83.3454374929646\n",
      "At Random state 155, Testing score is 83.19443045440117\n",
      "\n",
      "\n",
      "At Random state 156, Training score is 82.73501586802412\n",
      "At Random state 156, Testing score is 82.33138546658893\n",
      "\n",
      "\n",
      "At Random state 157, Training score is 83.83171101153107\n",
      "At Random state 157, Testing score is 79.30271747944363\n",
      "\n",
      "\n",
      "At Random state 158, Training score is 81.55161229339522\n",
      "At Random state 158, Testing score is 78.0934299060885\n",
      "\n",
      "\n",
      "At Random state 159, Training score is 82.46976897749555\n",
      "At Random state 159, Testing score is 85.41663896036442\n",
      "\n",
      "\n",
      "At Random state 160, Training score is 84.24612533195952\n",
      "At Random state 160, Testing score is 81.14277453702925\n",
      "\n",
      "\n",
      "At Random state 161, Training score is 83.26521674017806\n",
      "At Random state 161, Testing score is 83.46937183006354\n",
      "\n",
      "\n",
      "At Random state 162, Training score is 82.53241613635022\n",
      "At Random state 162, Testing score is 81.11634541032406\n",
      "\n",
      "\n",
      "At Random state 163, Training score is 81.42018910225049\n",
      "At Random state 163, Testing score is 81.83837746936126\n",
      "\n",
      "\n",
      "At Random state 164, Training score is 82.75710161780682\n",
      "At Random state 164, Testing score is 83.63422781182553\n",
      "\n",
      "\n",
      "At Random state 165, Training score is 85.44072716126415\n",
      "At Random state 165, Testing score is 78.60730123435265\n",
      "\n",
      "\n",
      "At Random state 166, Training score is 85.16507269055423\n",
      "At Random state 166, Testing score is 82.03558845448124\n",
      "\n",
      "\n",
      "At Random state 167, Training score is 84.8494355349092\n",
      "At Random state 167, Testing score is 78.4894632817108\n",
      "\n",
      "\n",
      "At Random state 168, Training score is 84.28149495369706\n",
      "At Random state 168, Testing score is 84.11845882363376\n",
      "\n",
      "\n",
      "At Random state 169, Training score is 83.69418750803092\n",
      "At Random state 169, Testing score is 84.3433521025667\n",
      "\n",
      "\n",
      "At Random state 170, Training score is 84.892647613009\n",
      "At Random state 170, Testing score is 81.23864528435895\n",
      "\n",
      "\n",
      "At Random state 171, Training score is 84.21600575488485\n",
      "At Random state 171, Testing score is 81.49411196185083\n",
      "\n",
      "\n",
      "At Random state 172, Training score is 83.24485472336964\n",
      "At Random state 172, Testing score is 84.36814723140462\n",
      "\n",
      "\n",
      "At Random state 173, Training score is 82.91985250698862\n",
      "At Random state 173, Testing score is 81.42113558370492\n",
      "\n",
      "\n",
      "At Random state 174, Training score is 83.82323959166051\n",
      "At Random state 174, Testing score is 81.91303674700683\n",
      "\n",
      "\n",
      "At Random state 175, Training score is 83.4500945243143\n",
      "At Random state 175, Testing score is 82.21111655594919\n",
      "\n",
      "\n",
      "At Random state 176, Training score is 83.51531157532189\n",
      "At Random state 176, Testing score is 80.71328533314659\n",
      "\n",
      "\n",
      "At Random state 177, Training score is 85.45234548573036\n",
      "At Random state 177, Testing score is 77.47455555024223\n",
      "\n",
      "\n",
      "At Random state 178, Training score is 83.18448788910915\n",
      "At Random state 178, Testing score is 82.77591705397131\n",
      "\n",
      "\n",
      "At Random state 179, Training score is 84.76014759402773\n",
      "At Random state 179, Testing score is 84.01016796782287\n",
      "\n",
      "\n",
      "At Random state 180, Training score is 77.9841305801044\n",
      "At Random state 180, Testing score is 79.98294456599038\n",
      "\n",
      "\n",
      "At Random state 181, Training score is 82.69957589315183\n",
      "At Random state 181, Testing score is 81.22462353710776\n",
      "\n",
      "\n",
      "At Random state 182, Training score is 83.73513114061831\n",
      "At Random state 182, Testing score is 82.39576146779591\n",
      "\n",
      "\n",
      "At Random state 183, Training score is 82.5106934991766\n",
      "At Random state 183, Testing score is 84.22121708830129\n",
      "\n",
      "\n",
      "At Random state 184, Training score is 84.77622170228183\n",
      "At Random state 184, Testing score is 82.32232397776261\n",
      "\n",
      "\n",
      "At Random state 185, Training score is 82.626137199661\n",
      "At Random state 185, Testing score is 81.8809093363922\n",
      "\n",
      "\n",
      "At Random state 186, Training score is 83.7196892851999\n",
      "At Random state 186, Testing score is 84.90907612011803\n",
      "\n",
      "\n",
      "At Random state 187, Training score is 84.39852204943237\n",
      "At Random state 187, Testing score is 78.2047539664843\n",
      "\n",
      "\n",
      "At Random state 188, Training score is 83.09452175098124\n",
      "At Random state 188, Testing score is 79.39261955372811\n",
      "\n",
      "\n",
      "At Random state 189, Training score is 85.29097732214656\n",
      "At Random state 189, Testing score is 79.74135638069131\n",
      "\n",
      "\n",
      "At Random state 190, Training score is 84.86524518827136\n",
      "At Random state 190, Testing score is 80.77373813683076\n",
      "\n",
      "\n",
      "At Random state 191, Training score is 84.65520635745307\n",
      "At Random state 191, Testing score is 81.8595636162891\n",
      "\n",
      "\n",
      "At Random state 192, Training score is 84.32779045363891\n",
      "At Random state 192, Testing score is 79.30992910691327\n",
      "\n",
      "\n",
      "At Random state 193, Training score is 83.46299672923104\n",
      "At Random state 193, Testing score is 85.3596016498398\n",
      "\n",
      "\n",
      "At Random state 194, Training score is 79.96843190921417\n",
      "At Random state 194, Testing score is 80.99777881632042\n",
      "\n",
      "\n",
      "At Random state 195, Training score is 83.2492075824367\n",
      "At Random state 195, Testing score is 81.0143029948118\n",
      "\n",
      "\n",
      "At Random state 196, Training score is 81.9201452800438\n",
      "At Random state 196, Testing score is 77.88359053509953\n",
      "\n",
      "\n",
      "At Random state 197, Training score is 83.98663229430923\n",
      "At Random state 197, Testing score is 81.69899694750993\n",
      "\n",
      "\n",
      "At Random state 198, Training score is 82.87882999009717\n",
      "At Random state 198, Testing score is 83.2098580611954\n",
      "\n",
      "\n",
      "At Random state 199, Training score is 83.76422593055182\n",
      "At Random state 199, Testing score is 79.48186288548133\n",
      "\n",
      "\n"
     ]
    }
   ],
   "source": [
    "#using range fucntion to find the best random state using Logestic regression\n",
    "for i in range(0,200):\n",
    "    x_train,x_test,y_train,y_test=train_test_split(x_scaler,y,test_size=0.25,random_state=i)\n",
    "    ada.fit(x_train,y_train)\n",
    "    pred=ada.predict(x_train)\n",
    "    y_pred=ada.predict(x_test)\n",
    "    print(f'At Random state {i}, Training score is {metrics.r2_score(y_train,pred)*100}')\n",
    "    print(f'At Random state {i}, Testing score is {metrics.r2_score(y_test,y_pred)*100}')\n",
    "    print('\\n')"
   ]
  },
  {
   "cell_type": "markdown",
   "id": "09824937",
   "metadata": {},
   "source": [
    "Taking the random state=0"
   ]
  },
  {
   "cell_type": "code",
   "execution_count": 706,
   "id": "08b36cfb",
   "metadata": {},
   "outputs": [],
   "source": [
    "#since random state  has highest testing score,so taking random state as \n",
    "x_train,x_test,y_train,y_test=train_test_split(x,y,test_size=0.25,random_state=0)"
   ]
  },
  {
   "cell_type": "code",
   "execution_count": 708,
   "id": "8109f716",
   "metadata": {},
   "outputs": [
    {
     "data": {
      "text/html": [
       "<style>#sk-container-id-19 {color: black;background-color: white;}#sk-container-id-19 pre{padding: 0;}#sk-container-id-19 div.sk-toggleable {background-color: white;}#sk-container-id-19 label.sk-toggleable__label {cursor: pointer;display: block;width: 100%;margin-bottom: 0;padding: 0.3em;box-sizing: border-box;text-align: center;}#sk-container-id-19 label.sk-toggleable__label-arrow:before {content: \"▸\";float: left;margin-right: 0.25em;color: #696969;}#sk-container-id-19 label.sk-toggleable__label-arrow:hover:before {color: black;}#sk-container-id-19 div.sk-estimator:hover label.sk-toggleable__label-arrow:before {color: black;}#sk-container-id-19 div.sk-toggleable__content {max-height: 0;max-width: 0;overflow: hidden;text-align: left;background-color: #f0f8ff;}#sk-container-id-19 div.sk-toggleable__content pre {margin: 0.2em;color: black;border-radius: 0.25em;background-color: #f0f8ff;}#sk-container-id-19 input.sk-toggleable__control:checked~div.sk-toggleable__content {max-height: 200px;max-width: 100%;overflow: auto;}#sk-container-id-19 input.sk-toggleable__control:checked~label.sk-toggleable__label-arrow:before {content: \"▾\";}#sk-container-id-19 div.sk-estimator input.sk-toggleable__control:checked~label.sk-toggleable__label {background-color: #d4ebff;}#sk-container-id-19 div.sk-label input.sk-toggleable__control:checked~label.sk-toggleable__label {background-color: #d4ebff;}#sk-container-id-19 input.sk-hidden--visually {border: 0;clip: rect(1px 1px 1px 1px);clip: rect(1px, 1px, 1px, 1px);height: 1px;margin: -1px;overflow: hidden;padding: 0;position: absolute;width: 1px;}#sk-container-id-19 div.sk-estimator {font-family: monospace;background-color: #f0f8ff;border: 1px dotted black;border-radius: 0.25em;box-sizing: border-box;margin-bottom: 0.5em;}#sk-container-id-19 div.sk-estimator:hover {background-color: #d4ebff;}#sk-container-id-19 div.sk-parallel-item::after {content: \"\";width: 100%;border-bottom: 1px solid gray;flex-grow: 1;}#sk-container-id-19 div.sk-label:hover label.sk-toggleable__label {background-color: #d4ebff;}#sk-container-id-19 div.sk-serial::before {content: \"\";position: absolute;border-left: 1px solid gray;box-sizing: border-box;top: 0;bottom: 0;left: 50%;z-index: 0;}#sk-container-id-19 div.sk-serial {display: flex;flex-direction: column;align-items: center;background-color: white;padding-right: 0.2em;padding-left: 0.2em;position: relative;}#sk-container-id-19 div.sk-item {position: relative;z-index: 1;}#sk-container-id-19 div.sk-parallel {display: flex;align-items: stretch;justify-content: center;background-color: white;position: relative;}#sk-container-id-19 div.sk-item::before, #sk-container-id-19 div.sk-parallel-item::before {content: \"\";position: absolute;border-left: 1px solid gray;box-sizing: border-box;top: 0;bottom: 0;left: 50%;z-index: -1;}#sk-container-id-19 div.sk-parallel-item {display: flex;flex-direction: column;z-index: 1;position: relative;background-color: white;}#sk-container-id-19 div.sk-parallel-item:first-child::after {align-self: flex-end;width: 50%;}#sk-container-id-19 div.sk-parallel-item:last-child::after {align-self: flex-start;width: 50%;}#sk-container-id-19 div.sk-parallel-item:only-child::after {width: 0;}#sk-container-id-19 div.sk-dashed-wrapped {border: 1px dashed gray;margin: 0 0.4em 0.5em 0.4em;box-sizing: border-box;padding-bottom: 0.4em;background-color: white;}#sk-container-id-19 div.sk-label label {font-family: monospace;font-weight: bold;display: inline-block;line-height: 1.2em;}#sk-container-id-19 div.sk-label-container {text-align: center;}#sk-container-id-19 div.sk-container {/* jupyter's `normalize.less` sets `[hidden] { display: none; }` but bootstrap.min.css set `[hidden] { display: none !important; }` so we also need the `!important` here to be able to override the default hidden behavior on the sphinx rendered scikit-learn.org. See: https://github.com/scikit-learn/scikit-learn/issues/21755 */display: inline-block !important;position: relative;}#sk-container-id-19 div.sk-text-repr-fallback {display: none;}</style><div id=\"sk-container-id-19\" class=\"sk-top-container\"><div class=\"sk-text-repr-fallback\"><pre>AdaBoostRegressor()</pre><b>In a Jupyter environment, please rerun this cell to show the HTML representation or trust the notebook. <br />On GitHub, the HTML representation is unable to render, please try loading this page with nbviewer.org.</b></div><div class=\"sk-container\" hidden><div class=\"sk-item\"><div class=\"sk-estimator sk-toggleable\"><input class=\"sk-toggleable__control sk-hidden--visually\" id=\"sk-estimator-id-21\" type=\"checkbox\" checked><label for=\"sk-estimator-id-21\" class=\"sk-toggleable__label sk-toggleable__label-arrow\">AdaBoostRegressor</label><div class=\"sk-toggleable__content\"><pre>AdaBoostRegressor()</pre></div></div></div></div></div>"
      ],
      "text/plain": [
       "AdaBoostRegressor()"
      ]
     },
     "execution_count": 708,
     "metadata": {},
     "output_type": "execute_result"
    }
   ],
   "source": [
    "#Training the Model\n",
    "ada.fit(x_train,y_train)"
   ]
  },
  {
   "cell_type": "code",
   "execution_count": 709,
   "id": "340f2985",
   "metadata": {},
   "outputs": [],
   "source": [
    "pred=ada.predict(x_train)\n",
    "y_pred=ada.predict(x_test)"
   ]
  },
  {
   "cell_type": "code",
   "execution_count": 711,
   "id": "44af4eba",
   "metadata": {},
   "outputs": [
    {
     "name": "stdout",
     "output_type": "stream",
     "text": [
      "\n",
      " Training Score: 83.63809234106103\n",
      "\n",
      " Testing Score: 81.10301038961435\n"
     ]
    }
   ],
   "source": [
    "#Printing the training and testing score\n",
    "print('\\n Training Score:',metrics.r2_score(y_train,pred)*100)\n",
    "print('\\n Testing Score:',metrics.r2_score(y_test,y_pred)*100)"
   ]
  },
  {
   "cell_type": "code",
   "execution_count": 712,
   "id": "41aee3c4",
   "metadata": {},
   "outputs": [],
   "source": [
    "train_accuracy=metrics.r2_score(y_train,pred)\n",
    "test_accuracy=metrics.r2_score(y_test,y_pred)"
   ]
  },
  {
   "cell_type": "code",
   "execution_count": 713,
   "id": "429cc50b",
   "metadata": {},
   "outputs": [
    {
     "name": "stdout",
     "output_type": "stream",
     "text": [
      "at cross fold 2 the cv score is0.8134651057056144and accuracy for the testing is 0.8110301038961435\n",
      "\n",
      "\n",
      "at cross fold 3 the cv score is0.8088745048574112and accuracy for the testing is 0.8110301038961435\n",
      "\n",
      "\n",
      "at cross fold 4 the cv score is0.809983122101744and accuracy for the testing is 0.8110301038961435\n",
      "\n",
      "\n",
      "at cross fold 5 the cv score is0.8215712107502775and accuracy for the testing is 0.8110301038961435\n",
      "\n",
      "\n"
     ]
    }
   ],
   "source": [
    "#Checking cross validation score for linear Regression\n",
    "for j in range(2,6):\n",
    "    cv_score=cross_val_score(ada,x_scaler,y,cv=j)\n",
    "    cv_mean=cv_score.mean()\n",
    "    print(f'at cross fold {j} the cv score is{cv_mean}and accuracy for the testing is {test_accuracy}')\n",
    "    print('\\n')"
   ]
  },
  {
   "cell_type": "markdown",
   "id": "21e9dd28",
   "metadata": {},
   "source": [
    "By looking at the output i will be talking cv=3."
   ]
  },
  {
   "cell_type": "code",
   "execution_count": 715,
   "id": "5b4a0768",
   "metadata": {},
   "outputs": [
    {
     "data": {
      "text/plain": [
       "4018.1343388910263"
      ]
     },
     "execution_count": 715,
     "metadata": {},
     "output_type": "execute_result"
    }
   ],
   "source": [
    "#mean absolute error\n",
    "mean_absolute_error(y_test,y_pred)"
   ]
  },
  {
   "cell_type": "code",
   "execution_count": 716,
   "id": "3af1ce6d",
   "metadata": {},
   "outputs": [
    {
     "data": {
      "text/plain": [
       "28980905.32560572"
      ]
     },
     "execution_count": 716,
     "metadata": {},
     "output_type": "execute_result"
    }
   ],
   "source": [
    "#mean squared error\n",
    "mean_squared_error(y_test,y_pred)"
   ]
  },
  {
   "cell_type": "code",
   "execution_count": 717,
   "id": "8179c7e6",
   "metadata": {},
   "outputs": [
    {
     "data": {
      "text/plain": [
       "5383.39161919377"
      ]
     },
     "execution_count": 717,
     "metadata": {},
     "output_type": "execute_result"
    }
   ],
   "source": [
    "#Root mean squared error\n",
    "np.sqrt(mean_squared_error(y_test,y_pred))"
   ]
  },
  {
   "cell_type": "code",
   "execution_count": 718,
   "id": "d2f63553",
   "metadata": {},
   "outputs": [
    {
     "data": {
      "image/png": "[encoded data removed]",
      "text/plain": [
       "<Figure size 576x432 with 1 Axes>"
      ]
     },
     "metadata": {
      "needs_background": "light"
     },
     "output_type": "display_data"
    }
   ],
   "source": [
    "#Plotting the best fit line\n",
    "plt.figure(figsize=(8,6))\n",
    "plt.scatter(x=y_test,y=y_pred,color='red')\n",
    "plt.plot(y_test,y_test,color='blue')\n",
    "plt.xlabel('Actual Charges',fontsize=10)\n",
    "plt.ylabel('Predicted Charges',fontsize=10)\n",
    "plt.show()"
   ]
  },
  {
   "cell_type": "markdown",
   "id": "d25e7dc7",
   "metadata": {},
   "source": [
    "# GRADIENT BOOSTING"
   ]
  },
  {
   "cell_type": "code",
   "execution_count": 719,
   "id": "5be0b325",
   "metadata": {},
   "outputs": [],
   "source": [
    "#Instantiating Model\n",
    "gbd=GradientBoostingRegressor()"
   ]
  },
  {
   "cell_type": "code",
   "execution_count": 720,
   "id": "542bcd93",
   "metadata": {},
   "outputs": [
    {
     "name": "stdout",
     "output_type": "stream",
     "text": [
      "At Random state 0, Training score is 90.52108760955896\n",
      "At Random state 0, Testing score is 85.6748539220067\n",
      "\n",
      "\n",
      "At Random state 1, Training score is 90.25182556893816\n",
      "At Random state 1, Testing score is 87.07073088703059\n",
      "\n",
      "\n",
      "At Random state 2, Training score is 90.65549641740489\n",
      "At Random state 2, Testing score is 86.12635573533069\n",
      "\n",
      "\n",
      "At Random state 3, Training score is 89.60748672869164\n",
      "At Random state 3, Testing score is 88.59712738408896\n",
      "\n",
      "\n",
      "At Random state 4, Training score is 90.78969628567104\n",
      "At Random state 4, Testing score is 84.74807446092679\n",
      "\n",
      "\n",
      "At Random state 5, Training score is 90.74939508806762\n",
      "At Random state 5, Testing score is 84.59654130183036\n",
      "\n",
      "\n",
      "At Random state 6, Training score is 89.6653283465384\n",
      "At Random state 6, Testing score is 88.08278244046909\n",
      "\n",
      "\n",
      "At Random state 7, Training score is 90.44750037717792\n",
      "At Random state 7, Testing score is 85.08191296848591\n",
      "\n",
      "\n",
      "At Random state 8, Training score is 90.68795419395443\n",
      "At Random state 8, Testing score is 86.8699861741908\n",
      "\n",
      "\n",
      "At Random state 9, Training score is 90.19649112374417\n",
      "At Random state 9, Testing score is 86.86638953965505\n",
      "\n",
      "\n",
      "At Random state 10, Training score is 90.37687866713557\n",
      "At Random state 10, Testing score is 86.09229261407728\n",
      "\n",
      "\n",
      "At Random state 11, Training score is 90.51597595753127\n",
      "At Random state 11, Testing score is 85.05812370646697\n",
      "\n",
      "\n",
      "At Random state 12, Training score is 91.33595130231022\n",
      "At Random state 12, Testing score is 82.42334858509342\n",
      "\n",
      "\n",
      "At Random state 13, Training score is 89.82859231916213\n",
      "At Random state 13, Testing score is 88.39888915609097\n",
      "\n",
      "\n",
      "At Random state 14, Training score is 90.79842111468517\n",
      "At Random state 14, Testing score is 85.17106462450323\n",
      "\n",
      "\n",
      "At Random state 15, Training score is 90.44858181454323\n",
      "At Random state 15, Testing score is 86.25982743961222\n",
      "\n",
      "\n",
      "At Random state 16, Training score is 90.9219921792241\n",
      "At Random state 16, Testing score is 82.82235548035261\n",
      "\n",
      "\n",
      "At Random state 17, Training score is 91.79671707679837\n",
      "At Random state 17, Testing score is 81.3809682394715\n",
      "\n",
      "\n",
      "At Random state 18, Training score is 91.0057159409639\n",
      "At Random state 18, Testing score is 83.26459579211244\n",
      "\n",
      "\n",
      "At Random state 19, Training score is 88.8441584916803\n",
      "At Random state 19, Testing score is 91.60717956426166\n",
      "\n",
      "\n",
      "At Random state 20, Training score is 91.14689083570326\n",
      "At Random state 20, Testing score is 83.30746011515622\n",
      "\n",
      "\n",
      "At Random state 21, Training score is 90.97061835728391\n",
      "At Random state 21, Testing score is 83.96235561361334\n",
      "\n",
      "\n",
      "At Random state 22, Training score is 89.75355922089122\n",
      "At Random state 22, Testing score is 87.77813440448409\n",
      "\n",
      "\n",
      "At Random state 23, Training score is 91.06074391343539\n",
      "At Random state 23, Testing score is 84.30366405923897\n",
      "\n",
      "\n",
      "At Random state 24, Training score is 89.759630943777\n",
      "At Random state 24, Testing score is 87.04981553195344\n",
      "\n",
      "\n",
      "At Random state 25, Training score is 90.12307326554946\n",
      "At Random state 25, Testing score is 86.48193086734224\n",
      "\n",
      "\n",
      "At Random state 26, Training score is 90.52755688754903\n",
      "At Random state 26, Testing score is 86.6003784805735\n",
      "\n",
      "\n",
      "At Random state 27, Training score is 90.81338422099938\n",
      "At Random state 27, Testing score is 84.63804148926262\n",
      "\n",
      "\n",
      "At Random state 28, Training score is 90.90269405498411\n",
      "At Random state 28, Testing score is 84.93160879530959\n",
      "\n",
      "\n",
      "At Random state 29, Training score is 89.36983928284707\n",
      "At Random state 29, Testing score is 89.60748140635195\n",
      "\n",
      "\n",
      "At Random state 30, Training score is 91.55851375916681\n",
      "At Random state 30, Testing score is 80.64515517076501\n",
      "\n",
      "\n",
      "At Random state 31, Training score is 90.54206667734604\n",
      "At Random state 31, Testing score is 85.5464555420199\n",
      "\n",
      "\n",
      "At Random state 32, Training score is 90.18253522683739\n",
      "At Random state 32, Testing score is 85.59157789591993\n",
      "\n",
      "\n",
      "At Random state 33, Training score is 91.09719519306907\n",
      "At Random state 33, Testing score is 83.91055749552248\n",
      "\n",
      "\n",
      "At Random state 34, Training score is 91.79920880941955\n",
      "At Random state 34, Testing score is 80.38187368464973\n",
      "\n",
      "\n",
      "At Random state 35, Training score is 90.1692525001916\n",
      "At Random state 35, Testing score is 86.56640249798939\n",
      "\n",
      "\n",
      "At Random state 36, Training score is 90.6829185910613\n",
      "At Random state 36, Testing score is 85.62957338077942\n",
      "\n",
      "\n",
      "At Random state 37, Training score is 90.42252298098589\n",
      "At Random state 37, Testing score is 85.56499248644563\n",
      "\n",
      "\n",
      "At Random state 38, Training score is 90.41587853529485\n",
      "At Random state 38, Testing score is 84.69843358605861\n",
      "\n",
      "\n",
      "At Random state 39, Training score is 90.44443985116506\n",
      "At Random state 39, Testing score is 84.23995984997232\n",
      "\n",
      "\n",
      "At Random state 40, Training score is 90.87432118660665\n",
      "At Random state 40, Testing score is 84.85949802457515\n",
      "\n",
      "\n",
      "At Random state 41, Training score is 90.91840649752552\n",
      "At Random state 41, Testing score is 83.17886383398401\n",
      "\n",
      "\n",
      "At Random state 42, Training score is 90.3469371041897\n",
      "At Random state 42, Testing score is 85.70418573342768\n",
      "\n",
      "\n",
      "At Random state 43, Training score is 90.54319253084647\n",
      "At Random state 43, Testing score is 85.95859179150045\n",
      "\n",
      "\n",
      "At Random state 44, Training score is 89.88959200296912\n",
      "At Random state 44, Testing score is 88.06035123155756\n",
      "\n",
      "\n",
      "At Random state 45, Training score is 90.32466160002495\n",
      "At Random state 45, Testing score is 86.38504739436506\n",
      "\n",
      "\n",
      "At Random state 46, Training score is 91.45289591528866\n",
      "At Random state 46, Testing score is 82.03276080316623\n",
      "\n",
      "\n",
      "At Random state 47, Training score is 90.75729460947902\n",
      "At Random state 47, Testing score is 85.05659483395267\n",
      "\n",
      "\n",
      "At Random state 48, Training score is 91.53343536323054\n",
      "At Random state 48, Testing score is 81.97271859751628\n",
      "\n",
      "\n",
      "At Random state 49, Training score is 90.36051232321243\n",
      "At Random state 49, Testing score is 87.20875771185406\n",
      "\n",
      "\n",
      "At Random state 50, Training score is 91.62543704231729\n",
      "At Random state 50, Testing score is 80.83119379864961\n",
      "\n",
      "\n",
      "At Random state 51, Training score is 90.68748870813323\n",
      "At Random state 51, Testing score is 86.52740243567526\n",
      "\n",
      "\n",
      "At Random state 52, Training score is 90.87232891051521\n",
      "At Random state 52, Testing score is 85.3761709486103\n",
      "\n",
      "\n",
      "At Random state 53, Training score is 90.21777706558989\n",
      "At Random state 53, Testing score is 86.86906942650758\n",
      "\n",
      "\n",
      "At Random state 54, Training score is 90.70599480337573\n",
      "At Random state 54, Testing score is 83.8297861339624\n",
      "\n",
      "\n",
      "At Random state 55, Training score is 90.46377126865187\n",
      "At Random state 55, Testing score is 85.19027141757121\n",
      "\n",
      "\n",
      "At Random state 56, Training score is 90.36679760234605\n",
      "At Random state 56, Testing score is 86.88483490150514\n",
      "\n",
      "\n",
      "At Random state 57, Training score is 90.6271722405357\n",
      "At Random state 57, Testing score is 81.99792679398544\n",
      "\n",
      "\n",
      "At Random state 58, Training score is 90.56763980481735\n",
      "At Random state 58, Testing score is 83.4220019082101\n",
      "\n",
      "\n",
      "At Random state 59, Training score is 91.00138690656698\n",
      "At Random state 59, Testing score is 83.15904865248666\n",
      "\n",
      "\n",
      "At Random state 60, Training score is 90.77147699317992\n",
      "At Random state 60, Testing score is 85.16937319405389\n",
      "\n",
      "\n",
      "At Random state 61, Training score is 90.61706774669273\n",
      "At Random state 61, Testing score is 83.33565576900908\n",
      "\n",
      "\n",
      "At Random state 62, Training score is 90.76300073181883\n",
      "At Random state 62, Testing score is 84.83731201165462\n",
      "\n",
      "\n",
      "At Random state 63, Training score is 90.08498669640291\n",
      "At Random state 63, Testing score is 86.37940276380662\n",
      "\n",
      "\n",
      "At Random state 64, Training score is 90.38842347909383\n",
      "At Random state 64, Testing score is 87.445203308756\n",
      "\n",
      "\n",
      "At Random state 65, Training score is 90.65550567809682\n",
      "At Random state 65, Testing score is 85.65077111032967\n",
      "\n",
      "\n",
      "At Random state 66, Training score is 92.49800315840713\n",
      "At Random state 66, Testing score is 80.65115929160366\n",
      "\n",
      "\n",
      "At Random state 67, Training score is 90.76259807923583\n",
      "At Random state 67, Testing score is 85.1965493072663\n",
      "\n",
      "\n",
      "At Random state 68, Training score is 90.44358026124199\n",
      "At Random state 68, Testing score is 85.97956741593275\n",
      "\n",
      "\n",
      "At Random state 69, Training score is 89.97844634207351\n",
      "At Random state 69, Testing score is 86.64792238969305\n",
      "\n",
      "\n",
      "At Random state 70, Training score is 91.55329577826168\n",
      "At Random state 70, Testing score is 81.23969134185973\n",
      "\n",
      "\n",
      "At Random state 71, Training score is 91.13110729764364\n",
      "At Random state 71, Testing score is 82.3921839480093\n",
      "\n",
      "\n",
      "At Random state 72, Training score is 91.49409698886575\n",
      "At Random state 72, Testing score is 81.55077801581957\n",
      "\n",
      "\n",
      "At Random state 73, Training score is 91.52837527706596\n",
      "At Random state 73, Testing score is 81.61040646286058\n",
      "\n",
      "\n",
      "At Random state 74, Training score is 91.14994872529026\n",
      "At Random state 74, Testing score is 83.26421033435103\n",
      "\n",
      "\n",
      "At Random state 75, Training score is 89.68160711069852\n",
      "At Random state 75, Testing score is 88.75629053836978\n",
      "\n",
      "\n",
      "At Random state 76, Training score is 90.44199547301413\n",
      "At Random state 76, Testing score is 86.31295584263124\n",
      "\n",
      "\n",
      "At Random state 77, Training score is 91.13201338788109\n",
      "At Random state 77, Testing score is 83.28550118177706\n",
      "\n",
      "\n",
      "At Random state 78, Training score is 91.32991055004354\n",
      "At Random state 78, Testing score is 82.3432229782424\n",
      "\n",
      "\n",
      "At Random state 79, Training score is 90.88932321985749\n",
      "At Random state 79, Testing score is 83.87931562128037\n",
      "\n",
      "\n",
      "At Random state 80, Training score is 90.74286538232148\n",
      "At Random state 80, Testing score is 84.18339854584144\n",
      "\n",
      "\n",
      "At Random state 81, Training score is 90.97566733734226\n",
      "At Random state 81, Testing score is 83.47696755136955\n",
      "\n",
      "\n",
      "At Random state 82, Training score is 89.644216642429\n",
      "At Random state 82, Testing score is 87.99610268878051\n",
      "\n",
      "\n",
      "At Random state 83, Training score is 90.61480042988525\n",
      "At Random state 83, Testing score is 85.55359546500812\n",
      "\n",
      "\n",
      "At Random state 84, Training score is 89.92033268719788\n",
      "At Random state 84, Testing score is 87.16572653372616\n",
      "\n",
      "\n",
      "At Random state 85, Training score is 91.43576386384086\n",
      "At Random state 85, Testing score is 82.31173583094726\n",
      "\n",
      "\n",
      "At Random state 86, Training score is 89.95734003585677\n",
      "At Random state 86, Testing score is 87.59953180990905\n",
      "\n",
      "\n",
      "At Random state 87, Training score is 91.7601969355892\n",
      "At Random state 87, Testing score is 79.7482876305602\n",
      "\n",
      "\n",
      "At Random state 88, Training score is 90.07174635026011\n",
      "At Random state 88, Testing score is 86.75437754046594\n",
      "\n",
      "\n",
      "At Random state 89, Training score is 90.41554892669078\n",
      "At Random state 89, Testing score is 86.74320853235716\n",
      "\n",
      "\n",
      "At Random state 90, Training score is 90.8422568849072\n",
      "At Random state 90, Testing score is 82.40403921107571\n",
      "\n",
      "\n",
      "At Random state 91, Training score is 90.0464118610497\n",
      "At Random state 91, Testing score is 86.8423403868217\n",
      "\n",
      "\n",
      "At Random state 92, Training score is 90.51383647619538\n",
      "At Random state 92, Testing score is 84.38215690716018\n",
      "\n",
      "\n",
      "At Random state 93, Training score is 90.16861779288153\n",
      "At Random state 93, Testing score is 87.44057177160542\n",
      "\n",
      "\n",
      "At Random state 94, Training score is 89.81437370003505\n",
      "At Random state 94, Testing score is 88.99983472627673\n",
      "\n",
      "\n",
      "At Random state 95, Training score is 90.10865817118456\n",
      "At Random state 95, Testing score is 85.83989541713427\n",
      "\n",
      "\n",
      "At Random state 96, Training score is 91.19297861372509\n",
      "At Random state 96, Testing score is 83.77540613034462\n",
      "\n",
      "\n",
      "At Random state 97, Training score is 90.72628229896863\n",
      "At Random state 97, Testing score is 84.2608236463005\n",
      "\n",
      "\n",
      "At Random state 98, Training score is 89.54326422890993\n",
      "At Random state 98, Testing score is 89.41583607287869\n",
      "\n",
      "\n",
      "At Random state 99, Training score is 90.58953134432319\n",
      "At Random state 99, Testing score is 86.21277149672287\n",
      "\n",
      "\n",
      "At Random state 100, Training score is 90.54249766009448\n",
      "At Random state 100, Testing score is 85.99053008542363\n",
      "\n",
      "\n",
      "At Random state 101, Training score is 91.15199013482328\n",
      "At Random state 101, Testing score is 82.68263493151005\n",
      "\n",
      "\n",
      "At Random state 102, Training score is 90.92277181588338\n",
      "At Random state 102, Testing score is 84.08521812334257\n",
      "\n",
      "\n",
      "At Random state 103, Training score is 90.5372359845149\n",
      "At Random state 103, Testing score is 85.81485922662311\n",
      "\n",
      "\n",
      "At Random state 104, Training score is 90.7798627461454\n",
      "At Random state 104, Testing score is 85.39630447087325\n",
      "\n",
      "\n",
      "At Random state 105, Training score is 91.10557320130907\n",
      "At Random state 105, Testing score is 83.5874681168504\n",
      "\n",
      "\n",
      "At Random state 106, Training score is 90.98385167170204\n",
      "At Random state 106, Testing score is 83.94268699030974\n",
      "\n",
      "\n",
      "At Random state 107, Training score is 91.87215301796647\n",
      "At Random state 107, Testing score is 78.57516235231452\n",
      "\n",
      "\n",
      "At Random state 108, Training score is 90.31290184019986\n",
      "At Random state 108, Testing score is 85.93215408235233\n",
      "\n",
      "\n",
      "At Random state 109, Training score is 90.00724270644888\n",
      "At Random state 109, Testing score is 87.91418084597629\n",
      "\n",
      "\n",
      "At Random state 110, Training score is 91.10833005982231\n",
      "At Random state 110, Testing score is 83.82970813373855\n",
      "\n",
      "\n",
      "At Random state 111, Training score is 90.390660944603\n",
      "At Random state 111, Testing score is 85.14447987835973\n",
      "\n",
      "\n",
      "At Random state 112, Training score is 89.54330183184271\n",
      "At Random state 112, Testing score is 89.49011122344889\n",
      "\n",
      "\n",
      "At Random state 113, Training score is 89.52872396612297\n",
      "At Random state 113, Testing score is 88.77063001059126\n",
      "\n",
      "\n",
      "At Random state 114, Training score is 90.59422242479219\n",
      "At Random state 114, Testing score is 86.11596207998596\n",
      "\n",
      "\n",
      "At Random state 115, Training score is 91.42227956319462\n",
      "At Random state 115, Testing score is 82.28132755749607\n",
      "\n",
      "\n",
      "At Random state 116, Training score is 91.32282495954573\n",
      "At Random state 116, Testing score is 83.84594273706925\n",
      "\n",
      "\n",
      "At Random state 117, Training score is 89.49272024557557\n",
      "At Random state 117, Testing score is 88.95953350164343\n",
      "\n",
      "\n",
      "At Random state 118, Training score is 90.39333905154244\n",
      "At Random state 118, Testing score is 87.16115775411308\n",
      "\n",
      "\n",
      "At Random state 119, Training score is 89.68557314416302\n",
      "At Random state 119, Testing score is 88.28677384482333\n",
      "\n",
      "\n",
      "At Random state 120, Training score is 90.6502370605858\n",
      "At Random state 120, Testing score is 85.35528628143426\n",
      "\n",
      "\n",
      "At Random state 121, Training score is 90.41869324522919\n",
      "At Random state 121, Testing score is 86.81739241563827\n",
      "\n",
      "\n",
      "At Random state 122, Training score is 90.10177796274385\n",
      "At Random state 122, Testing score is 87.84425702057719\n",
      "\n",
      "\n",
      "At Random state 123, Training score is 90.35706228716451\n",
      "At Random state 123, Testing score is 86.29413041002466\n",
      "\n",
      "\n",
      "At Random state 124, Training score is 90.35186502783785\n",
      "At Random state 124, Testing score is 85.16980882587492\n",
      "\n",
      "\n",
      "At Random state 125, Training score is 91.04540600970832\n",
      "At Random state 125, Testing score is 84.17120918246852\n",
      "\n",
      "\n",
      "At Random state 126, Training score is 90.33630189614883\n",
      "At Random state 126, Testing score is 85.86616991654869\n",
      "\n",
      "\n",
      "At Random state 127, Training score is 89.71343385866827\n",
      "At Random state 127, Testing score is 88.52787156814094\n",
      "\n",
      "\n",
      "At Random state 128, Training score is 90.19727225843012\n",
      "At Random state 128, Testing score is 86.31492290940166\n",
      "\n",
      "\n",
      "At Random state 129, Training score is 91.44777845118648\n",
      "At Random state 129, Testing score is 81.45125807208359\n",
      "\n",
      "\n",
      "At Random state 130, Training score is 91.33334750964065\n",
      "At Random state 130, Testing score is 83.50377040901868\n",
      "\n",
      "\n",
      "At Random state 131, Training score is 90.39464759153148\n",
      "At Random state 131, Testing score is 84.40233047554713\n",
      "\n",
      "\n",
      "At Random state 132, Training score is 90.59331536146404\n",
      "At Random state 132, Testing score is 84.31965160845654\n",
      "\n",
      "\n",
      "At Random state 133, Training score is 91.67619388264639\n",
      "At Random state 133, Testing score is 81.42855874377283\n",
      "\n",
      "\n",
      "At Random state 134, Training score is 91.2968965082162\n",
      "At Random state 134, Testing score is 83.61195800430414\n",
      "\n",
      "\n",
      "At Random state 135, Training score is 90.38524668088593\n",
      "At Random state 135, Testing score is 85.26403024432847\n",
      "\n",
      "\n",
      "At Random state 136, Training score is 91.25979085044807\n",
      "At Random state 136, Testing score is 83.00772436986111\n",
      "\n",
      "\n",
      "At Random state 137, Training score is 89.82033315946394\n",
      "At Random state 137, Testing score is 87.82296002484813\n",
      "\n",
      "\n",
      "At Random state 138, Training score is 90.30922928602604\n",
      "At Random state 138, Testing score is 86.11203701644752\n",
      "\n",
      "\n",
      "At Random state 139, Training score is 90.14213419294997\n",
      "At Random state 139, Testing score is 86.9985564046795\n",
      "\n",
      "\n",
      "At Random state 140, Training score is 90.27150071977248\n",
      "At Random state 140, Testing score is 86.05042944701403\n",
      "\n",
      "\n",
      "At Random state 141, Training score is 89.78953185832458\n",
      "At Random state 141, Testing score is 86.67862345058853\n",
      "\n",
      "\n",
      "At Random state 142, Training score is 90.17128732272484\n",
      "At Random state 142, Testing score is 88.32806345174873\n",
      "\n",
      "\n",
      "At Random state 143, Training score is 90.40864704772572\n",
      "At Random state 143, Testing score is 86.69231941862618\n",
      "\n",
      "\n",
      "At Random state 144, Training score is 89.51498351720637\n",
      "At Random state 144, Testing score is 88.7287733448957\n",
      "\n",
      "\n",
      "At Random state 145, Training score is 90.09464165192911\n",
      "At Random state 145, Testing score is 86.37209918109302\n",
      "\n",
      "\n",
      "At Random state 146, Training score is 90.6649950513985\n",
      "At Random state 146, Testing score is 86.3017386408468\n",
      "\n",
      "\n",
      "At Random state 147, Training score is 90.70313477327737\n",
      "At Random state 147, Testing score is 86.26116164086379\n",
      "\n",
      "\n",
      "At Random state 148, Training score is 91.88798274331782\n",
      "At Random state 148, Testing score is 79.81080110950394\n",
      "\n",
      "\n",
      "At Random state 149, Training score is 89.67942745854887\n",
      "At Random state 149, Testing score is 88.64985585162364\n",
      "\n",
      "\n",
      "At Random state 150, Training score is 90.00109269157022\n",
      "At Random state 150, Testing score is 87.78904242813785\n",
      "\n",
      "\n",
      "At Random state 151, Training score is 91.08832129200192\n",
      "At Random state 151, Testing score is 84.18736966450321\n",
      "\n",
      "\n",
      "At Random state 152, Training score is 89.62842538023692\n",
      "At Random state 152, Testing score is 89.61145806018426\n",
      "\n",
      "\n",
      "At Random state 153, Training score is 91.87699347042002\n",
      "At Random state 153, Testing score is 80.57922240022357\n",
      "\n",
      "\n",
      "At Random state 154, Training score is 90.41799960649213\n",
      "At Random state 154, Testing score is 86.47057221081619\n",
      "\n",
      "\n",
      "At Random state 155, Training score is 90.27094386524017\n",
      "At Random state 155, Testing score is 86.55159168517064\n",
      "\n",
      "\n",
      "At Random state 156, Training score is 90.19406519133891\n",
      "At Random state 156, Testing score is 86.66683108836973\n",
      "\n",
      "\n",
      "At Random state 157, Training score is 90.66007580972291\n",
      "At Random state 157, Testing score is 84.47741982872206\n",
      "\n",
      "\n",
      "At Random state 158, Training score is 90.98179153914269\n",
      "At Random state 158, Testing score is 83.95151685023957\n",
      "\n",
      "\n",
      "At Random state 159, Training score is 89.54617024108185\n",
      "At Random state 159, Testing score is 87.9805036449035\n",
      "\n",
      "\n",
      "At Random state 160, Training score is 90.73652082862631\n",
      "At Random state 160, Testing score is 83.90837505352002\n",
      "\n",
      "\n",
      "At Random state 161, Training score is 90.02672625450055\n",
      "At Random state 161, Testing score is 86.37586885914185\n",
      "\n",
      "\n",
      "At Random state 162, Training score is 90.96737945566255\n",
      "At Random state 162, Testing score is 86.84964966127757\n",
      "\n",
      "\n",
      "At Random state 163, Training score is 89.95187434028115\n",
      "At Random state 163, Testing score is 88.01458301204994\n",
      "\n",
      "\n",
      "At Random state 164, Training score is 90.15415704430634\n",
      "At Random state 164, Testing score is 86.38072674049823\n",
      "\n",
      "\n",
      "At Random state 165, Training score is 91.51161521806989\n",
      "At Random state 165, Testing score is 81.20839489392233\n",
      "\n",
      "\n",
      "At Random state 166, Training score is 91.24908999512361\n",
      "At Random state 166, Testing score is 84.18862155766391\n",
      "\n",
      "\n",
      "At Random state 167, Training score is 90.71840405287003\n",
      "At Random state 167, Testing score is 82.40414572064687\n",
      "\n",
      "\n",
      "At Random state 168, Training score is 90.55533009594853\n",
      "At Random state 168, Testing score is 85.59853793308821\n",
      "\n",
      "\n",
      "At Random state 169, Training score is 90.18118209724972\n",
      "At Random state 169, Testing score is 87.22119010730125\n",
      "\n",
      "\n",
      "At Random state 170, Training score is 90.03337898786796\n",
      "At Random state 170, Testing score is 85.886152140072\n",
      "\n",
      "\n",
      "At Random state 171, Training score is 90.66555157598457\n",
      "At Random state 171, Testing score is 84.91573732450081\n",
      "\n",
      "\n",
      "At Random state 172, Training score is 90.10863639299211\n",
      "At Random state 172, Testing score is 86.97393292824819\n",
      "\n",
      "\n",
      "At Random state 173, Training score is 91.09673809953959\n",
      "At Random state 173, Testing score is 84.7758509446874\n",
      "\n",
      "\n",
      "At Random state 174, Training score is 91.04454281915525\n",
      "At Random state 174, Testing score is 84.24562219675347\n",
      "\n",
      "\n",
      "At Random state 175, Training score is 90.98335534544123\n",
      "At Random state 175, Testing score is 84.35951438398277\n",
      "\n",
      "\n",
      "At Random state 176, Training score is 91.87283799573382\n",
      "At Random state 176, Testing score is 81.98146323562128\n",
      "\n",
      "\n",
      "At Random state 177, Training score is 91.30479832443702\n",
      "At Random state 177, Testing score is 81.06330881704159\n",
      "\n",
      "\n",
      "At Random state 178, Training score is 90.18075394586063\n",
      "At Random state 178, Testing score is 86.96461557213757\n",
      "\n",
      "\n",
      "At Random state 179, Training score is 90.33578525672168\n",
      "At Random state 179, Testing score is 86.26619053523892\n",
      "\n",
      "\n",
      "At Random state 180, Training score is 90.24805216591474\n",
      "At Random state 180, Testing score is 86.76664414569267\n",
      "\n",
      "\n",
      "At Random state 181, Training score is 90.45610443835554\n",
      "At Random state 181, Testing score is 85.11247104208341\n",
      "\n",
      "\n",
      "At Random state 182, Training score is 89.95103888694855\n",
      "At Random state 182, Testing score is 87.08708299238197\n",
      "\n",
      "\n",
      "At Random state 183, Training score is 89.48799730127284\n",
      "At Random state 183, Testing score is 88.35928242727775\n",
      "\n",
      "\n",
      "At Random state 184, Training score is 90.61034043722323\n",
      "At Random state 184, Testing score is 85.24738541546164\n",
      "\n",
      "\n",
      "At Random state 185, Training score is 90.5090706670735\n",
      "At Random state 185, Testing score is 86.19821365395437\n",
      "\n",
      "\n",
      "At Random state 186, Training score is 89.9608251666428\n",
      "At Random state 186, Testing score is 88.00295890593523\n",
      "\n",
      "\n",
      "At Random state 187, Training score is 90.84399895499806\n",
      "At Random state 187, Testing score is 83.1893462533498\n",
      "\n",
      "\n",
      "At Random state 188, Training score is 90.59711862086876\n",
      "At Random state 188, Testing score is 85.14984865320655\n",
      "\n",
      "\n",
      "At Random state 189, Training score is 91.44790225107822\n",
      "At Random state 189, Testing score is 81.83228559397982\n",
      "\n",
      "\n",
      "At Random state 190, Training score is 91.48501596648887\n",
      "At Random state 190, Testing score is 82.3401278194581\n",
      "\n",
      "\n",
      "At Random state 191, Training score is 90.44400527441296\n",
      "At Random state 191, Testing score is 85.20955143927848\n",
      "\n",
      "\n",
      "At Random state 192, Training score is 91.03956161605194\n",
      "At Random state 192, Testing score is 83.11155164308144\n",
      "\n",
      "\n",
      "At Random state 193, Training score is 89.8728098023783\n",
      "At Random state 193, Testing score is 87.85161119098615\n",
      "\n",
      "\n",
      "At Random state 194, Training score is 89.4967103514132\n",
      "At Random state 194, Testing score is 89.12517913351387\n",
      "\n",
      "\n",
      "At Random state 195, Training score is 90.73789468200002\n",
      "At Random state 195, Testing score is 84.4682080307516\n",
      "\n",
      "\n",
      "At Random state 196, Training score is 90.99354522639092\n",
      "At Random state 196, Testing score is 83.91685949571193\n",
      "\n",
      "\n",
      "At Random state 197, Training score is 89.98453581881135\n",
      "At Random state 197, Testing score is 85.4638629872095\n",
      "\n",
      "\n",
      "At Random state 198, Training score is 90.36479518016056\n",
      "At Random state 198, Testing score is 86.09100685026641\n",
      "\n",
      "\n",
      "At Random state 199, Training score is 90.62656269617561\n",
      "At Random state 199, Testing score is 83.75466880395099\n",
      "\n",
      "\n"
     ]
    }
   ],
   "source": [
    "#using range fucntion to find the best random state using Logestic regression\n",
    "for i in range(0,200):\n",
    "    x_train,x_test,y_train,y_test=train_test_split(x_scaler,y,test_size=0.25,random_state=i)\n",
    "    gbd.fit(x_train,y_train)\n",
    "    pred=gbd.predict(x_train)\n",
    "    y_pred=gbd.predict(x_test)\n",
    "    print(f'At Random state {i}, Training score is {metrics.r2_score(y_train,pred)*100}')\n",
    "    print(f'At Random state {i}, Testing score is {metrics.r2_score(y_test,y_pred)*100}')\n",
    "    print('\\n')"
   ]
  },
  {
   "cell_type": "markdown",
   "id": "301effa6",
   "metadata": {},
   "source": [
    "Taking the random state=1"
   ]
  },
  {
   "cell_type": "code",
   "execution_count": 721,
   "id": "01382071",
   "metadata": {},
   "outputs": [],
   "source": [
    "#since random state  has highest testing score,so taking random state as \n",
    "x_train,x_test,y_train,y_test=train_test_split(x,y,test_size=0.25,random_state=1)"
   ]
  },
  {
   "cell_type": "code",
   "execution_count": 722,
   "id": "3451dafd",
   "metadata": {},
   "outputs": [
    {
     "data": {
      "text/html": [
       "<style>#sk-container-id-20 {color: black;background-color: white;}#sk-container-id-20 pre{padding: 0;}#sk-container-id-20 div.sk-toggleable {background-color: white;}#sk-container-id-20 label.sk-toggleable__label {cursor: pointer;display: block;width: 100%;margin-bottom: 0;padding: 0.3em;box-sizing: border-box;text-align: center;}#sk-container-id-20 label.sk-toggleable__label-arrow:before {content: \"▸\";float: left;margin-right: 0.25em;color: #696969;}#sk-container-id-20 label.sk-toggleable__label-arrow:hover:before {color: black;}#sk-container-id-20 div.sk-estimator:hover label.sk-toggleable__label-arrow:before {color: black;}#sk-container-id-20 div.sk-toggleable__content {max-height: 0;max-width: 0;overflow: hidden;text-align: left;background-color: #f0f8ff;}#sk-container-id-20 div.sk-toggleable__content pre {margin: 0.2em;color: black;border-radius: 0.25em;background-color: #f0f8ff;}#sk-container-id-20 input.sk-toggleable__control:checked~div.sk-toggleable__content {max-height: 200px;max-width: 100%;overflow: auto;}#sk-container-id-20 input.sk-toggleable__control:checked~label.sk-toggleable__label-arrow:before {content: \"▾\";}#sk-container-id-20 div.sk-estimator input.sk-toggleable__control:checked~label.sk-toggleable__label {background-color: #d4ebff;}#sk-container-id-20 div.sk-label input.sk-toggleable__control:checked~label.sk-toggleable__label {background-color: #d4ebff;}#sk-container-id-20 input.sk-hidden--visually {border: 0;clip: rect(1px 1px 1px 1px);clip: rect(1px, 1px, 1px, 1px);height: 1px;margin: -1px;overflow: hidden;padding: 0;position: absolute;width: 1px;}#sk-container-id-20 div.sk-estimator {font-family: monospace;background-color: #f0f8ff;border: 1px dotted black;border-radius: 0.25em;box-sizing: border-box;margin-bottom: 0.5em;}#sk-container-id-20 div.sk-estimator:hover {background-color: #d4ebff;}#sk-container-id-20 div.sk-parallel-item::after {content: \"\";width: 100%;border-bottom: 1px solid gray;flex-grow: 1;}#sk-container-id-20 div.sk-label:hover label.sk-toggleable__label {background-color: #d4ebff;}#sk-container-id-20 div.sk-serial::before {content: \"\";position: absolute;border-left: 1px solid gray;box-sizing: border-box;top: 0;bottom: 0;left: 50%;z-index: 0;}#sk-container-id-20 div.sk-serial {display: flex;flex-direction: column;align-items: center;background-color: white;padding-right: 0.2em;padding-left: 0.2em;position: relative;}#sk-container-id-20 div.sk-item {position: relative;z-index: 1;}#sk-container-id-20 div.sk-parallel {display: flex;align-items: stretch;justify-content: center;background-color: white;position: relative;}#sk-container-id-20 div.sk-item::before, #sk-container-id-20 div.sk-parallel-item::before {content: \"\";position: absolute;border-left: 1px solid gray;box-sizing: border-box;top: 0;bottom: 0;left: 50%;z-index: -1;}#sk-container-id-20 div.sk-parallel-item {display: flex;flex-direction: column;z-index: 1;position: relative;background-color: white;}#sk-container-id-20 div.sk-parallel-item:first-child::after {align-self: flex-end;width: 50%;}#sk-container-id-20 div.sk-parallel-item:last-child::after {align-self: flex-start;width: 50%;}#sk-container-id-20 div.sk-parallel-item:only-child::after {width: 0;}#sk-container-id-20 div.sk-dashed-wrapped {border: 1px dashed gray;margin: 0 0.4em 0.5em 0.4em;box-sizing: border-box;padding-bottom: 0.4em;background-color: white;}#sk-container-id-20 div.sk-label label {font-family: monospace;font-weight: bold;display: inline-block;line-height: 1.2em;}#sk-container-id-20 div.sk-label-container {text-align: center;}#sk-container-id-20 div.sk-container {/* jupyter's `normalize.less` sets `[hidden] { display: none; }` but bootstrap.min.css set `[hidden] { display: none !important; }` so we also need the `!important` here to be able to override the default hidden behavior on the sphinx rendered scikit-learn.org. See: https://github.com/scikit-learn/scikit-learn/issues/21755 */display: inline-block !important;position: relative;}#sk-container-id-20 div.sk-text-repr-fallback {display: none;}</style><div id=\"sk-container-id-20\" class=\"sk-top-container\"><div class=\"sk-text-repr-fallback\"><pre>GradientBoostingRegressor()</pre><b>In a Jupyter environment, please rerun this cell to show the HTML representation or trust the notebook. <br />On GitHub, the HTML representation is unable to render, please try loading this page with nbviewer.org.</b></div><div class=\"sk-container\" hidden><div class=\"sk-item\"><div class=\"sk-estimator sk-toggleable\"><input class=\"sk-toggleable__control sk-hidden--visually\" id=\"sk-estimator-id-22\" type=\"checkbox\" checked><label for=\"sk-estimator-id-22\" class=\"sk-toggleable__label sk-toggleable__label-arrow\">GradientBoostingRegressor</label><div class=\"sk-toggleable__content\"><pre>GradientBoostingRegressor()</pre></div></div></div></div></div>"
      ],
      "text/plain": [
       "GradientBoostingRegressor()"
      ]
     },
     "execution_count": 722,
     "metadata": {},
     "output_type": "execute_result"
    }
   ],
   "source": [
    "#Training the Model\n",
    "gbd.fit(x_train,y_train)"
   ]
  },
  {
   "cell_type": "code",
   "execution_count": 723,
   "id": "1dc5c632",
   "metadata": {},
   "outputs": [],
   "source": [
    "pred=gbd.predict(x_train)\n",
    "y_pred=gbd.predict(x_test)"
   ]
  },
  {
   "cell_type": "code",
   "execution_count": 724,
   "id": "30b402de",
   "metadata": {},
   "outputs": [
    {
     "name": "stdout",
     "output_type": "stream",
     "text": [
      "\n",
      " Training Score: 90.25182556893816\n",
      "\n",
      " Testing Score: 87.05779927528269\n"
     ]
    }
   ],
   "source": [
    "#Printing the training and testing score\n",
    "print('\\n Training Score:',metrics.r2_score(y_train,pred)*100)\n",
    "print('\\n Testing Score:',metrics.r2_score(y_test,y_pred)*100)"
   ]
  },
  {
   "cell_type": "code",
   "execution_count": 725,
   "id": "f5be58c3",
   "metadata": {},
   "outputs": [],
   "source": [
    "train_accuracy=metrics.r2_score(y_train,pred)\n",
    "test_accuracy=metrics.r2_score(y_test,y_pred)"
   ]
  },
  {
   "cell_type": "code",
   "execution_count": 726,
   "id": "9cd6d123",
   "metadata": {},
   "outputs": [
    {
     "name": "stdout",
     "output_type": "stream",
     "text": [
      "at cross fold 2 the cv score is0.8462708445684473and accuracy for the testing is 0.8705779927528269\n",
      "\n",
      "\n",
      "at cross fold 3 the cv score is0.85078081131044and accuracy for the testing is 0.8705779927528269\n",
      "\n",
      "\n",
      "at cross fold 4 the cv score is0.8486562027981075and accuracy for the testing is 0.8705779927528269\n",
      "\n",
      "\n",
      "at cross fold 5 the cv score is0.8531443715557101and accuracy for the testing is 0.8705779927528269\n",
      "\n",
      "\n"
     ]
    }
   ],
   "source": [
    "#Checking cross validation score for linear Regression\n",
    "for j in range(2,6):\n",
    "    cv_score=cross_val_score(gbd,x_scaler,y,cv=j)\n",
    "    cv_mean=cv_score.mean()\n",
    "    print(f'at cross fold {j} the cv score is{cv_mean}and accuracy for the testing is {test_accuracy}')\n",
    "    print('\\n')"
   ]
  },
  {
   "cell_type": "markdown",
   "id": "47ef5f09",
   "metadata": {},
   "source": [
    "By looking at the output i will be talking cv=5."
   ]
  },
  {
   "cell_type": "code",
   "execution_count": 727,
   "id": "0464442c",
   "metadata": {},
   "outputs": [
    {
     "data": {
      "text/plain": [
       "2579.426838730397"
      ]
     },
     "execution_count": 727,
     "metadata": {},
     "output_type": "execute_result"
    }
   ],
   "source": [
    "#mean absolute error\n",
    "mean_absolute_error(y_test,y_pred)"
   ]
  },
  {
   "cell_type": "code",
   "execution_count": 728,
   "id": "7f5ec488",
   "metadata": {},
   "outputs": [
    {
     "data": {
      "text/plain": [
       "21219116.02940905"
      ]
     },
     "execution_count": 728,
     "metadata": {},
     "output_type": "execute_result"
    }
   ],
   "source": [
    "#mean squared error\n",
    "mean_squared_error(y_test,y_pred)"
   ]
  },
  {
   "cell_type": "code",
   "execution_count": 729,
   "id": "038e0946",
   "metadata": {},
   "outputs": [
    {
     "data": {
      "text/plain": [
       "4606.421173688859"
      ]
     },
     "execution_count": 729,
     "metadata": {},
     "output_type": "execute_result"
    }
   ],
   "source": [
    "#Root mean squared error\n",
    "np.sqrt(mean_squared_error(y_test,y_pred))"
   ]
  },
  {
   "cell_type": "code",
   "execution_count": 730,
   "id": "926614b9",
   "metadata": {},
   "outputs": [
    {
     "data": {
      "image/png": "[encoded data removed]",
      "text/plain": [
       "<Figure size 576x432 with 1 Axes>"
      ]
     },
     "metadata": {
      "needs_background": "light"
     },
     "output_type": "display_data"
    }
   ],
   "source": [
    "#Plotting the best fit line\n",
    "plt.figure(figsize=(8,6))\n",
    "plt.scatter(x=y_test,y=y_pred,color='red')\n",
    "plt.plot(y_test,y_test,color='blue')\n",
    "plt.xlabel('Actual Charges',fontsize=10)\n",
    "plt.ylabel('Predicted Charges',fontsize=10)\n",
    "plt.show()"
   ]
  },
  {
   "cell_type": "code",
   "execution_count": 773,
   "id": "c6cc5f6a",
   "metadata": {},
   "outputs": [
    {
     "data": {
      "text/html": [
       "<div>\n",
       "<style scoped>\n",
       "    .dataframe tbody tr th:only-of-type {\n",
       "        vertical-align: middle;\n",
       "    }\n",
       "\n",
       "    .dataframe tbody tr th {\n",
       "        vertical-align: top;\n",
       "    }\n",
       "\n",
       "    .dataframe thead th {\n",
       "        text-align: right;\n",
       "    }\n",
       "</style>\n",
       "<table border=\"1\" class=\"dataframe\">\n",
       "  <thead>\n",
       "    <tr style=\"text-align: right;\">\n",
       "      <th></th>\n",
       "      <th>Models</th>\n",
       "      <th>Training Score</th>\n",
       "      <th>Testing Score</th>\n",
       "      <th>Cross Val Score</th>\n",
       "      <th>RMSE</th>\n",
       "    </tr>\n",
       "  </thead>\n",
       "  <tbody>\n",
       "    <tr>\n",
       "      <th>0</th>\n",
       "      <td>Linear Regression</td>\n",
       "      <td>74.99</td>\n",
       "      <td>74.76</td>\n",
       "      <td>74.64</td>\n",
       "      <td>5798.64</td>\n",
       "    </tr>\n",
       "    <tr>\n",
       "      <th>1</th>\n",
       "      <td>Random Forest</td>\n",
       "      <td>97.31</td>\n",
       "      <td>86.86</td>\n",
       "      <td>83.36</td>\n",
       "      <td>4280.96</td>\n",
       "    </tr>\n",
       "    <tr>\n",
       "      <th>2</th>\n",
       "      <td>Ada Boost</td>\n",
       "      <td>83.63</td>\n",
       "      <td>81.10</td>\n",
       "      <td>80.88</td>\n",
       "      <td>5383.39</td>\n",
       "    </tr>\n",
       "    <tr>\n",
       "      <th>3</th>\n",
       "      <td>Gradient Boosting</td>\n",
       "      <td>90.87</td>\n",
       "      <td>87.05</td>\n",
       "      <td>85.31</td>\n",
       "      <td>4606.42</td>\n",
       "    </tr>\n",
       "  </tbody>\n",
       "</table>\n",
       "</div>"
      ],
      "text/plain": [
       "              Models  Training Score  Testing Score  Cross Val Score     RMSE\n",
       "0  Linear Regression           74.99          74.76            74.64  5798.64\n",
       "1      Random Forest           97.31          86.86            83.36  4280.96\n",
       "2          Ada Boost           83.63          81.10            80.88  5383.39\n",
       "3  Gradient Boosting           90.87          87.05            85.31  4606.42"
      ]
     },
     "execution_count": 773,
     "metadata": {},
     "output_type": "execute_result"
    }
   ],
   "source": [
    "#Making Dataframe of all models\n",
    "models=pd.DataFrame({\n",
    "    'Models':['Linear Regression','Random Forest','Ada Boost','Gradient Boosting'],\n",
    "    'Training Score':[74.99,97.31,83.63,90.87],\n",
    "    'Testing Score':[74.76,86.86,81.10,87.05],\n",
    "    'Cross Val Score':[74.64,83.36,80.88,85.31],\n",
    "    'RMSE':[5798.64,4280.96,5383.39,4606.42]\n",
    "     })\n",
    "models\n",
    "    "
   ]
  },
  {
   "cell_type": "markdown",
   "id": "35fa2378",
   "metadata": {},
   "source": [
    "Since the RMSE score is less for random forest i will go with model Random Forest Classifier"
   ]
  },
  {
   "cell_type": "code",
   "execution_count": 774,
   "id": "f6b88bb5",
   "metadata": {},
   "outputs": [],
   "source": [
    "#Using Grid Search cv for hyperparameter tuning for RandomForestClassifier\n",
    "from sklearn.model_selection import GridSearchCV"
   ]
  },
  {
   "cell_type": "code",
   "execution_count": 775,
   "id": "a50beb5c",
   "metadata": {},
   "outputs": [],
   "source": [
    "param_grid=({\n",
    "    'n_estimators': [200, 500],\n",
    "    'max_features': ['auto', 'sqrt', 'log2'],\n",
    "    'max_depth' : [4,5,6,7,8],\n",
    "    'criterion' :['mse', 'mae']\n",
    "})"
   ]
  },
  {
   "cell_type": "code",
   "execution_count": 776,
   "id": "b0359c47",
   "metadata": {},
   "outputs": [],
   "source": [
    "grid_search=GridSearchCV(rf,param_grid=param_grid,cv=5)"
   ]
  },
  {
   "cell_type": "code",
   "execution_count": 777,
   "id": "0360acab",
   "metadata": {},
   "outputs": [
    {
     "data": {
      "text/html": [
       "<style>#sk-container-id-34 {color: black;background-color: white;}#sk-container-id-34 pre{padding: 0;}#sk-container-id-34 div.sk-toggleable {background-color: white;}#sk-container-id-34 label.sk-toggleable__label {cursor: pointer;display: block;width: 100%;margin-bottom: 0;padding: 0.3em;box-sizing: border-box;text-align: center;}#sk-container-id-34 label.sk-toggleable__label-arrow:before {content: \"▸\";float: left;margin-right: 0.25em;color: #696969;}#sk-container-id-34 label.sk-toggleable__label-arrow:hover:before {color: black;}#sk-container-id-34 div.sk-estimator:hover label.sk-toggleable__label-arrow:before {color: black;}#sk-container-id-34 div.sk-toggleable__content {max-height: 0;max-width: 0;overflow: hidden;text-align: left;background-color: #f0f8ff;}#sk-container-id-34 div.sk-toggleable__content pre {margin: 0.2em;color: black;border-radius: 0.25em;background-color: #f0f8ff;}#sk-container-id-34 input.sk-toggleable__control:checked~div.sk-toggleable__content {max-height: 200px;max-width: 100%;overflow: auto;}#sk-container-id-34 input.sk-toggleable__control:checked~label.sk-toggleable__label-arrow:before {content: \"▾\";}#sk-container-id-34 div.sk-estimator input.sk-toggleable__control:checked~label.sk-toggleable__label {background-color: #d4ebff;}#sk-container-id-34 div.sk-label input.sk-toggleable__control:checked~label.sk-toggleable__label {background-color: #d4ebff;}#sk-container-id-34 input.sk-hidden--visually {border: 0;clip: rect(1px 1px 1px 1px);clip: rect(1px, 1px, 1px, 1px);height: 1px;margin: -1px;overflow: hidden;padding: 0;position: absolute;width: 1px;}#sk-container-id-34 div.sk-estimator {font-family: monospace;background-color: #f0f8ff;border: 1px dotted black;border-radius: 0.25em;box-sizing: border-box;margin-bottom: 0.5em;}#sk-container-id-34 div.sk-estimator:hover {background-color: #d4ebff;}#sk-container-id-34 div.sk-parallel-item::after {content: \"\";width: 100%;border-bottom: 1px solid gray;flex-grow: 1;}#sk-container-id-34 div.sk-label:hover label.sk-toggleable__label {background-color: #d4ebff;}#sk-container-id-34 div.sk-serial::before {content: \"\";position: absolute;border-left: 1px solid gray;box-sizing: border-box;top: 0;bottom: 0;left: 50%;z-index: 0;}#sk-container-id-34 div.sk-serial {display: flex;flex-direction: column;align-items: center;background-color: white;padding-right: 0.2em;padding-left: 0.2em;position: relative;}#sk-container-id-34 div.sk-item {position: relative;z-index: 1;}#sk-container-id-34 div.sk-parallel {display: flex;align-items: stretch;justify-content: center;background-color: white;position: relative;}#sk-container-id-34 div.sk-item::before, #sk-container-id-34 div.sk-parallel-item::before {content: \"\";position: absolute;border-left: 1px solid gray;box-sizing: border-box;top: 0;bottom: 0;left: 50%;z-index: -1;}#sk-container-id-34 div.sk-parallel-item {display: flex;flex-direction: column;z-index: 1;position: relative;background-color: white;}#sk-container-id-34 div.sk-parallel-item:first-child::after {align-self: flex-end;width: 50%;}#sk-container-id-34 div.sk-parallel-item:last-child::after {align-self: flex-start;width: 50%;}#sk-container-id-34 div.sk-parallel-item:only-child::after {width: 0;}#sk-container-id-34 div.sk-dashed-wrapped {border: 1px dashed gray;margin: 0 0.4em 0.5em 0.4em;box-sizing: border-box;padding-bottom: 0.4em;background-color: white;}#sk-container-id-34 div.sk-label label {font-family: monospace;font-weight: bold;display: inline-block;line-height: 1.2em;}#sk-container-id-34 div.sk-label-container {text-align: center;}#sk-container-id-34 div.sk-container {/* jupyter's `normalize.less` sets `[hidden] { display: none; }` but bootstrap.min.css set `[hidden] { display: none !important; }` so we also need the `!important` here to be able to override the default hidden behavior on the sphinx rendered scikit-learn.org. See: https://github.com/scikit-learn/scikit-learn/issues/21755 */display: inline-block !important;position: relative;}#sk-container-id-34 div.sk-text-repr-fallback {display: none;}</style><div id=\"sk-container-id-34\" class=\"sk-top-container\"><div class=\"sk-text-repr-fallback\"><pre>GridSearchCV(cv=5, estimator=RandomForestRegressor(),\n",
       "             param_grid={&#x27;criterion&#x27;: [&#x27;mse&#x27;, &#x27;mae&#x27;],\n",
       "                         &#x27;max_depth&#x27;: [4, 5, 6, 7, 8],\n",
       "                         &#x27;max_features&#x27;: [&#x27;auto&#x27;, &#x27;sqrt&#x27;, &#x27;log2&#x27;],\n",
       "                         &#x27;n_estimators&#x27;: [200, 500]})</pre><b>In a Jupyter environment, please rerun this cell to show the HTML representation or trust the notebook. <br />On GitHub, the HTML representation is unable to render, please try loading this page with nbviewer.org.</b></div><div class=\"sk-container\" hidden><div class=\"sk-item sk-dashed-wrapped\"><div class=\"sk-label-container\"><div class=\"sk-label sk-toggleable\"><input class=\"sk-toggleable__control sk-hidden--visually\" id=\"sk-estimator-id-38\" type=\"checkbox\" ><label for=\"sk-estimator-id-38\" class=\"sk-toggleable__label sk-toggleable__label-arrow\">GridSearchCV</label><div class=\"sk-toggleable__content\"><pre>GridSearchCV(cv=5, estimator=RandomForestRegressor(),\n",
       "             param_grid={&#x27;criterion&#x27;: [&#x27;mse&#x27;, &#x27;mae&#x27;],\n",
       "                         &#x27;max_depth&#x27;: [4, 5, 6, 7, 8],\n",
       "                         &#x27;max_features&#x27;: [&#x27;auto&#x27;, &#x27;sqrt&#x27;, &#x27;log2&#x27;],\n",
       "                         &#x27;n_estimators&#x27;: [200, 500]})</pre></div></div></div><div class=\"sk-parallel\"><div class=\"sk-parallel-item\"><div class=\"sk-item\"><div class=\"sk-label-container\"><div class=\"sk-label sk-toggleable\"><input class=\"sk-toggleable__control sk-hidden--visually\" id=\"sk-estimator-id-39\" type=\"checkbox\" ><label for=\"sk-estimator-id-39\" class=\"sk-toggleable__label sk-toggleable__label-arrow\">estimator: RandomForestRegressor</label><div class=\"sk-toggleable__content\"><pre>RandomForestRegressor()</pre></div></div></div><div class=\"sk-serial\"><div class=\"sk-item\"><div class=\"sk-estimator sk-toggleable\"><input class=\"sk-toggleable__control sk-hidden--visually\" id=\"sk-estimator-id-40\" type=\"checkbox\" ><label for=\"sk-estimator-id-40\" class=\"sk-toggleable__label sk-toggleable__label-arrow\">RandomForestRegressor</label><div class=\"sk-toggleable__content\"><pre>RandomForestRegressor()</pre></div></div></div></div></div></div></div></div></div></div>"
      ],
      "text/plain": [
       "GridSearchCV(cv=5, estimator=RandomForestRegressor(),\n",
       "             param_grid={'criterion': ['mse', 'mae'],\n",
       "                         'max_depth': [4, 5, 6, 7, 8],\n",
       "                         'max_features': ['auto', 'sqrt', 'log2'],\n",
       "                         'n_estimators': [200, 500]})"
      ]
     },
     "execution_count": 777,
     "metadata": {},
     "output_type": "execute_result"
    }
   ],
   "source": [
    "#Training\n",
    "grid_search.fit(x_train,y_train)"
   ]
  },
  {
   "cell_type": "code",
   "execution_count": 778,
   "id": "644df658",
   "metadata": {},
   "outputs": [
    {
     "data": {
      "text/plain": [
       "{'criterion': 'mse',\n",
       " 'max_depth': 4,\n",
       " 'max_features': 'auto',\n",
       " 'n_estimators': 200}"
      ]
     },
     "execution_count": 778,
     "metadata": {},
     "output_type": "execute_result"
    }
   ],
   "source": [
    "#best Parameters\n",
    "grid_search.best_params_ "
   ]
  },
  {
   "cell_type": "code",
   "execution_count": 779,
   "id": "d8a6fe82",
   "metadata": {},
   "outputs": [
    {
     "data": {
      "text/html": [
       "<style>#sk-container-id-35 {color: black;background-color: white;}#sk-container-id-35 pre{padding: 0;}#sk-container-id-35 div.sk-toggleable {background-color: white;}#sk-container-id-35 label.sk-toggleable__label {cursor: pointer;display: block;width: 100%;margin-bottom: 0;padding: 0.3em;box-sizing: border-box;text-align: center;}#sk-container-id-35 label.sk-toggleable__label-arrow:before {content: \"▸\";float: left;margin-right: 0.25em;color: #696969;}#sk-container-id-35 label.sk-toggleable__label-arrow:hover:before {color: black;}#sk-container-id-35 div.sk-estimator:hover label.sk-toggleable__label-arrow:before {color: black;}#sk-container-id-35 div.sk-toggleable__content {max-height: 0;max-width: 0;overflow: hidden;text-align: left;background-color: #f0f8ff;}#sk-container-id-35 div.sk-toggleable__content pre {margin: 0.2em;color: black;border-radius: 0.25em;background-color: #f0f8ff;}#sk-container-id-35 input.sk-toggleable__control:checked~div.sk-toggleable__content {max-height: 200px;max-width: 100%;overflow: auto;}#sk-container-id-35 input.sk-toggleable__control:checked~label.sk-toggleable__label-arrow:before {content: \"▾\";}#sk-container-id-35 div.sk-estimator input.sk-toggleable__control:checked~label.sk-toggleable__label {background-color: #d4ebff;}#sk-container-id-35 div.sk-label input.sk-toggleable__control:checked~label.sk-toggleable__label {background-color: #d4ebff;}#sk-container-id-35 input.sk-hidden--visually {border: 0;clip: rect(1px 1px 1px 1px);clip: rect(1px, 1px, 1px, 1px);height: 1px;margin: -1px;overflow: hidden;padding: 0;position: absolute;width: 1px;}#sk-container-id-35 div.sk-estimator {font-family: monospace;background-color: #f0f8ff;border: 1px dotted black;border-radius: 0.25em;box-sizing: border-box;margin-bottom: 0.5em;}#sk-container-id-35 div.sk-estimator:hover {background-color: #d4ebff;}#sk-container-id-35 div.sk-parallel-item::after {content: \"\";width: 100%;border-bottom: 1px solid gray;flex-grow: 1;}#sk-container-id-35 div.sk-label:hover label.sk-toggleable__label {background-color: #d4ebff;}#sk-container-id-35 div.sk-serial::before {content: \"\";position: absolute;border-left: 1px solid gray;box-sizing: border-box;top: 0;bottom: 0;left: 50%;z-index: 0;}#sk-container-id-35 div.sk-serial {display: flex;flex-direction: column;align-items: center;background-color: white;padding-right: 0.2em;padding-left: 0.2em;position: relative;}#sk-container-id-35 div.sk-item {position: relative;z-index: 1;}#sk-container-id-35 div.sk-parallel {display: flex;align-items: stretch;justify-content: center;background-color: white;position: relative;}#sk-container-id-35 div.sk-item::before, #sk-container-id-35 div.sk-parallel-item::before {content: \"\";position: absolute;border-left: 1px solid gray;box-sizing: border-box;top: 0;bottom: 0;left: 50%;z-index: -1;}#sk-container-id-35 div.sk-parallel-item {display: flex;flex-direction: column;z-index: 1;position: relative;background-color: white;}#sk-container-id-35 div.sk-parallel-item:first-child::after {align-self: flex-end;width: 50%;}#sk-container-id-35 div.sk-parallel-item:last-child::after {align-self: flex-start;width: 50%;}#sk-container-id-35 div.sk-parallel-item:only-child::after {width: 0;}#sk-container-id-35 div.sk-dashed-wrapped {border: 1px dashed gray;margin: 0 0.4em 0.5em 0.4em;box-sizing: border-box;padding-bottom: 0.4em;background-color: white;}#sk-container-id-35 div.sk-label label {font-family: monospace;font-weight: bold;display: inline-block;line-height: 1.2em;}#sk-container-id-35 div.sk-label-container {text-align: center;}#sk-container-id-35 div.sk-container {/* jupyter's `normalize.less` sets `[hidden] { display: none; }` but bootstrap.min.css set `[hidden] { display: none !important; }` so we also need the `!important` here to be able to override the default hidden behavior on the sphinx rendered scikit-learn.org. See: https://github.com/scikit-learn/scikit-learn/issues/21755 */display: inline-block !important;position: relative;}#sk-container-id-35 div.sk-text-repr-fallback {display: none;}</style><div id=\"sk-container-id-35\" class=\"sk-top-container\"><div class=\"sk-text-repr-fallback\"><pre>RandomForestRegressor(criterion=&#x27;mse&#x27;, max_depth=4, max_features=&#x27;auto&#x27;,\n",
       "                      n_estimators=200)</pre><b>In a Jupyter environment, please rerun this cell to show the HTML representation or trust the notebook. <br />On GitHub, the HTML representation is unable to render, please try loading this page with nbviewer.org.</b></div><div class=\"sk-container\" hidden><div class=\"sk-item\"><div class=\"sk-estimator sk-toggleable\"><input class=\"sk-toggleable__control sk-hidden--visually\" id=\"sk-estimator-id-41\" type=\"checkbox\" checked><label for=\"sk-estimator-id-41\" class=\"sk-toggleable__label sk-toggleable__label-arrow\">RandomForestRegressor</label><div class=\"sk-toggleable__content\"><pre>RandomForestRegressor(criterion=&#x27;mse&#x27;, max_depth=4, max_features=&#x27;auto&#x27;,\n",
       "                      n_estimators=200)</pre></div></div></div></div></div>"
      ],
      "text/plain": [
       "RandomForestRegressor(criterion='mse', max_depth=4, max_features='auto',\n",
       "                      n_estimators=200)"
      ]
     },
     "execution_count": 779,
     "metadata": {},
     "output_type": "execute_result"
    }
   ],
   "source": [
    "#Training with the best parameters\n",
    "rf=RandomForestRegressor(criterion='mse',max_depth=4,max_features='auto',n_estimators=200)\n",
    "rf.fit(x_train,y_train)"
   ]
  },
  {
   "cell_type": "code",
   "execution_count": 780,
   "id": "c7167dda",
   "metadata": {},
   "outputs": [
    {
     "name": "stdout",
     "output_type": "stream",
     "text": [
      "\n",
      " Training Score: 97.36182632695099\n",
      "\n",
      " Testing Score: 86.86612255466152\n"
     ]
    }
   ],
   "source": [
    "#Printing the training and testing score\n",
    "print('\\n Training Score:',metrics.r2_score(y_train,pred)*100)\n",
    "print('\\n Testing Score:',metrics.r2_score(y_test,y_pred)*100)"
   ]
  },
  {
   "cell_type": "code",
   "execution_count": 781,
   "id": "d1ae7a82",
   "metadata": {},
   "outputs": [
    {
     "data": {
      "text/plain": [
       "0.8532421224397444"
      ]
     },
     "execution_count": 781,
     "metadata": {},
     "output_type": "execute_result"
    }
   ],
   "source": [
    "#Cross validation SCore\n",
    "cv_score=cross_val_score(gbd,x_scaler,y,cv=5).mean()\n",
    "cv_score"
   ]
  },
  {
   "cell_type": "markdown",
   "id": "040cdce6",
   "metadata": {},
   "source": [
    "Since there is no more of difference between r2(testing score) and cross validation score this model is good"
   ]
  },
  {
   "cell_type": "code",
   "execution_count": 782,
   "id": "177831b6",
   "metadata": {},
   "outputs": [],
   "source": [
    "#saving the model\n",
    "#Importing required libraries\n",
    "import pickle\n",
    "pickle.dump(rf,open('Medical Cost Insurance','wb'))"
   ]
  },
  {
   "cell_type": "code",
   "execution_count": null,
   "id": "b0e4e75b",
   "metadata": {},
   "outputs": [],
   "source": []
  }
 ],
 "metadata": {
  "kernelspec": {
   "display_name": "Python 3 (ipykernel)",
   "language": "python",
   "name": "python3"
  },
  "language_info": {
   "codemirror_mode": {
    "name": "ipython",
    "version": 3
   },
   "file_extension": ".py",
   "mimetype": "text/x-python",
   "name": "python",
   "nbconvert_exporter": "python",
   "pygments_lexer": "ipython3",
   "version": "3.9.12"
  }
 },
 "nbformat": 4,
 "nbformat_minor": 5
}
